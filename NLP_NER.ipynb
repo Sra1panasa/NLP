{
  "nbformat": 4,
  "nbformat_minor": 0,
  "metadata": {
    "colab": {
      "name": "Untitled9.ipynb",
      "provenance": [],
      "authorship_tag": "ABX9TyMy4QUWhYW8c7B3LZ2KFjgm",
      "include_colab_link": true
    },
    "kernelspec": {
      "name": "python3",
      "display_name": "Python 3"
    },
    "language_info": {
      "name": "python"
    }
  },
  "cells": [
    {
      "cell_type": "markdown",
      "metadata": {
        "id": "view-in-github",
        "colab_type": "text"
      },
      "source": [
        "<a href=\"https://colab.research.google.com/github/Sra1panasa/NLP/blob/main/NLP_NER.ipynb\" target=\"_parent\"><img src=\"https://colab.research.google.com/assets/colab-badge.svg\" alt=\"Open In Colab\"/></a>"
      ]
    },
    {
      "cell_type": "markdown",
      "source": [
        "**Named entity recognition (NER):**\n",
        "\n",
        "* **In any text data, the procedure of finding or recognizing the named entity can be called the named entity recognition and after recognizing the named entity we can classify them into different classes**.\n",
        "\n",
        "* **Knowledge graph is about collecting information about objects in the real world. The object could be a person, a book, a movie, or anything else. Another example would be that a team at Google gave in a video explaining Knowledge Graphs. They said that if we want to know how many women have won the Nobel prize, Google can do a better job at understanding what it is exactly what we are searching for**\n",
        "\n",
        "* must visit below site.\n",
        "  https://analyticsindiamag.com/hands-on-guide-to-building-knowledge-graph-for-named-entity-recognition/\n",
        "\n",
        "  https://www.kaggle.com/pavansanagapati/knowledge-graph-nlp-tutorial-bert-spacy-nltk\n",
        "\n",
        "* **Named entity recognition (NER) helps to easily identify the key elements in a text, like names of people, places, brands, monetary values, and more**\n",
        "* Extracting the main entities in a text helps sort unstructured data and detect important information, which is crucial if you have to deal with large datasets.\n",
        "\n",
        "* **Named entity recognition (NER) ‒ also called entity identification or entity extraction ‒ is a natural language processing (NLP) technique that automatically identifies named entities in a text and classifies them into predefined categories. Entities can be names of people, organizations, locations, times, quantities, monetary values, percentages, and more.**\n",
        "\n",
        "* ***Building a highly accurate NER algorithm requires a vast understanding of math, machine learning & image processing. Alternatively, using popular frameworks like PyTorch and Tensorflow and a few pre-trained models, we can build a Named Entity Recognition algorithm from custom data.***\n",
        "\n",
        "**How Does Named Entity Recognition Work?**\n",
        "\n",
        "* When we read a text, we naturally recognize named entities like people, values, locations, and so on. For example, in the sentence “Mark Zuckerberg is one of the founders of Facebook, a company from the United States” we can identify three types of entities:\n",
        "\n",
        " “Person”: Mark Zuckerberg\n",
        "\n",
        " “Company”: Facebook\n",
        "\n",
        " “Location”: United States\n",
        "\n",
        "* For computers, however, we need to help them recognize entities first so that they can categorize them.\n",
        "\n",
        "* This is done through machine learning and Natural Language Processing (NLP).NLP studies the structure and rules of language and creates intelligent systems capable of deriving meaning from text and speech, while machine learning helps machines learn and improve over time.\n",
        "\n",
        "* To learn what an entity is, an NER model needs to be able to detect a word, or string of words that form an entity (e.g. New York City), and know which entity category it belongs to.\n",
        "\n",
        "* So first, we need to create entity categories, like Name, Location, Event, Organization, etc., and feed an NER model relevant training data. Then, by tagging some word and phrase samples with their corresponding entities, you’ll eventually teach your NER model how to detect entities itself.\n",
        "\n"
      ],
      "metadata": {
        "id": "wWbO-mgAmStf"
      }
    },
    {
      "cell_type": "markdown",
      "source": [
        "**Real time usages of NER:**\n",
        "\n",
        "* Support Chatbots\n",
        "> NER for Medical Purposes\n",
        "  Extracting valuable information from biomedical literature has gained popularity among researchers. Furthermore, **deep learning has boosted the development of effective biomedical text mining models**. Thanks to NER and Information Extraction, we can now easily identify important terms in medical reports.\n",
        "* Categorize Tickets in Customer Support\n",
        "* Gain Insights from Customer Feedback\n",
        "* Content Recommendation\n",
        "Many modern applications (like Netflix and YouTube) rely on recommendation systems to create optimal customer experiences.\n",
        "* Process Resumes\n",
        "[link text](https://monkeylearn.com/blog/named-entity-recognition/)\n",
        "\n"
      ],
      "metadata": {
        "id": "paLH9SzWw8E8"
      }
    },
    {
      "cell_type": "markdown",
      "source": [
        "**How to Build or Train NER Model**\n",
        "\n",
        "* Below are the some of the techniques or approaches with which we can build NER model.\n",
        "\n",
        "  1) NLTK\n",
        "\n",
        "  2)Spacy\n",
        "\n",
        "* Latest approaches with some state of art models.\n",
        "\n",
        "  1) BERT- Inspired by ELMO and GPT pre-trained models\n",
        "\n",
        "  \n",
        "\n",
        "\n"
      ],
      "metadata": {
        "id": "GVJJTJ4e3xi9"
      }
    }
  ]
}