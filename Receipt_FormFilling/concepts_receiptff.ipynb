{
  "nbformat": 4,
  "nbformat_minor": 0,
  "metadata": {
    "colab": {
      "name": "Untitled20.ipynb",
      "provenance": [],
      "authorship_tag": "ABX9TyP4812eXDVPD8foFFRoIjvP",
      "include_colab_link": true
    },
    "kernelspec": {
      "name": "python3",
      "display_name": "Python 3"
    },
    "language_info": {
      "name": "python"
    }
  },
  "cells": [
    {
      "cell_type": "markdown",
      "metadata": {
        "id": "view-in-github",
        "colab_type": "text"
      },
      "source": [
        "<a href=\"https://colab.research.google.com/github/Sra1panasa/NLP/blob/main/Receipt_FormFilling/concepts_receiptff.ipynb\" target=\"_parent\"><img src=\"https://colab.research.google.com/assets/colab-badge.svg\" alt=\"Open In Colab\"/></a>"
      ]
    },
    {
      "cell_type": "markdown",
      "source": [
        "**Concepts_receipt_FormFilling:**\n",
        "\n",
        "**Tokenizer**\n",
        "* A tokenizer is in charge of preparing the inputs for a model. The **library contains tokenizers for all the models**"
      ],
      "metadata": {
        "id": "RWfwCaqkUeO6"
      }
    },
    {
      "cell_type": "markdown",
      "source": [
        ""
      ],
      "metadata": {
        "id": "c-vWCI_oVz3n"
      }
    }
  ]
}