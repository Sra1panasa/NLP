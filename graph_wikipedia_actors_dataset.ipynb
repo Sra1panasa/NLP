{
  "cells": [
    {
      "cell_type": "markdown",
      "metadata": {
        "id": "view-in-github",
        "colab_type": "text"
      },
      "source": [
        "<a href=\"https://colab.research.google.com/github/Sra1panasa/NLP/blob/main/graph_wikipedia_actors_dataset.ipynb\" target=\"_parent\"><img src=\"https://colab.research.google.com/assets/colab-badge.svg\" alt=\"Open In Colab\"/></a>"
      ]
    },
    {
      "cell_type": "markdown",
      "metadata": {
        "id": "F-GUdA_2rw39"
      },
      "source": [
        "**Representation of Knowledge in a Graph:**\n",
        "\n"
      ]
    },
    {
      "cell_type": "code",
      "execution_count": null,
      "metadata": {
        "colab": {
          "base_uri": "https://localhost:8080/"
        },
        "id": "YMLrrvKFuE_z",
        "outputId": "3ddc9be4-a0d0-4cda-b719-7b2939173de1"
      },
      "outputs": [
        {
          "name": "stdout",
          "output_type": "stream",
          "text": [
            "Drive already mounted at /content/drive; to attempt to forcibly remount, call drive.mount(\"/content/drive\", force_remount=True).\n"
          ]
        }
      ],
      "source": [
        "from google.colab import drive\n",
        "drive.mount('/content/drive')"
      ]
    },
    {
      "cell_type": "code",
      "execution_count": null,
      "metadata": {
        "colab": {
          "base_uri": "https://localhost:8080/"
        },
        "id": "D9T0id5YulRQ",
        "outputId": "ab082f9d-8abd-49e2-d7fb-18e3f23bb0f8"
      },
      "outputs": [
        {
          "name": "stdout",
          "output_type": "stream",
          "text": [
            "/content\n",
            "/content/drive/MyDrive/NER_Graphs\n",
            "/content/drive/MyDrive/NER_Graphs\n"
          ]
        }
      ],
      "source": [
        "!pwd\n",
        "%cd /content/drive/MyDrive/NER_Graphs/\n",
        "!pwd"
      ]
    },
    {
      "cell_type": "code",
      "execution_count": 7,
      "metadata": {
        "colab": {
          "base_uri": "https://localhost:8080/",
          "height": 363
        },
        "id": "4F7Tk007u-ZE",
        "outputId": "2967d75b-e7aa-4c6c-90e1-9f37ba190821"
      },
      "outputs": [
        {
          "output_type": "execute_result",
          "data": {
            "text/html": [
              "\n",
              "  <div id=\"df-a479f5c4-83a0-42e6-aa1e-29d504de107a\">\n",
              "    <div class=\"colab-df-container\">\n",
              "      <div>\n",
              "<style scoped>\n",
              "    .dataframe tbody tr th:only-of-type {\n",
              "        vertical-align: middle;\n",
              "    }\n",
              "\n",
              "    .dataframe tbody tr th {\n",
              "        vertical-align: top;\n",
              "    }\n",
              "\n",
              "    .dataframe thead th {\n",
              "        text-align: right;\n",
              "    }\n",
              "</style>\n",
              "<table border=\"1\" class=\"dataframe\">\n",
              "  <thead>\n",
              "    <tr style=\"text-align: right;\">\n",
              "      <th></th>\n",
              "      <th>sentence</th>\n",
              "    </tr>\n",
              "  </thead>\n",
              "  <tbody>\n",
              "    <tr>\n",
              "      <th>0</th>\n",
              "      <td>confused and frustrated, connie decides to lea...</td>\n",
              "    </tr>\n",
              "    <tr>\n",
              "      <th>1</th>\n",
              "      <td>later, a woman’s scream is heard in the distance.</td>\n",
              "    </tr>\n",
              "    <tr>\n",
              "      <th>2</th>\n",
              "      <td>christian is then paralyzed by an elder.</td>\n",
              "    </tr>\n",
              "    <tr>\n",
              "      <th>3</th>\n",
              "      <td>the temple is set on fire.</td>\n",
              "    </tr>\n",
              "    <tr>\n",
              "      <th>4</th>\n",
              "      <td>outside, the cult wails with him.</td>\n",
              "    </tr>\n",
              "    <tr>\n",
              "      <th>5</th>\n",
              "      <td>it's a parable of a woman's religious awakening—</td>\n",
              "    </tr>\n",
              "    <tr>\n",
              "      <th>6</th>\n",
              "      <td>c. mackenzie, and craig vincent joined the cast.</td>\n",
              "    </tr>\n",
              "    <tr>\n",
              "      <th>7</th>\n",
              "      <td>later, craig di francia and action bronson wer...</td>\n",
              "    </tr>\n",
              "    <tr>\n",
              "      <th>8</th>\n",
              "      <td>sebastian maniscalco and paul ben-victor were ...</td>\n",
              "    </tr>\n",
              "    <tr>\n",
              "      <th>9</th>\n",
              "      <td>we just tried to make the film.</td>\n",
              "    </tr>\n",
              "  </tbody>\n",
              "</table>\n",
              "</div>\n",
              "      <button class=\"colab-df-convert\" onclick=\"convertToInteractive('df-a479f5c4-83a0-42e6-aa1e-29d504de107a')\"\n",
              "              title=\"Convert this dataframe to an interactive table.\"\n",
              "              style=\"display:none;\">\n",
              "        \n",
              "  <svg xmlns=\"http://www.w3.org/2000/svg\" height=\"24px\"viewBox=\"0 0 24 24\"\n",
              "       width=\"24px\">\n",
              "    <path d=\"M0 0h24v24H0V0z\" fill=\"none\"/>\n",
              "    <path d=\"M18.56 5.44l.94 2.06.94-2.06 2.06-.94-2.06-.94-.94-2.06-.94 2.06-2.06.94zm-11 1L8.5 8.5l.94-2.06 2.06-.94-2.06-.94L8.5 2.5l-.94 2.06-2.06.94zm10 10l.94 2.06.94-2.06 2.06-.94-2.06-.94-.94-2.06-.94 2.06-2.06.94z\"/><path d=\"M17.41 7.96l-1.37-1.37c-.4-.4-.92-.59-1.43-.59-.52 0-1.04.2-1.43.59L10.3 9.45l-7.72 7.72c-.78.78-.78 2.05 0 2.83L4 21.41c.39.39.9.59 1.41.59.51 0 1.02-.2 1.41-.59l7.78-7.78 2.81-2.81c.8-.78.8-2.07 0-2.86zM5.41 20L4 18.59l7.72-7.72 1.47 1.35L5.41 20z\"/>\n",
              "  </svg>\n",
              "      </button>\n",
              "      \n",
              "  <style>\n",
              "    .colab-df-container {\n",
              "      display:flex;\n",
              "      flex-wrap:wrap;\n",
              "      gap: 12px;\n",
              "    }\n",
              "\n",
              "    .colab-df-convert {\n",
              "      background-color: #E8F0FE;\n",
              "      border: none;\n",
              "      border-radius: 50%;\n",
              "      cursor: pointer;\n",
              "      display: none;\n",
              "      fill: #1967D2;\n",
              "      height: 32px;\n",
              "      padding: 0 0 0 0;\n",
              "      width: 32px;\n",
              "    }\n",
              "\n",
              "    .colab-df-convert:hover {\n",
              "      background-color: #E2EBFA;\n",
              "      box-shadow: 0px 1px 2px rgba(60, 64, 67, 0.3), 0px 1px 3px 1px rgba(60, 64, 67, 0.15);\n",
              "      fill: #174EA6;\n",
              "    }\n",
              "\n",
              "    [theme=dark] .colab-df-convert {\n",
              "      background-color: #3B4455;\n",
              "      fill: #D2E3FC;\n",
              "    }\n",
              "\n",
              "    [theme=dark] .colab-df-convert:hover {\n",
              "      background-color: #434B5C;\n",
              "      box-shadow: 0px 1px 3px 1px rgba(0, 0, 0, 0.15);\n",
              "      filter: drop-shadow(0px 1px 2px rgba(0, 0, 0, 0.3));\n",
              "      fill: #FFFFFF;\n",
              "    }\n",
              "  </style>\n",
              "\n",
              "      <script>\n",
              "        const buttonEl =\n",
              "          document.querySelector('#df-a479f5c4-83a0-42e6-aa1e-29d504de107a button.colab-df-convert');\n",
              "        buttonEl.style.display =\n",
              "          google.colab.kernel.accessAllowed ? 'block' : 'none';\n",
              "\n",
              "        async function convertToInteractive(key) {\n",
              "          const element = document.querySelector('#df-a479f5c4-83a0-42e6-aa1e-29d504de107a');\n",
              "          const dataTable =\n",
              "            await google.colab.kernel.invokeFunction('convertToInteractive',\n",
              "                                                     [key], {});\n",
              "          if (!dataTable) return;\n",
              "\n",
              "          const docLinkHtml = 'Like what you see? Visit the ' +\n",
              "            '<a target=\"_blank\" href=https://colab.research.google.com/notebooks/data_table.ipynb>data table notebook</a>'\n",
              "            + ' to learn more about interactive tables.';\n",
              "          element.innerHTML = '';\n",
              "          dataTable['output_type'] = 'display_data';\n",
              "          await google.colab.output.renderOutput(dataTable, element);\n",
              "          const docLink = document.createElement('div');\n",
              "          docLink.innerHTML = docLinkHtml;\n",
              "          element.appendChild(docLink);\n",
              "        }\n",
              "      </script>\n",
              "    </div>\n",
              "  </div>\n",
              "  "
            ],
            "text/plain": [
              "                                            sentence\n",
              "0  confused and frustrated, connie decides to lea...\n",
              "1  later, a woman’s scream is heard in the distance.\n",
              "2           christian is then paralyzed by an elder.\n",
              "3                         the temple is set on fire.\n",
              "4                  outside, the cult wails with him.\n",
              "5   it's a parable of a woman's religious awakening—\n",
              "6   c. mackenzie, and craig vincent joined the cast.\n",
              "7  later, craig di francia and action bronson wer...\n",
              "8  sebastian maniscalco and paul ben-victor were ...\n",
              "9                    we just tried to make the film."
            ]
          },
          "metadata": {},
          "execution_count": 7
        }
      ],
      "source": [
        "import pandas as pd\n",
        "# reference https://becominghuman.ai/building-a-small-knowledge-graph-using-ner-296930592bcf\n",
        "sentences = pd.read_csv('/content/drive/MyDrive/NER_Graphs/wiki_sentences_v2.txt')\n",
        "sentences.shape\n",
        "sentences.head(10)"
      ]
    },
    {
      "cell_type": "code",
      "source": [
        "sentences[sentences['sentence'].str.contains('bollywood' and 'contemporary')]"
      ],
      "metadata": {
        "colab": {
          "base_uri": "https://localhost:8080/",
          "height": 300
        },
        "id": "hJtun8GQtR9e",
        "outputId": "0b0bf643-a308-41b1-a5c9-ab163c75dc15"
      },
      "execution_count": 8,
      "outputs": [
        {
          "output_type": "execute_result",
          "data": {
            "text/html": [
              "\n",
              "  <div id=\"df-b34a7320-4b11-40d0-ac2a-498bcac00780\">\n",
              "    <div class=\"colab-df-container\">\n",
              "      <div>\n",
              "<style scoped>\n",
              "    .dataframe tbody tr th:only-of-type {\n",
              "        vertical-align: middle;\n",
              "    }\n",
              "\n",
              "    .dataframe tbody tr th {\n",
              "        vertical-align: top;\n",
              "    }\n",
              "\n",
              "    .dataframe thead th {\n",
              "        text-align: right;\n",
              "    }\n",
              "</style>\n",
              "<table border=\"1\" class=\"dataframe\">\n",
              "  <thead>\n",
              "    <tr style=\"text-align: right;\">\n",
              "      <th></th>\n",
              "      <th>sentence</th>\n",
              "    </tr>\n",
              "  </thead>\n",
              "  <tbody>\n",
              "    <tr>\n",
              "      <th>1021</th>\n",
              "      <td>contemporary real-life serial killings have be...</td>\n",
              "    </tr>\n",
              "    <tr>\n",
              "      <th>1692</th>\n",
              "      <td>contemporary bollywood dancers include madhuri...</td>\n",
              "    </tr>\n",
              "    <tr>\n",
              "      <th>1738</th>\n",
              "      <td>contemporary bollywood dancers include madhuri...</td>\n",
              "    </tr>\n",
              "    <tr>\n",
              "      <th>2108</th>\n",
              "      <td>contemporary science fiction films continue to...</td>\n",
              "    </tr>\n",
              "    <tr>\n",
              "      <th>2929</th>\n",
              "      <td>all the stories were set in contemporary england.</td>\n",
              "    </tr>\n",
              "    <tr>\n",
              "      <th>3355</th>\n",
              "      <td>and contemporary hollywood productions are sho...</td>\n",
              "    </tr>\n",
              "    <tr>\n",
              "      <th>3386</th>\n",
              "      <td>and contemporary hollywood productions are sho...</td>\n",
              "    </tr>\n",
              "    <tr>\n",
              "      <th>3613</th>\n",
              "      <td>i, the series consists of colorized contempora...</td>\n",
              "    </tr>\n",
              "  </tbody>\n",
              "</table>\n",
              "</div>\n",
              "      <button class=\"colab-df-convert\" onclick=\"convertToInteractive('df-b34a7320-4b11-40d0-ac2a-498bcac00780')\"\n",
              "              title=\"Convert this dataframe to an interactive table.\"\n",
              "              style=\"display:none;\">\n",
              "        \n",
              "  <svg xmlns=\"http://www.w3.org/2000/svg\" height=\"24px\"viewBox=\"0 0 24 24\"\n",
              "       width=\"24px\">\n",
              "    <path d=\"M0 0h24v24H0V0z\" fill=\"none\"/>\n",
              "    <path d=\"M18.56 5.44l.94 2.06.94-2.06 2.06-.94-2.06-.94-.94-2.06-.94 2.06-2.06.94zm-11 1L8.5 8.5l.94-2.06 2.06-.94-2.06-.94L8.5 2.5l-.94 2.06-2.06.94zm10 10l.94 2.06.94-2.06 2.06-.94-2.06-.94-.94-2.06-.94 2.06-2.06.94z\"/><path d=\"M17.41 7.96l-1.37-1.37c-.4-.4-.92-.59-1.43-.59-.52 0-1.04.2-1.43.59L10.3 9.45l-7.72 7.72c-.78.78-.78 2.05 0 2.83L4 21.41c.39.39.9.59 1.41.59.51 0 1.02-.2 1.41-.59l7.78-7.78 2.81-2.81c.8-.78.8-2.07 0-2.86zM5.41 20L4 18.59l7.72-7.72 1.47 1.35L5.41 20z\"/>\n",
              "  </svg>\n",
              "      </button>\n",
              "      \n",
              "  <style>\n",
              "    .colab-df-container {\n",
              "      display:flex;\n",
              "      flex-wrap:wrap;\n",
              "      gap: 12px;\n",
              "    }\n",
              "\n",
              "    .colab-df-convert {\n",
              "      background-color: #E8F0FE;\n",
              "      border: none;\n",
              "      border-radius: 50%;\n",
              "      cursor: pointer;\n",
              "      display: none;\n",
              "      fill: #1967D2;\n",
              "      height: 32px;\n",
              "      padding: 0 0 0 0;\n",
              "      width: 32px;\n",
              "    }\n",
              "\n",
              "    .colab-df-convert:hover {\n",
              "      background-color: #E2EBFA;\n",
              "      box-shadow: 0px 1px 2px rgba(60, 64, 67, 0.3), 0px 1px 3px 1px rgba(60, 64, 67, 0.15);\n",
              "      fill: #174EA6;\n",
              "    }\n",
              "\n",
              "    [theme=dark] .colab-df-convert {\n",
              "      background-color: #3B4455;\n",
              "      fill: #D2E3FC;\n",
              "    }\n",
              "\n",
              "    [theme=dark] .colab-df-convert:hover {\n",
              "      background-color: #434B5C;\n",
              "      box-shadow: 0px 1px 3px 1px rgba(0, 0, 0, 0.15);\n",
              "      filter: drop-shadow(0px 1px 2px rgba(0, 0, 0, 0.3));\n",
              "      fill: #FFFFFF;\n",
              "    }\n",
              "  </style>\n",
              "\n",
              "      <script>\n",
              "        const buttonEl =\n",
              "          document.querySelector('#df-b34a7320-4b11-40d0-ac2a-498bcac00780 button.colab-df-convert');\n",
              "        buttonEl.style.display =\n",
              "          google.colab.kernel.accessAllowed ? 'block' : 'none';\n",
              "\n",
              "        async function convertToInteractive(key) {\n",
              "          const element = document.querySelector('#df-b34a7320-4b11-40d0-ac2a-498bcac00780');\n",
              "          const dataTable =\n",
              "            await google.colab.kernel.invokeFunction('convertToInteractive',\n",
              "                                                     [key], {});\n",
              "          if (!dataTable) return;\n",
              "\n",
              "          const docLinkHtml = 'Like what you see? Visit the ' +\n",
              "            '<a target=\"_blank\" href=https://colab.research.google.com/notebooks/data_table.ipynb>data table notebook</a>'\n",
              "            + ' to learn more about interactive tables.';\n",
              "          element.innerHTML = '';\n",
              "          dataTable['output_type'] = 'display_data';\n",
              "          await google.colab.output.renderOutput(dataTable, element);\n",
              "          const docLink = document.createElement('div');\n",
              "          docLink.innerHTML = docLinkHtml;\n",
              "          element.appendChild(docLink);\n",
              "        }\n",
              "      </script>\n",
              "    </div>\n",
              "  </div>\n",
              "  "
            ],
            "text/plain": [
              "                                               sentence\n",
              "1021  contemporary real-life serial killings have be...\n",
              "1692  contemporary bollywood dancers include madhuri...\n",
              "1738  contemporary bollywood dancers include madhuri...\n",
              "2108  contemporary science fiction films continue to...\n",
              "2929  all the stories were set in contemporary england.\n",
              "3355  and contemporary hollywood productions are sho...\n",
              "3386  and contemporary hollywood productions are sho...\n",
              "3613  i, the series consists of colorized contempora..."
            ]
          },
          "metadata": {},
          "execution_count": 8
        }
      ]
    },
    {
      "cell_type": "markdown",
      "metadata": {
        "id": "fZT2pz-3vXZj"
      },
      "source": [
        "* **Entity Extraction Function**\n",
        "\n",
        "* Let’s make a function that can help in the extraction of the entity pairs from the data which we have imported."
      ]
    },
    {
      "cell_type": "code",
      "execution_count": 16,
      "metadata": {
        "id": "qdCFdzvIvoI-"
      },
      "outputs": [],
      "source": [
        "import spacy\n",
        "from spacy.matcher import Matcher\n",
        "nlp = spacy.load(\"en_core_web_sm\")\n",
        "def get_entity(sent):\n",
        "  ent1 = \"\" #subject entity\n",
        "  ent2 = \"\" #object entity\n",
        "\n",
        "  prev_token_text = \"\" #text from previous token\n",
        "  prev_token_dep = \"\"  #depedency from previous token\n",
        "\n",
        "  prefix = \"\"\n",
        "  modifier = \"\"\n",
        "\n",
        "  for tok in nlp(sent):\n",
        "    #Go in only if it is not a punctuation, else next word\n",
        "    if tok.dep_ != \"punct\":\n",
        "      #Check if token is a compund word\n",
        "      if tok.dep_ == \"compound\":\n",
        "        prefix = tok.text\n",
        "        #Check if previous token is also a compound\n",
        "        if prev_token_dep == \"compound\":\n",
        "          prefix = prev_token_text + \" \"+ prefix\n",
        "      #Check if token is a modifier or not\n",
        "      if tok.dep_.endswith(\"mod\")==True:\n",
        "        modifier = tok.text \n",
        "        #Check if previous token is a compound\n",
        "        if prev_token_dep == \"compound\":\n",
        "          modifier = prev_token_text + \" \" + modifier\n",
        "\n",
        "      #Checking if subject\n",
        "      if tok.dep_.find(\"subj\") == True:\n",
        "        ent1 =modifier+ \" \" + prefix + \" \" + tok.text\n",
        "        prefix = \"\"\n",
        "        modifer = \"\"\n",
        "      #Checking if object\n",
        "      if tok.dep_.find(\"obj\") == True:\n",
        "        ent2 =modifier+ \" \" + prefix + \" \" + tok.text\n",
        "        prefix = \"\"\n",
        "        modifer = \"\"\n",
        "\n",
        "      #Update variables\n",
        "      prev_token_text = tok.text\n",
        "      prev_token_dep = tok.dep_\n",
        "\n",
        "      ############################\n",
        "  return [ent1.strip(), ent2.strip()]"
      ]
    },
    {
      "cell_type": "code",
      "execution_count": 11,
      "metadata": {
        "id": "d4rIhCLq0Axb",
        "colab": {
          "base_uri": "https://localhost:8080/"
        },
        "outputId": "2905f09f-28e1-443e-9655-640d2de4cbf3"
      },
      "outputs": [
        {
          "output_type": "stream",
          "name": "stdout",
          "text": [
            "Subj : film, obj : 200  patents\n"
          ]
        },
        {
          "output_type": "stream",
          "name": "stderr",
          "text": [
            "100%|██████████| 4318/4318 [00:34<00:00, 124.87it/s]\n"
          ]
        }
      ],
      "source": [
        "import spacy\n",
        "from tqdm import tqdm\n",
        "[ent1,ent2] = get_entity(\"the film had 200 patents\")\n",
        "print(\"Subj : {a}, obj : {b}\".format(a = ent1, b = ent2))\n",
        "get_entity(\"the film had 200 patents\")\n",
        "\n",
        "entity_pairs = []\n",
        "for i in tqdm(sentences['sentence']):\n",
        "  entity_pairs.append(get_entity(i))\n",
        "tqdm._instances.clear()"
      ]
    },
    {
      "cell_type": "code",
      "source": [
        "subjects = []\n",
        "objects = []\n",
        "subjects = [x[0] for x in entity_pairs]\n",
        "objects = [x[1] for x in entity_pairs]\n",
        "print(subjects)\n",
        "print(objects)"
      ],
      "metadata": {
        "colab": {
          "base_uri": "https://localhost:8080/"
        },
        "id": "x1Z4wiTtu2f1",
        "outputId": "9237aa14-c2ce-485a-f455-c7e5da83b462"
      },
      "execution_count": 13,
      "outputs": [
        {
          "output_type": "stream",
          "name": "stdout",
          "text": [
            "['connie', 'later  woman', 'christian', 'temple', 'outside  cult', 'it', 'c. mackenzie', 'later craig di francia', 'sebastian  maniscalco', 'we', 'we', 'm global', 'canadian robbie robertson', 'it', 'it', 'she', '', 'train', 'telepath', 'singer', 'last  which', 'jessica chastain', 'mauro fiore', 'filming', 'soundtrack', 'album', 'film', 'it', '', 'it', 'vivienne graham', 'emma  which', 'madison', 'joe morton', 'godzilla', 'when  dougherty', 'we', 'only  mandate', 'ten  writers', 'script', 'dougherty', 'film', 'it', 'other  actors', 'designer scott chambliss', 'single', 'tracks', 'score', 'first teaser poster', 'theatrical  poster', 'film', 'collectible  tickets', '4k release', 'retail  exclusives', 'such  heroes', 'it', 'currently action films', 'examples', 'themes', 'mall cop', 'they', 'both', 'producer', 'finally  producer', 'line producer', 'most  producers', 'film directors', 'other film directors', 'directors', 'directors', 'film schools', 'full degree course', 'film academy berlin', '', 'national film awards', 'awards', 'national film awards', 'he', 'mass riot', 'arthur', 'film war dogs', 'we', 'then  we', 'pereira olson pereira hodge', 'it', 'it', 'i', 'they', 'i', 'they', 'film', '40-leaf shooting script', 'beckett', 'beckett', 'this', 'david rayner clark', 'suddenly  camera', 'couple', 'camera', 'camera', 'she', 'she', 'coat', 'simply  mechanics', 'he', 'he', 'he', 'est percipi aut', 'he', 'e', 'e', 'script', 'work', 'particular  beckett', 'four  directors', 'he', 'david heyman', 'acting  experience', 'barron', 'executive  producers', 'he', 'directors', 'production designer', 'so  we', 'harry potter series', 'desplat', '', 'they', 'shouts', 'harry potter', 'however  part', '2017  johns', 'principal  photography', 'david ayer', '', 'justice league', 'aquaman', 'production', 'villain mister mind', 'month  sequel', 'production', 'month pedro pascal', 'filming  locations', 'wonder woman', 'initial  script', 'dan mazeau', '2018 john francis daley', 'plot', 'production', 'flash', 'producer peter who', 'production', 'aquaman', 'suicide squad', '2017  johns', 'principal  photography', 'david ayer', '', 'justice league', 'aquaman', 'production', 'villain mister mind', 'month  sequel', 'production', 'month pedro pascal', 'filming  locations', 'wonder woman', 'initial  script', 'dan mazeau', '2018 john francis daley', 'plot', 'production', 'flash', 'producer peter who', 'production', 'aquaman', 'suicide squad', 'jim', 'they', '2011  production', 'whishaw', 'i', 'discussions', 'fletcher', 'vinyl release', 'digital  version', 'instead  it', 'it', 'new  markets', 'it', 'they', 'horror', 'prevalent elements', 'it', 'this', 'trick films', \"l'inferno\", 'series', 'film', 'it', 'f. w. murnau', 'it', 'this', 'they', 'exaggerated  smile', 'film', 'silent  classic', 'it', 'film', 'assistant', 'first  one', 'it', 'first  one', 'it', 'it', 'it', 'universal  pictures', 'peter ruric', 'fiction horror film', 'actress elsa lanchester', 'he', 'radiation effects', 'film', 'intervening  criticism', 'film', 'phantom  creeps', 'other  studios', 'fright  factor', 'film director', '1950s', 'fly', 'film', 'phrase', '1970s', '', 'murder', 'poltergeist', 'changeling', 'influence', 'bloody  valentine', 'first  rattle', 'several action horror movies', 'dark fantasy horror which', 'event horizon', 'monster horror', 'tremors', 'valentine', 'others', 'it', 'comic book adaptations', 'pronounced  trends', 'films', 'notable  film', 'cold  prey', 'others', 'latter  film', '', 'verónica', 'sequel', 'themes', 'category', 'which', 'it', 'examples', 'examples', 'common  themes', 'examples', 'genre', 'examples', 'it', 'examples', 'one', 'early horror films', 'however horror movies', 'satirical comedy drama', 'others', 'such  films', 'military  comedies', 'film', 'today  it', 'it', '1968  festival', 'thierry frémaux', 'festival', 'jill forbes', 'however  curse', 'second  film', 'village roadshow studios', 'suddenly  market', 'many  comedies', 'however sequel grease', 'chicago', 'original  ones', 'musical  films', 'indian sound film', 'however  colour', '', 'biggest bollywood movie stars', 'juvenile  stars', 'american  films', 'successful  blend', 'another', 'music', 'here  work', 'other  director', 'all', 'it', 'short', 'they', 'individual', 'griffith', 'short  comedies', 'animated  cartoons', 'short  films', 'they', 'animated  shorts', 'shortstv', 'such  movies', 'it', 'juno rinaldi', 'ideally  we', 'part  one', 'sophia lillis', 'town hall exterior', 'visual  effects', 'music', 'it', 'it', 'juno rinaldi', 'ideally  we', 'part  one', 'sophia lillis', 'town hall exterior', 'visual  effects', 'music', 'it', 'long feature film', 'narrative feature film', 'early  features', 'italian  features', '1913', 'songs', 'musical  score', 'h. cannon', 'part', 'instead contract player', 'gale sondergaard', 'replacement', 'oz  sequences', 'arnold gillespie', 'develop', 'house', 'cowardly  costume', 'film', 'haley', 'musical  pieces', 'this', 'witch', 'first sneak preview', 'film', 'it', 'restoration job', 'film', '2d version', 'so  fantastic', 'film daily', 'major  differences', 'it', 'it', 'adrian', 'film version', 'example', 'genre', 'other  examples', 'they', 'examples', 'it', 'rika', 'meanwhile  surya', 'individual  characters', 'film', 'bramantyo', 'made movie musicals', 'it', 'principal  photography', 'first  trailer', 'final  trailer', 'maleficent', 'largest opening weekends', 'film', 'everyone', 'it', 'it', 'we', 'principal  photography', 'director godfrey reggio', 'artistic  merits', 'production music', 'apm', 'she', 'where garland stops', 'she', 'examples', 'smith  this', 'title', '', 'we', 'film', '2012  decision', 'dragan bjelogrlić', 'that', 'i', 'you', 'i', 'nota', 'film', '', 'he', 'varun', 'day  she', 'dam', 'vinothan', 'emotional  drama', 'film', 'i', 'soundtrack  score', 'production design', 'principal  photography', 'main  ambition', 'he', 'well  lingesan', 'diya', 'he', 'eventually body he', 'he', 'they', 'additional stunt direction', 'prosthetic  makeup', 'later  name', 'film', 'she', 'media rights', 'net  collections', 'karma', 'atlee kumar', 'directorial  project', 'atlee kumar', 'directorial  project', 'increasingly film festivals', 'festivals', 'prestigious film festivals', 'venice film festival', 'first film festival', 'short film festival', 'sundance film festival', 'arbor film festival', 'independent film festival', 'few film festivals', 'festivals', 'examples', '', 'hot  docs', 'whistler film festival', 'international film festival', 'it', 'focus', 'many film festivals', 'notable  festivals', 'they', 'franchise', 'it', 'final  films', 'soft  emphasis', 'visual company weta digital', 'ultimately  film', 'cast', 'additionally parkour athletes', 'following  list', '', 'models', 'franchise', 'it', 'final  films', 'soft  emphasis', 'visual company weta digital', 'ultimately  film', 'cast', 'additionally parkour athletes', 'following  list', '', 'models', 'dual voting system', 'filmfare awards', 'people choice award', 'so  ceremony', 'two  reasons', 'theme', 'meena', 'dual voting system', 'filmfare awards', 'people choice award', 'so  ceremony', 'two  reasons', 'theme', 'meena', 'batman series', 'film', 'played johnny duncan', 'film', 'late  popularity', 'holden', 'nine  rewrites', 'final  salary', 'rewrites', 'filming', 'film', '', 'then  idea', 'he', 'aronofsky', 'joss whedon', 'it', 'dark  rises', 'bane', 'charles roven', 'history', 'film', 'calotype process', 'transparent plastic roll film', 'it', 'photographic  plates', 'however  all', 'commercially color film', 'it', 'film', 'photographic  lenses', 'this', 'filters', 'subject  matter', 'automatic  cameras', 'fourth naming standard', 'common film speeds', 'expensive  lenses', 'apochromatic  lenses', '9.5  mm', 'first alfred thriller', 'film', 'action scenes', 'such  films', 'such  films', 'central  topics', 'genre', 'examples', 'other  examples', 'sometimes  protagonist', 'examples', 'loft', '', 'chris he', 'production', 'loft', 'brief saruman imprisons', 'bilbo', 'fellowship', 'slays watches', 'gandalf', 'gandalf  sauron', 'gollum  attacks', 'fellowship', 'peter we', 'jackson', 'jackson', '2009  dispute', 'numerous video games', 'aladdin', 'aladdin', 'numan acar', 'musical  sequence', 'cgi scenes', 'international  openings', 'you', 'film', 'film', 'film', 'film', 'film', 'james mangold', 'mark bomback', 'film', 'screenplay', 'visual specialist tim miller', 'film', 'film', 'superheroes', 'additional  filming', 'film', 'records', 'morris', 'two  films', 'later  zombie', 'second studio album', 'third studio album', 'he', 'live  shows', 'he', 'younger  brother', 'zombie', 'second studio album', 'album', 'film', 'album', 'film', 'ii', 'series', 'hellbilly  2', 'tour', 'we', 'album', 'album', 'album', 'zombie', 'film', 'he', 'later  zombie', 'second studio album', 'third studio album', 'he', 'live  shows', 'he', 'younger  brother', 'zombie', 'second studio album', 'album', 'film', 'album', 'film', 'ii', 'series', 'hellbilly  2', 'tour', 'we', 'album', 'album', 'album', 'zombie', 'film', 'he', 'parties', 'step', 'actors', 'take', 'camera', 'video  film', 'visual  effects', 'film', 'parties', 'step', 'actors', 'take', 'camera', 'video  film', 'visual  effects', 'film', 'bbfc', 'local  authorities', 'first 12a certificate', 'turnover', 'bbfc', 'bbfc guidelines', 'consultation', 'bbfc', 'they', 'foreign language film', 'foreign  it', 'animated  films', 'film', 'one  film', 'arab  film', 'such  films', 'pornographic  films', 'it', 'two', 'gyrating  pelvis', 'however  none', 'entrepreneurs', 'term glamour', 'european sex films', 'debbie', 'nothing', 'it', 'pornographic film studios', 'traditionally  audience', 'most  actors', 'they', 'annie', 'first  you', 'sundance film festival', '2019 sundance film festival', 'it', 'first frank capra award', 'actor  who', '2013 sundance london festival', '2018  events', 'war', 'vaani kapoor', 'who', 'themes', 'india', 'it', 'soon film production companies', 'technical  improvements', 'movies', 'technical  problems', 'film', 'first  films', 'technique', 'more james attack', 'films', 'films', 'he', 'jacksonville', 'film company', 'trend', 'f. percy smith', 'danish film companies', 'swedish film industry', 'important  man', 'khanzhonkov company', 'i', 'exhibition venues', 'biggest  success', 'wark griffith', 'german film industry', 'this', 'shaped  slits', 'new  idea', 'untitled  film', 'subsequently technicolor technique', 'american propaganda films', 'it', 'gimmicks', 'disney', 'limelight', 'kurosawa', 'hidden  fortress', 'series', 'bonnie', 'classical  cinema', 'jeet kune', 'indian  film', 'same camera system', 'silent  film', 'pianists', 'silent  film', 'town movie theatres', '', 'silent  film', 'vaudeville', 'silent  films', 'frame', 'silent  projectors', 'represented  fire', 'early  studios', 'others films', 'amounts', 'australian film doctor plonk', 'stage plays', 'blancanieves', 'short  that', 'sheep', 'aardman animations', 'film', 'early  forms', 'color television', 'colour  photography', 'color photography', 'sometimes  color', 'many school yearbooks', 'early  forms', 'color television', 'colour  photography', 'color photography', 'sometimes  color', 'many school yearbooks', 'it', 'wyatt oleff', 'it', 'kajganich', 'now  they', 'it', 'i', 'kids', 'it', 'look', 'he', 'it', 'so  i', 'it', 'overall  response', 'internationally  film', 'hollywood reporter', 'brennan', 'evil clown pennywise', 'ideally  we', 'part  one', 'cinema historians', 'sensibility', 'classic  film', 'one', 'it', 'noir film genre', 'black christopher debut', '', '', 'film noir', 'dead carl men', 'noir parodies', 'final  act', 'still  others', 'survey', 'faces', '', 'robert montgomery', '', 'archetypal  characters', 'bars', 'soundtrack', 'film', '135 camera film', '135  film', 'perforation size', 'this', '12 exposure rolls', '24×36 mm exposures', '335', 'single lens reflex', 'gods', 'afi', 'prior  leaders', 'film training program', 'first  class', 'producer richard gladstein', 'afi catalog', 'year afi awards', 'awards', 'american film market', 'additional  sponsors', 'afi docs', 'festival', 'theatre afi center', 'deckard defeat who', 'group', '', '', 'character', 'most  filming', 'production', 'same  method', 'idris elba', 'finally  they', 'latter', 'second  trailer', 'final  trailer', 'reald 3d conversion', 'deckard defeat who', 'group', '', '', 'character', 'most  filming', 'production', 'same  method', 'idris elba', 'finally  they', 'latter', 'second  trailer', 'final  trailer', 'reald 3d conversion', 'film', 'films', 'many  directors', 'montage', 'classic  examples', 'two  shots', 'assistant  editors', 'lower budget features', 'organizational aspects job', 'assistant editing', 'avn awards', 'they', 'xrco awards', 'penny arcade attractions', '', 'they', 'a', 'she', 'five  she', 'she', 'you', 'they', 'so  it', 'most  actresses', 'they', 'most contract girls', 'average  male', 'claims', 'breakdown  voltage', 'this', 'film', 'rated film capacitors', 'however metal foil capacitors', 'special  type', 'characteristics', 'they', 'table', 'they', 'they', 'they', 'dielectric absorption performance', 'ptfe', 'wound', 'specific series film capacitors', 'offered film capacitor', 'iec standards', 'many  manufacturers', 'required capacitance tolerance', 'derating  factors', 'allowable peak value', 'film capacitors', 'capacitors', '', 'dissipation factor', 'film capacitors', 'main  advantages', 'snubber capacitors', 'important  criteria', 'called snubber capacitors', 'ac', 'surge discharge capacitors', 'power capacitors', 'most  animations', 'animation', 'little winsor nemo', 'el apóstol', 'terrytoons', 'animation market', 'today  drawings', '3d  animation', 'animator', 'traits', 'list', 'most  animations', 'animation', 'little winsor nemo', 'el apóstol', 'terrytoons', 'animation market', 'today  drawings', '3d  animation', 'animator', 'traits', 'list', 'area', 'mmts train station', 'roll', 'where  film', 'digital  systems', 'digital  cameras', 'prices', 'film', 'it', 'schwarzenegger', 'story', '', 'she', 'special  neil', 'schwarzenegger', 'certain  scenes', 'it', 'theatrical  trailers', 'game', 't-800 model', 'schwarzenegger', 'story', '', 'she', 'special  neil', 'schwarzenegger', 'certain  scenes', 'it', 'theatrical  trailers', 'game', 't-800 model', 'suspense', 'mystery films', 'women', 'earliest mystery films', 'film', 'two  films', 'story', 'made  series', 'silent charlie chan films', 'monogram', 'last  film', 'canary murder case', 'breezy comedy that', 'standard  that', 'film', 'columbia', 'mysterious  he', 'character', 'this', 'premise', '', 'where  you', 'bride', 'film', 'george peppard', 'robert culp', '', 'films', 'serial  killings', 'main  examples', '', 'c.', 'ursel', 'two certificate awards', 'award', 'i', 'western  theatre', \"dell'arte\", '', 'puritans', 'restoration comedy', 'henry irving', 'larger  capital', 'only  men', 'some', 'most  scripts', 'actors', 'silent  film', 'vaudeville theatre', 'film actors', 'film actors', 'tv actors', 'first', 'it', 'audio drama', 'i', 'western  theatre', \"dell'arte\", '', 'puritans', 'restoration comedy', 'henry irving', 'larger  capital', 'only  men', 'some', 'most  scripts', 'actors', 'silent  film', 'vaudeville theatre', 'film actors', 'film actors', 'tv actors', 'first', 'it', 'audio drama', 'sometimes  copy', 'destruction', 'improperly nitrate film', 'high profile example', '35 mm safety film', 'occasionally  prints', 'film', 'television material', 'it', 'popular film sizes', 'instant film formats', 'process', 'h. land', 'film speeds', 'it', 'it', 'polavision film', 'it', 'polaroid', 'polaroid pif-300 film', 'original  plan', '2017  fujifilm', 'formulation', 'lost', 'lost', 'salman khan', 'khan', 'he', '', 'he', 'played  who', 'he', 'film', 'first  release', 'it', 'film', 'first  release', 'skbh productions', 'first  film', 'cabbie', 'khan', '', 'khan', 'later akshay kumar', 'khan', 'tiger biscuits', 'he', 'salman', 'foundation', 'youngster', 'khan', 'khan', 'searched  celebrity', 'court', 'then  they', 'salman khan', 'khan', 'he', '', 'he', 'played  who', 'he', 'film', 'first  release', 'it', 'film', 'first  release', 'skbh productions', 'first  film', 'cabbie', 'khan', '', 'khan', 'later akshay kumar', 'khan', 'tiger biscuits', 'he', 'salman', 'foundation', 'youngster', 'khan', 'khan', 'searched  celebrity', 'court', 'then  they', 'writer', 'mehra', 'baby noor jehan', 'principal  photography', 'only  ladies', 'karamveer', 'move everyone', 'this', 'toto', 'nushrat bharucha', 'principal  photography', 'film', 'song dhagala lagali', 'gorilla', 'music', 'r. b. gurudev', 'c. s.', 'tiff cinematheque', 'umbrella organization tiffg', 'five storey facility', 'films', 'major  prize', 'choice awards', 'it', 'film', 'pk', 'criticism', 'he', 'jaggu', 'people', '', 'tapasvi', 'eventually  they', 'second  poster', 'third  poster', 'teaser', 'character', 'he', 'game', 'it', 'pk', 'director', 'besides  portions', 'hence  makers', 'pk', 'pk', 'music rights', 'dna', 'full  soundtrack', 'song tharki chokro', 'rajkumar hirani', 'it', 'it', 'pk', 'film', 'soundtrack  score', 'rudrama', 'they', 'later allu arjun', 'neeta  lulla', 'official  trailer', 'worldwide  gross', 'soundtrack', 'aadujeevitham', 'original  score', 'film score', 'sonoko', 'relationship', 'transparency', 'camera rig', 'new  audioscopiks', 'even lippert shorts', 'james mage', 'five  he', 'project', 'one  film', 'it', 'which', 'butler', 'expo', '', 'this', 'real  option', 'it', 'digital cinema cameras', 'several  films', 'one  exception', 'polar express', '3d version', 'other animation films', 'different  techniques', 'this', '3d films', 'polarized stereoscopic pictures', 'linear polarization', 'screen image', 'this', '3d system', 'red cyan anaglyph glasses', 'rod', 'versions', 'brightness cinema standard', 'it', 'two  team', 'she', 'she', 'she', 'it', 'grown  you', 'gadot', 'he', 'it', 'it', 'jenkins', 'gas', 'david', 'she', 'everyone', 'reaction', 'it', 'others', 'female  motivations', 'it', 'you', '', '', 'desolation', 'it', 'there  jason', 'so  they', 'rita', 'ashley miller', 'brian tyler', 'newcomers dacre montgomery', '2016  filming', 'additional  filming', 'music', 'international  trailer', 'they', 'franchise', 'festival', 'nous la liberté', 'five  films', 'additionally  festival', '', 'this', 'it', '', 'thomas newman', 'film', 'warden', 'smith', 'director', 'freeman', 'scenes', 'score', 'shawshank redemption', 'it', 'darabont', '25th  anniversary', 'guests', '100  list', 'thomas newman', 'film', 'warden', 'smith', 'director', 'freeman', 'scenes', 'score', 'shawshank redemption', 'it', 'darabont', '25th  anniversary', 'guests', '100  list', 'film', 'principal  photography', 'he', 'he', 'however  project', 'lee hall', 'filming', 'production', 'film', 'he', 'sex', 'rrr', 'film', 'red', 'tyler  family', 'you', 'we', 'official  trailer', '4k release', 'blackhat', 'film', 'hack', 'lien', 'they', 'film', 'digital miami mann', 'mike dean', 'deadline', 'it', 'currently  cut', 'sigma films', 'red  road', 'gillian', 'film', 'show stars', 'i', 'transformers', 'don murphy', 'prime  directive', 'this', 'rendered  piece', 'photographs', 'allspark', 'hans zimmer', 'second  film', 'third  film', 'all', 'it', 'pictures  it', 'main  cast', 'filming', 'he', 'orm', 'arthur  mera', 'temuera morrison', 'robert ben garant', '2018 randall park', 'two winner charles gibson', 'ilm', 'underwater  ships', 'ilm', 'they', 'dinosaurs', 'digital  domain', 'scanline vfx', 'bryan hirota', 'additional  house', 'it', 'month character posters', 'aquaman', 'aquaman', 'it', '2018  it', '', 'studio', 'tinged spin off', 'it', 'he', 'duellists', '2002  cut', 'next  project', '', 'historical drama gladiator', 'film', 'film', 'sequel', 'kevin spacey', 'i', 'who', 'it', 'he', 'duellists', '2002  cut', 'next  project', '', 'historical drama gladiator', 'film', 'film', 'sequel', 'kevin spacey', 'i', 'who', 'biographical sports drama', 'this', 'film', 'release date', 'soundtrack', 'regular  contributors', 'industry', 'indian film industry', 'raghupathi venkaiah naidu', 'global  audiences', 'tollygunge', '1940  film', 'film', 'movement', 'javed  concoction', 'india', 'biggest bollywood movie stars', 'combined  they', 'other hindi stars', 'acclaimed malayalam filmmakers industry', '', 'tamil language films', 'kanchivaram', 'nayakan', 'indian  films', 'indian  cinema', 'films', 'this', 'typical  film', 'location shooting', 'popular  locations', 'avm productions', '21st  century', 'bengal', 'other art film directors', 'bhojpuri film history', 'few  films', 'many film directors', 'they', 'major gujarati directors', 'art film directors', 'kannada actor rajkumar', 'he', 'veeranna', 'rajkumar', 'kannada directors', 'noted film personalities', 'm. ranga rao', 'kannada cinema', '', 'konkani language films', 'release date', 'malayalam film industry', 'filmmakers', '', 'movie', 'daniel', '', 'meitei cinema', 'maipak', 'which', 'language film industry', 'first talkie sita bibaha', 'mehra', 'manny parmar', 'indian talkie film', 'avm studios', 'kamal haasan', 'prasad  imax', 'chittor', 'he', '', '40  films', 'n. tailor', 'enna thangadi', 'oriyardori asal', 'some', 'industry', 'indian film industry', 'raghupathi venkaiah naidu', 'global  audiences', 'tollygunge', '1940  film', 'film', 'movement', 'javed  concoction', 'india', 'biggest bollywood movie stars', 'combined  they', 'other hindi stars', 'acclaimed malayalam filmmakers industry', '', 'tamil language films', 'kanchivaram', 'nayakan', 'indian  films', 'indian  cinema', 'films', 'this', 'typical  film', 'location shooting', 'popular  locations', 'avm productions', '21st  century', 'bengal', 'other art film directors', 'bhojpuri film history', 'few  films', 'many film directors', 'they', 'major gujarati directors', 'art film directors', 'kannada actor rajkumar', 'he', 'veeranna', 'rajkumar', 'kannada directors', 'noted film personalities', 'm. ranga rao', 'kannada cinema', '', 'konkani language films', 'release date', 'malayalam film industry', 'filmmakers', '', 'movie', 'daniel', '', 'meitei cinema', 'maipak', 'which', 'language film industry', 'first talkie sita bibaha', 'mehra', 'manny parmar', 'indian talkie film', 'avm studios', 'kamal haasan', 'prasad  imax', 'chittor', 'he', '', '40  films', 'n. tailor', 'enna thangadi', 'oriyardori asal', 'some', 'where  films', 'only walt disney which', '', 'nestor studios', 'it', 'still  life', 'remaining majority portion', 'indian film industry', '1940s  1950s', 'korean  films', 'hong kong', 'cinema going', 'industry', 'word dhallywood', 'first production company', 'full length film', 'minimum  cost', 'screenplay', 'god', 'it', 'it', 'griffith', 'it', 'it', 'angeles cultural heritage board', 'famous hollywood sign', 'several  sign', 'tickets', 'bollywood', 'bollywood', 'indian sound film', 'huge  bollywood', 'however  colour', 'film', 'mohanan', 'critics', 'akash', 'pramod', 'simi', 'she', 'sophie', 'khurrana', 'tabu', 'it', 'lyrics', 'vocals', 'background score', 'trailer', 'chief', 'film', 'son', 'film', 'mohanan', 'critics', 'akash', 'pramod', 'simi', 'she', 'sophie', 'khurrana', 'tabu', 'it', 'lyrics', 'vocals', 'background score', 'trailer', 'chief', 'film', 'son', 'film genre', 'popular  combinations', 'alan williams', 'mood', 'many  films', 'genres', 'cinema technologies', 'production attributes', 'pattern', 'hollywood oligopoly', 'joseph schenck', 'later  members', 'low budget films', 'cannibal  holocaust', 'he', 'independent cinema movement', 'domestic box office revenue', 'superior  products', 'these', '3-d  technology', 'petróleo', '2003  festival', 'noire', 'it', 'that', 'it', 'term', 'indian sound film', 'however  colour', 'romantic  musicals', '', 'masala films', 'popular  films', '', 'kronos', 'songs', 'parallel cinema films', '', 'english alice', 'song lyrics', 'film scripts', 'cinematic  language', 'song lyrics', 'bollywood songs', 'contemporary bollywood dancers', 'older  dancers', 'consumer copying', 'popular  tune', 'bollywood', 'dual voting system', 'national film awards', 'many  pakistanis', 'more  easing', 'popular  actors', 'films', 'bollywood films', 'film', 'bollywood films', 'bollywood films', 'indian  movies', 'laloo', 'kishore kumar', 'commercial bollywood films', 'many bollywood films', 'dil', 'bollywood', 'small bollywood writers', 'copying', 'tv shows', 'we', 'he', 'bollywood soundtracks', 'term', 'indian sound film', 'however  colour', 'romantic  musicals', '', 'masala films', 'popular  films', '', 'kronos', 'songs', 'parallel cinema films', '', 'english alice', 'song lyrics', 'film scripts', 'cinematic  language', 'song lyrics', 'bollywood songs', 'contemporary bollywood dancers', 'older  dancers', 'consumer copying', 'popular  tune', 'bollywood', 'dual voting system', 'national film awards', 'many  pakistanis', 'more  easing', 'popular  actors', 'films', 'bollywood films', 'film', 'bollywood films', 'bollywood films', 'indian  movies', 'laloo', 'kishore kumar', 'commercial bollywood films', 'many bollywood films', 'dil', 'bollywood', 'small bollywood writers', 'copying', 'tv shows', 'we', 'he', 'bollywood soundtracks', 'musafir', 'film', 'it', 'degree symbol', 'iso standards', 'originally asa values', 'gost', 'iso system', '', '200/24  °', 'exposure index', 'film', 'based  techniques', 'possible  that', 'how speed ratings', 'however  loss', 'universal  studios', 'eventually  all', 'disney', 'relatives', 'dracula', '', 'film', 'new  combine', 'goetz', 'production arm', 'it', 'late motion picture business', '', '2016  deal', '‡', 'universal  studios', 'eventually  all', 'disney', 'relatives', 'dracula', '', 'film', 'new  combine', 'goetz', 'production arm', 'it', 'late motion picture business', '', '2016  deal', '‡', 'film criticism', 'film', 'numerous rating systems', 'others', 'such  example', 'film critics', 'academic film critics', '2013 film critics', 'newspaper  critics', 'bafta award trophy', '8  mask', 'they', 'ever  ceremony', 'they', 'authors', 'novels', 'classic', 'noir', 'authors', 'novels', 'classic', 'noir', 'he', 'he', 'he', 'aparajita tumi', 'he', 'he', 'he', 'aparajita tumi', 'commercially photography reversal process', 'digital  media', 'color reversal film', 'polaroid', 'black  projection', 'black reversal films', 'finished  transparencies', 'slash', 'film', 'sound cameras', 'therefore single-8 film cartridges', 'additive  picture', '8  film', 'this', '8  mm', 'these', 'super  8', 'super  8', 'internacional de cinema', 'jfk', 'film', \"o'keefe\", 'garrison', 'pride', 'he', 'studio president', 'that', 'who', 'extraordinary  i', 'much  he', 'initially  costner', 'martin sheen', 'that', 'so  he', 'many  lighting', 'he', 'so  lot', '35 mm film editing', 'production', 'dowell', 'jfk', 'entertainment weekly', 'estate', 'stauffenberg', 'sequel', '', 'two kingsman films', 'series', 'it', '1', 'film', 'official  title', 'rudd', 'golden  lock', '', 'sequel', '', 'two kingsman films', 'series', 'it', '1', 'film', 'official  title', 'rudd', 'golden  lock', '', 'four  men', 'control', 'grey', 'it', 'film', 'film', 'zodiac', 'i', 'that', 'they', 'fincher', 'it', 'film', 'film', 'zodiac', 'i', 'that', 'they', 'fincher', 'web films', 'film', 'anand', 'filming', 'telling', 'national film board', 'it', 'french language productions', 'early  nfb', 'nfb', 'who', 'sand castle', 'technique', 'recent  credits', 'nfb documentaries', 'barbara wilson', 'cinéaste recherché', 'they', 'it', 'neil nitin mukesh', 'dialogue', 'sanu varghese', 'principal  photography', 'wazir', 'we', 'it', 'vijayakar', 'decent  songs', 'nambiar', 'wazir', 'it', 'they', 'film', 'lilli', 'film', 'others', 'late cult films', 'nosferatu', 'american exploitation films', 'i', 'cult films', 'young  men', 'transgressive  that', 'similarly james dean', 'cult films', 'previous  articles', 'this', 'however  it', 'art film', 'pur film movement', 'new wave movement', 'influence', 'au hasard balthazar', 'film that', 'martin scorsese', '', 'drive', 'recent  examples', 'hans', 'anna', 'speaking  characters', 'it', 'final  version', 'breakthrough', 'i', 'disney', 'becky it', 'they', 'it', 'all', 'goal', 'also  it', 'then  you', 'it', 'it', 'frozen', 'it', 'many  cinemagoers', 'we', 'it', 'they', 'same  i', '169  workers', 'he', 'entity', 'building', '', 'book', 'film', 'plot', 'this', 'day  uncle', 'movie', 'film', 'hook', 'protest soldiers', 'when  group', 'sergeant  lewis', 'hook', '71', 'ad astra', 'entire  crew', 'visual  effects', '', 'it', 'two certificate awards', 'award', 'kabaddi', '', 'new  company', 'company', 'fox', '', 'only  partnership', 'mgm', 'film', '', 'assets', 'fox stage productions', 'scarce  records', 'fox music', '20th century fox', 'fox fanfare', 'i', 'new  company', 'company', 'fox', '', 'only  partnership', 'mgm', 'film', '', 'assets', 'fox stage productions', 'scarce  records', 'fox music', '20th century fox', 'fox fanfare', 'i', 'these', 'he', 'however  film', 'next  release', 'vijay sethupathi', 'both', 'then mani starrer', 'sethupathi', 'he', 'he', 'however  film', 'next  release', 'vijay sethupathi', 'both', 'then mani starrer', 'sethupathi', 'he', '2012 film it', 'international film festival', 'twenty  films', 'trade fair', 'festival', 'retrospective  section', 'efm', 'it', 'major  example', 'they', 'early  films', 'many science fiction films', 'successful monster movies', 'other  themes', 'movie', 'year terminator salvation', 'science fiction themes', 'this', 'visual  that', 'these', 'holographic  robot', 'device  material', 'autonomous  cars', 'reboot', 'society', 'contemporary science fiction films', 'sequel', 'he', 'cinematic  adaptation', 'it', 'he', 'malcolm mcdowell', 'clockwork orange', 'maritime film classification board', 'limited film poster', 'release', 'dvd release edition', 'clockwork orange', 'clockwork orange', 'spanish director luis buñuel', 'i', 'journal', 'dare', 'it', 'imdb', 'first year assignment', 'rotten  tomatoes', 'peasants', 'it', 'rocky ramachandra raju', 'however  filming', 'kgf', 'it', 'ramya krishna', 'trailer', 'brilliant  cinematography', 'they', 'rocky ramachandra raju', 'however  filming', 'kgf', 'it', 'ramya krishna', 'trailer', 'brilliant  cinematography', 'they', 'it', 'lyrics', 'sometimes  one', 'different  segments', 'mohsen debut', 'anthology films', 'film', 'dus kahaniyaan', '1976 film katha sangama', 'nai', 'archive', 'institute', 'other  governors', 'it', 'it', 'film critics', 'stunts', 'soundtrack', 'lyrics', '', 'film', '2013  gods', 'film', 'edited  version', 'duran duran', 'flavors', 'flavors', 'flavors', 'nikaah', 'music', 'film', 'students', 'meanwhile  haider', 'married  life', 'addiction', 'loudspeaker  announcements', 'so  he', 'movie', 'movie', 'one', 'supporting  cast', 'however  reputation', 'zhivago', 'yuri', 'however  novel', 'film', 'least  it', 'film', 'nimki', 'she', 'camera backgrounds', 'maelström', 'comedic  maelström', 'restaurant  it', 'it', 'car crashes', 'one', 'then  i', '1999  casting', 'film', 'slant ed gonzalez', 'lyricist howard ashman', 'anew  purdum', 'two disc dvd edition', 'film', '', 'film', 'extra  lives', 'final  boss', 'it', 'clothes', 'coraline', 'it', 'it', 'daughter', 'wife', 'club', 'oliver lyttelton', 'she', 'banks', 'mark bridges', 'course  i', 'keeley hazell', 'lucy hale', 'i', 'ora', 'principal  photography', '5 grey enterprises', 'fairmont hotel vancouver', 'film', 'production', 'set', 'second  trailer', 'cut  version', 'it', 'it', 'high  openings', 'largest  markets', 'that', 'films', 'release date', 'it', 'raees', 'raees', 'raees', 'still  cm', 'communal  riots', '', 'raees', 'worldwide  raees', 'you', 'it', 'nawazuddin siddiqui', 'raees', 'raees', 'additional  lyrics', 'shah rukh khan', 'phrases', 'it', 'soundtrack', 'kondo', '', '', 'phrases', 'it', 'soundtrack', 'kondo', '', '', 'film', 'david', 'after  shaw', 'why hast thou', 'it', 'production', 'iceland shoot', 'shooting  areas', 'then  i', 'raindrop prelude', 'designer arthur max', 'theron', 'other  influences', 'designers', 'practical  creature', 'protruding  jaw', 'prometheus', 'mind', 'trailer', 'he', '', 'lisa schwarzbaum', \"o'hehir\", 'covenant', 'she', 'it', 'subgenres', 'however  directors', 'central  powers', 'censorship', 'exceptions', 'heroes', 'japanese  war', 'second film propaganda', 'resulting  film', 'english countryside', '', 'minutes  it', 'mohiniyaattam', 'basil rathbone', 'crown terrified', 'splatter films', 'giallo thrillers', '', 'less hollywood strangler', 'silent box office', 'international  market', '', 'iconic hockey mask', 'traditional slasher films', 'film', 'nightmare', 'grave', 'new  nightmare', '', 'slasher', 'rampant', 'it', '', 'concubine', 'she', 'it', 'letdown', 'two certificate awards', 'award', 'interstellar', '', 'astronauts miller', 'cooper', 'crew', 'mann', 'time  dilation', 'cooper', 'principal  photography', 'interstellar', 'film', 'it', 'soundtrack', 'new deal miniatures', 'it', 'it', 'strong  openings', 'interstellar  hero', 'both', 'critic lou lumenick', 'that', 'malayalam film industry', 'films', 'first cinemascope film', 'first  film', 'malayalam films', 's. janaki', 'thikkurusi sukumaran nair', 'many  directors', 'menon', 'important  movies', 'this', 'films', 'movie', 'this', 'millennium', 'new  wave', 'film', 'dear  kuttichathan', 'villain', 'ramu karyat', 'reformation', 'major playback singers', 'p. balasubrahmanyam', 'melodious  music', 'p. venkatesh', 'winning music composers', 'awards', 'national  pictures', 'malayalam film industry', 'films', 'first cinemascope film', 'first  film', 'malayalam films', 's. janaki', 'thikkurusi sukumaran nair', 'many  directors', 'menon', 'important  movies', 'this', 'films', 'movie', 'this', 'millennium', 'new  wave', 'film', 'dear  kuttichathan', 'villain', 'ramu karyat', 'reformation', 'major playback singers', 'p. balasubrahmanyam', 'melodious  music', 'p. venkatesh', 'winning music composers', 'awards', 'national  pictures', 'tamil cinema', 'this', 'theatre', 'lyric theatre', 'silent  films', 'soon  he', 'tent events', 'era', 'more cinema houses', 'silent  era', 'company dramas', 'he', 'successful tamil films', 'movies', 'kalidas', 'kalava', 'kanchivaram', 'mani nayakan', 'new  order', 'tamil cinema', 'this', 'theatre', 'lyric theatre', 'silent  films', 'soon  he', 'tent events', 'era', 'more cinema houses', 'silent  era', 'company dramas', 'he', 'successful tamil films', 'movies', 'kalidas', 'kalava', 'kanchivaram', 'mani nayakan', 'new  order', 'documentary films', 'documentary practice', 'these', 'many  scientists', 'vivid  moscow', 'films', 'leftist henri storck', 'luis buñuel', 'it', 'they', 'films', 'commentary', 'how  world', 'documentary translators', 'documentary translators', 'we', '2019  it', 'we', '2019  it', 'grown feature film', 'film industry', 'spring river', 'beijing film academy', 'chinese  film', 'cultural film industry', 'fifth generation directors', 'they', 'fourth  generation', 'still  life', 'acclaimed  documentary', 'traditionally  movies', 'cinematic shaolin temple', 'commercial  film', 'feng', 'crazy  stone', 'it', 'other lü yue', 'who', 'similarly zhang hero', 'greater  china', 'large  companies', 'grown feature film', 'film industry', 'spring river', 'beijing film academy', 'chinese  film', 'cultural film industry', 'fifth generation directors', 'they', 'fourth  generation', 'still  life', 'acclaimed  documentary', 'traditionally  movies', 'cinematic shaolin temple', 'commercial  film', 'feng', 'crazy  stone', 'it', 'other lü yue', 'who', 'similarly zhang hero', 'greater  china', 'large  companies', 'two certificate awards', 'award', 'it', 'flees', 'police', 'chechik', 'washington', 'how  you', 'however  fincher', 'filming', 'consensus', 'contrast', 'dvd', 'original  score', 'crows', 'film', 'it', 'there  david', 'elijah', 'same  david', 'richard roeper', 'm. night shyamalan', 'shuri heals ross', \"m'baku\", 'killmonger', 'arm band', 'sets', 'filming', 'full  trailer', 'this', 'this', 'largest  markets', 'culturally  film', 'this', 'second  demographics', 'film', 'music', 'filmmakers', 'then  we', 'locations', 'rima', 'sam', 'she', 'china film corporation', 'company', 'cfcc', 'year china film group', 'canal', 'it', 'amazing spider man', 'up actor tom cruise', 'director zito', 'electro', 'spider man', 'he', 'however  talks', 'spider homecoming', 'three  films', 'spider man', 'amazing spider man', 'wernick  reese', 'feige', 'film', 'hunter film', '2010  they', 'biopics', 'casting', 'eilis', 'eilis', 'eilis', 'she', 'eilis', 'eilis', 'she', 'she', 'film', 'they', 'take', 'that', 'actually  women', 'cohen', 'thin film technology', 'however  it', '', 'hyperspectral  imaging', 'thin film silicon', 'electronic  structure', 'c si layer', 'semiconductor material', 'where  him', 'argument', 'he', 'you', 'piece', 'first  it', 'it', 'i', 'gleiberman', 'they', 'none', 'where  him', 'argument', 'he', 'you', 'piece', 'first  it', 'it', 'i', 'gleiberman', 'they', 'none', 'large  companies', 'smaller  studios', '', '2018 gabriel bateman', 'unexpectedly  it', 'nix  films', 'younger  brother', 'lions gate entertainment', 'bush administration', 'however  incident', 'reportedly  bush', 'nordisk film games', 'kogama', 'it', 'it', 'nordisk film', 'when  it', 'mystery', 'brian levant', 'shaggy', 'scooby doo', 'plot', 'we', 'plot', '', 'tohokushinsha film corporation', 'film grain', 'it', '', 'havana film madre', '', 'chisholm', 'actors', 'denzel character', 'instead  someone', 'he', 'he', 'it', 'friend  producer', 'other  locations', 'amy nicholson', 'it', 'it', 'colin farrell', 'l. jackson', 'elliot goldenthal', 'reception', 'firefight', '', 'stephanie sigman', 'lin', 'sagayam', 'raghu', 'previously  movie', 'later  it', 'second tamil soundtrack kurangu', 'ishta', 'film', 'it', 'splatter directors', 'they', 'first manipur film', 'it', 'first manipur film', 'it', 'fargo', 'film', 'payment', 'enraged  carl', 'brothers', 'actual  murders', 'i', 'i', 'jerry', 'site', 'motel  truckstop', 'which', 'building', '', 'fargo', 'marge gunderson character', 'musical  motif', 'fargo', 'music', 'nfpb', 'table', 'film', 'soundtrack album', 'album', 'rajkumar santoshi', 'he', 'he', 'he', 'lajja', 'film', 'raja sen', 'it', 'films', 'rajkumar santoshi', 'he', 'he', 'he', 'lajja', 'film', 'raja sen', 'it', 'films', 'however  characters', 'stage plays', 'adaptive  process', 'feature films', 'muppet movie', 'radio series', 'superman', 'occasionally  origins', 'spider man', 'some', 'inconvenient  truth', 'remakes', 'many  films', 'works', 'finally  films', 'spamalot', 'song mi nismo', '', 'followup', 'band', 'motion picture projects', 'film directors', 'other film directors', 'directors', 'grips', 'also art which', 'actors', 'early  talkies', 'phonorama', 'meanwhile  innovations', 'domestic  competition', '1925 de forest', 'these', 'patents', 'these', 'natural  sounds', 'film', 'alfred  movie', '31 les trois masques', 'year ardeshir irani', 'where  pyonsa', 'this', 'me  they', 'so  i', 'moviehouse musicians', 'sixty hollywood musicals', 'hollywood', 'this', 'hindustani heer ranjha', 'talking  film', 'such  methods', 'when  year', 'kevin', 'music', 'extras', 'it', 'elsewhere  poland', 'notable  openings', '', 'title', 'it', 'leto', 'tenaliraman', 'that', 'd. imman', 'singer krishnaraj', 'film', 'so  catching', 'youngster', 'he', 'final  verdict', 'other  destiny', 'however  cracks', 'other  strippers', 'meanwhile  ramona', 'later  who', 'stx entertainment', 'travers', 'it', 'theatrical  trailer', 'it', 'you', 'it', 'festival', 'film', 'pokiri', 'soundtrack  score', 'film', 'ali bhai', 'jagannadh', 'ashish  vidyarthi', 'hindu', 'initially  i', 'film', 'pokiri', 'pokiri', 'soundtrack  score', 'film', 'ali bhai', 'jagannadh', 'ashish  vidyarthi', 'hindu', 'initially  i', 'film', 'pokiri', 'space odyssey', 'monolith', 'later  one', 'only hibernating crew', 'universe', 'trumbull', 'clarke', 'script', '35 mm release prints', 'plans', 'set', 'so  it', 'i', 'expansive  backdrops', 'kubrick', 'boston review', 'he', 'he', 'it', 'space odyssey', 'i', 'recently  filmmakers', 'nikkatsu', 'bed partner', 'films', 'they', 'you', 'awards', 'pictures  it', '', 'sivana', 'billy', 'natalia safran', '', 'who', 'voices', 'new line cinema', 'film', 'month coordinator kyle gardiner', 'month mark strong', 'critical  consensus', 'superhero that', 'nick allen', 'film', 'it', 'they', 'screenplay', 'ivory', 'character', 'michael who', 'outdoor  scenes', 'train station scenes', 'i', 'first  cut', 'sony pictures classics', 'deal', 'it', 'film', 'it', 'when oliver oliver', 'dark  world', 'third  sequel', '', 'erik selvig', 'adriana barraza', 'maximiliano hernández', 'i', '', 'principal  photography', 'i', 'later  footage', 'promotional  partners', 'that', 'it', 'third  love', 'hadewijch', 'christian novice herself', 'she', 'hammer film productions', 'musical  personnel', 'someone', 'audrey  field', 'christopher lee', 'first  five', 'i', 'i', 'stories', 'kane', 'creature', 'alex garland', 'test shooting', 'adventure films', 'carol', 'film stars', '', 'two  relationship', '', 'you', 'proper  drafts', 'haynes', 'berwin', 'they', 'later weinstein company', 'she', 'he', 'intermediate  process', 'this', 'it', 'carol', 'carol', 'film critics circle', 'lachman', 'film', 'friend', 'she', 'he', 'they', 'fight miguel', 'maureen', 'metro goldwyn mayer', 'principal  photography', 'it', 'it', 'film', 'it', 'longtime  crush', 'he', 'son', 'dave', 'she', 'kick ass', 'they', 'then  they', 'then  producer', 'why  you', 'i', 'he', 'he', 'critic claudia puig', '', 'most', 'color film', 'eastman', 'first picture film stock', 'film', 'separate cine type films', 'number', 'amateur', 'film stock manufacturers', 'manufacturer', 'first  films', 'new  rating', 'tri acetate stock', 'release prints', 'film stars mammootty', 'they', 'day night day team', 'so  reports', 'thus  it', 'ary', 'particular  character', 'unda  storyline', 'ho liao', 'it', 'soundtrack album', 'police', 'graham', 'after  post', 'that', 'it', 'you', 'star wars', 'obi wan', 'denis lawson', '', 'evazan peter geddis', 'disney', 'we', 'now  they', 'force', 'it', 'drawings', 'george', 'millennium falcon set', 'lot', 'they', 'hirsch', 'film', 'industrial  light', 'star wars', 'poster', 'producer gary kurtz', 'charles lippincott', 'it', '40  theaters', 'version', 'gross', 'soundtrack', 'half million half copies', 'script', 'epic  films', 'similarly  films', 'biographical  films', 'titanic', '', 'dies', 'i', 'it', 'lifeboats', '15 boarding scenes', 'cameron', 'other  times', 'when  i', 'god', 'one  eye', 'person', 'filming  schedule', 'you', 'you', 'you', 'cameron', 'films', 'i', 'other  scenes', '', 'this', 'impact', 'it', 'i', 'repeat rate', 'ticket prices', 'good  movies', 'it', 'emotionally  aspects', 'he', 'kate winslet', 'homes', 'titanic 3d version', 'fowler', 'frank c. turner', 'however  most', '2018 tika sumpter', 'jim carrey', 'debs howard', 'visual  effects', 'film poster', 'thriving  some', 'title card', 'bathory', 'witch promises', 'afterward  erzsebet', 'film', 'first  appearance', 'movie', 'vivek oberoi', 'this', 'each', 'this', 'elements', 'crowdfunded  films', 'poor performance records', 'last  call', 'film stars', 'plot', 'he', 'film', 'where patrick mother', 'he', 'guy', 'acting  capabilities', 'last  release', 'ka', 'he', 'film', 'film', 'film', 'he', 'last  release', 'he', 'movie', 'this', 'he', 'taran adarsh', 'he', 'he', 'majority', '', 'body language', 'rampal', 'first  release', 'next  film', 'he', '', 'last  release', 'it', 'nineteen  shows', 'it', 'music festival', 'where patrick mother', 'he', 'guy', 'acting  capabilities', 'last  release', 'ka', 'he', 'film', 'film', 'film', 'he', 'last  release', 'he', 'movie', 'this', 'he', 'taran adarsh', 'he', 'he', 'majority', '', 'body language', 'rampal', 'first  release', 'next  film', 'he', '', 'last  release', 'it', 'nineteen  shows', 'it', 'music festival', 'härmä', 'it', 'common fantasy subgenres', 'high fantasy films', 'many  scholars', 'other  notables', 'griffith', 'animated film alice', 'otherwise  1960s', 'once  musical', 'some', 'highlander', 'general', 'furious  xerxes', 'greeks', 'certain  sequences', 'conceptual  art', 'collision studios', 'tnt', 'film', 'critics', 'critical  consensus', 'classical  sources', 'they', 'iranian  officials', 'voice cast', '2017 harry collett', 'de la tour', 'stack', 'everyday  example', 'molecular beam epitaxy', 'it', 'presently  nitrogen', 'electrohydrodynamic  deposition', 'adsorbate  interactions', 'nm thin gold that', 'layers', 'flexible  batteries', 'film', 'many 3d films', 'maggie awakens', 'sews mouth', 'taylor', 'ma', 'first  trailer', 'anna', '', 'that', 'film', 'more  scripts', 'general ross', 'electricity', 'turman', 'zak penn', '$ 20 million', 'france', 'supervisor dennis muren', 'sound  design', 'other  software', 'frequent ang lee collaborator', 'roger ebert', 'dennis muren', 'family film', 'film', 'family film', 'score', 'film', 'thillanayagam', 'last  nayantara', 'lyrics', 'sathyam', 'film', 'it', 'kabaddi', 'film', 'california film institute', 'founder', 'film center', 'on  mira', 'lobo', 'finally  characters', 'she', 'first  look', '2012  filming', 'conversion', 'viy', 'one', 'immortal  story', 'french  who', 'de beauplan', 'it', 'locals', 'carriage', 'second  carriage', 'she', 'flemyng', 'stunts', 'make artist petr who', 'film', 'proprietary  technology', 'reception', 'she', 'logan', 'logan', 'additionally eriq la salle', 'alison fernandez', 'i', \"'s\", 'i', 'music', 'music', 'teaser', 'it', 'hugh jackman', 'i', 'it', 'you', 'it', 'logan', 'top  openings', 'film', 'group', 'characterizations', 'two  scenes', 'parts', 'jim carrey', 'robin wright', 'christina ricci', 'crew', 'jurassic park', 'john', 'later  it', 'jurassic park', 'it', 'hard  disk', 'individual  who', 'established graduate programs', 'multiple  forms', 'film applicators', 'automatic film applicators', 'drawdown  process', 'this', 'square  applicator', 'film', 'music', 'songs', 'music', 'it', 'editor', 'film critics association', 'popular cinema chains', 'film industry', 'it', 'popular cinema chains', 'film industry', 'it', 'this', 'it', 'primary  characteristic', 'film format', 'sortable  table', 'it', 'film', 'however  films', '120  film', 'number', 'mostly  it', 'bodied voigtländer perkeo', 'iranian  films', 'iranian  cinema', 'visual  arts', 'popular  form', 'consequently film theatre', 'other cinema theatres', 'local feature film production', 'masoud kimiai', 'iranian  cinema', '100  features', 'farabi cinema foundation', 'year  government', 'today iranian box office', 'western  films', 'contemporary hollywood productions', 'renowned  directors', 'tehran international animation festival', 'fereydoun hoveyda', '', 'international film festival', 'it', 'festival', '2006 akira kurosawa', 'it', 'seminal dariush film', 'here  censorship', 'important  panahi', 'iranian  artists', 'they', 'we', 'i', 'iranian  films', 'iranian  cinema', 'visual  arts', 'popular  form', 'consequently film theatre', 'other cinema theatres', 'local feature film production', 'masoud kimiai', 'iranian  cinema', '100  features', 'farabi cinema foundation', 'year  government', 'today iranian box office', 'western  films', 'contemporary hollywood productions', 'renowned  directors', 'tehran international animation festival', 'fereydoun hoveyda', '', 'international film festival', 'it', 'festival', '2006 akira kurosawa', 'it', 'seminal dariush film', 'here  censorship', 'important  panahi', 'iranian  artists', 'they', 'we', 'i', 'battle royale', 'battle royale', 'noriko nakagawa', 'shuya', 'he', 'it', 'planned 9-day run', 'son', 'dvd version', 'seriously  you', 'reporter', 'new  line', 'battle royale phenomenon', 'american  television', 'examples', 'surya', 'film', 'film', 'award ceremony', 'chased', 'also  cut', 'this', 'ultimately  it', 'wesley craven', 'impact', 'he', 'he', 'you', 'that', 'jessica', 'marriage', 'i', 'i', 'wesley craven', 'impact', 'he', 'he', 'you', 'that', 'jessica', 'marriage', 'i', 'i', 'he', 'he', 'then  one', 'he', 'connery', 'bond', 'so  you', 'viewers', 'jay scott', 'lifejacket  craig', 'daniel craig', 'specifically  he', 'craig', 'he', 'he', 'he', '', 'he', 'it', 'film', 'it', 'film', '', 'firth', 'shooting', 'filming', 'film', 'they', 'family', 'he', 'he', 'he', '', 'he', 'it', 'film', 'it', 'film', '', 'firth', 'shooting', 'filming', 'film', 'they', 'family', 'film', 'trailer', 'inversion', 'educational  films', 'china', 'it', 'children', 'they', 'iib', 'only level iii', 'r rating', 'rating', 'distributors', 'unrated  film', 'age ratings', 'educational  films', 'china', 'it', 'children', 'they', 'iib', 'only level iii', 'r rating', 'rating', 'distributors', 'unrated  film', 'age ratings', 'ali wong', 'production', 'lively vanessa kirby', 'steven williams', 'filming', 'jay cassidy jay schiff', 'squash', 'original music score', 'cast', 'film', 'results', '', 'consensus results', 'name ollywood', 'odisha', 'it', 'this', 'it', 'it', 'name', 'phoola chandana', '', 'raja rani', 'tulasi apa', 'name ollywood', 'odisha', 'it', 'this', 'it', 'it', 'name', 'phoola chandana', '', 'raja rani', 'tulasi apa', 'break', 'these', 'films', 'dvd examples', 'el angel', '', 'window film', 'silvered  film', 'it', 'applied mirror film', 'window film', 'films', 'amount', 'window tints', 'solar window film', 'standards astm e903', 'mystic river', 'film', 'film', 'two', 'old daughter katie', 'she', 'pregnant  wife', 'soon  jimmy', 'dave', 'it', 'jimmy', 'you', 'film', 'veteran composer ilaiyaraaja', 'auro', 'he', 'day  media', 'vidya balan', 'she', 'college', 'film', 'edward vii school', 'soundtrack', 'colonel', 'cube', 'film', 'natali', 'short', 'cube', 'it', 'side', 'bloody  disgusting', 'positive  review', 'however  film', 'things', 'things', 'first film colorization methods', 'technique', 'process', 'result', 'movies', 'orson', 'law', 'colorization', 'series', 'it', 'slavi', 'mandy', 'song', 'later  it', 'second  film', 'equalizer', 'she', 'same  sequence', 'first  films', 'most', 'silent horror film', 'however  code', 'they', 'pubic  area', 'original', 'however critic roger ebert', 'she', 'video', '', 'movie critics', '', 'i', 'both', 'when  they', '', '', 'male  genitals', 'film', 'where  scenes', 'most', 'it', 'she', 'johnson', '2  dvd', 'stephen holden', 'it', 'warren skaaren', 'uncredited  drafts', 'three  sequels', 'batman', '', 'holden', 'nine  rewrites', 'burton', 'kane', 'robin williams', 'jack nicholson', 'robert wuhl', 'we', 'hell', '18 sound stages', 'original production budget', 'jonathan gems', 'they', 'screenwriter sam hamm', 'stories', '750 million 750 worth', 'you', 'gross', 'i', 'he', 'now  everyone', '', 'superior court judge', 'batman', 'he', 'she', 'biggest  star', 'it', 'john bip', '1927 films act', 'new  venture', 'paul rotha', 'horror film', 'attitude', 'style', 'anderson', 'critical  responses', 'commercial  success', 'annual  investment', 'working titles films', '', 'it', 'number', 'british  directors', 'film industry', 'biggest  star', 'it', 'john bip', '1927 films act', 'new  venture', 'paul rotha', 'horror film', 'attitude', 'style', 'anderson', 'critical  responses', 'commercial  success', 'annual  investment', 'working titles films', '', 'it', 'number', 'british  directors', 'film industry', 'she', 'who', 'bourne', 'bourne', 'you', 'then  i', 'instead bourne legacy', 'it', 'film', 'vishal bhardwaj', 'principal  photography', 'film score', 'film', 'marketing budgets', 'publicity', 'he', 'arjun', 'she', 'zoya', 'she', 'album', 'music', 'tu hai', 'it', 'lucid', 'nandi awards', 'nandi awards', 'she', 'it', 'waitress', 'stage musical', 'movie', 'chronological  improvements', 'animated  cartoon', 'wide screen formats', 'most  movies', 'imax', 'black  movies', 'kinemacolor', 'kodachrome', 'effort', 'he', 'practice', 'today  trend', 'different  ratios', 'this', 'invention', 'it', 'it', 'speed', 'then  he', 'cinematography', 'movie', 'chronological  improvements', 'animated  cartoon', 'wide screen formats', 'most  movies', 'imax', 'black  movies', 'kinemacolor', 'kodachrome', 'effort', 'he', 'practice', 'today  trend', 'different  ratios', 'this', 'invention', 'it', 'it', 'speed', 'then  he', 'cinematography', 'ski films', 'ski', 'picture', 'lcd technology', 'sasaki', 'working  title', 'fukunaga', 'dali benssalah', 'longtime favourite christopher nolan', 'spectre', 'malek', 'fukunaga', 'dali benssalah', 'longtime favourite christopher nolan', 'spectre', 'malek', 'rookwood', 'ignorance', 'name adam sutler', 'it', 'closest  rival', 'ebert', 'gordon', 'first', 'second', 'final  song', 'reviewer danielle solzman', 'artillery fire', 'two', 'minister joseph goebbels', 'he', 'film', 'it', 'it', 'film', 'second song raat kitni', 'film', 'it', 'telugu anchor chitralekha', 'he', 'climax', 'soundtrack', 'cinegoer.net', 'entire  compilation', 'audio', 'however  absence', 'cast', 'climax', 'movie', 'things', 'it', 'telugu anchor chitralekha', 'he', 'climax', 'soundtrack', 'cinegoer.net', 'entire  compilation', 'audio', 'however  absence', 'cast', 'climax', 'movie', 'things', '', 'poitín', 'animation', 'film', 'several  celebrities', 'imdb', 'entire  project', 'giovanni signs wife', 'lidia', 'giovanni', 'giovanni', 'i', 'he', 'even  boredom', 'giovanni signs wife', 'lidia', 'giovanni', 'giovanni', 'i', 'he', 'even  boredom', 'jal', 'this', 'entire  song', 'background score', 'journalists michael', 'word', 'scholarly  analysis', 'film', 'thirty five media commentators', 'it', 'fuck', 'a. o. scott', 'fuck', 'teacher', '2  conclusion', 'soundtrack', 'meanwhile  kuntala', 'devasena', 'series', 'r.c.kamalakannan', 'costume designers', 'film', 'actor nassar', 'it', 'video', 'he', 'malayalam version', 'film', 'it', 'it', 'however  rumours', 'tickets', 'later  tickets', '2  conclusion', 'indian  mythos', 'prabhas', 'this', 'indian  that', 'frame', 'this', 'daughter', 'baahubali', 'worldwide  it', '2  conclusion', 'soundtrack', 'meanwhile  kuntala', 'devasena', 'series', 'r.c.kamalakannan', 'costume designers', 'film', 'actor nassar', 'it', 'video', 'he', 'malayalam version', 'film', 'it', 'it', 'however  rumours', 'tickets', 'later  tickets', '2  conclusion', 'indian  mythos', 'prabhas', 'this', 'indian  that', 'frame', 'this', 'daughter', 'baahubali', 'worldwide  it', 'basant', 'film', 'yaman', 'score', 'films', 'series', 'prime  directive', 'this', 'writing trio', '2010  script', 'shia labeouf', 'j. miller', 'two  who', 'room members', 'lindsey beer', 'it', 'last  knight', 'this', 'characterization', '', 'movie', 'this', '', 'same  who', 'schumacher', 'dvd version', 'two disc version', 'dvd versions', 'dreamgirls', 'simple consensus characters', 'book', 'scrapbook', 'jobs', 'later  jobs', '', 'film', 'it', 'critical  consensus', 'he', 'he', 'historical  that', 'you', 'i', 'i', 'wozniak', 'he', 'it', 'i', 'he', 'chris espinosa', 'it', 'we', 'filming', 'it', 'next  one', 'theatrical mpaa trailers', 'internet', 'only  that', 'date', 'walter reade', 'who', 'both', 'first  film', 'critic pauline kael', 'how  anything', 'it', 'movie', 'score', 'however  jack', 'i', 'i', 'he', 'official  trailer', 'it', 'genre', 'francis ford godfather', 'it', 'some', 'film', 'three  films', 'it', 'later  buslov', '1940  film', 'film', 'film', 'successful telugu films', 'nandi', '2006 film bommarillu', '1968 cult classic sudigundalu', '', 'p. patnaik', '1940  film', 'film', 'film', 'successful telugu films', 'nandi', '2006 film bommarillu', '1968 cult classic sudigundalu', '', 'p. patnaik', 'it', 'film', 'it', 'two certificate awards', 'award', 'creation', 'sibling writers', 'wan', 'film', 'wan', 'around  nurse', 'what', 'something', 'daughter', 'short  film', 'innocent  souls', 'film', 'innocent  souls', 'short  film', 'owners', 'creation', 'sibling writers', 'wan', 'film', 'wan', 'around  nurse', 'what', 'something', 'daughter', 'short  film', 'innocent  souls', 'film', 'innocent  souls', 'short  film', 'owners', 'verna', 'who', 'reason', 'they', 'mom', 'sara', 'sara', 'it', 'lyrics', 'verna', 'product', 'nickelodeon movies', 'films', 'nickelodeon movies', 'it', 'film', 'it', 'rugrats', 'film', 'one', '2002 barry sonnenfeld', 'film', 'it', 'sequel', 'i', 'film', 'it', 'however  it', 'film', 'it', 'it', 'bay', 'it', 'film', 'it', 'film', 'it', 'morning uncle hat', 'principal  photography', 'nick urata', 'music', 'ilfochrome materials', 'different  techniques', 'two  examples', 'sheet', 'film', 'ilfochrome materials', 'different  techniques', 'two  examples', 'sheet', 'film', 'matchless', 'it', 'robin hood', 'meanwhile prince john', 'children', 'we', 'film', 'both', 'song love', 'company', 'human  harvest', 'film', 'sequel', 'where  rachael', 'roy kisses', 'deckard', 'film', 'inherent  ambiguity', 'william sanderson', 'joe pantoliano', 'i', 'they', 'i', 'now  i', 'he', 'i', 'we', 'backlot', 'other  locations', 'he', 'voight kampff machine', 'blade runner', 'cameras', 'date', 'extra  which', 'several  versions', 'only  scott', 'initial  reactions', 'blade runner', 'film', 'these', 'film', 'sequel', 'where  rachael', 'roy kisses', 'deckard', 'film', 'inherent  ambiguity', 'william sanderson', 'joe pantoliano', 'i', 'they', 'i', 'now  i', 'he', 'i', 'we', 'backlot', 'other  locations', 'he', 'voight kampff machine', 'blade runner', 'cameras', 'date', 'extra  which', 'several  versions', 'only  scott', 'initial  reactions', 'blade runner', 'film', 'these', 'film', 'barood', 'honest police man', 'film', 'film', 'methods', 'he', 'it', 'film', 'mukesh chhabra', 'mallika sherawat', 'natural  light', 'music', 'it', 'dangal', 'footfalls', 'this', 'dangal', 'film', 'we', 'so  dangal', 'we', 'they', 'unfortunately  they', 'film', 'hackett', 'overlapping  audio', 'american  people', 'finch', 'we', 'camera setups', 'camera', 'same camera angle', 'song', 'statuette', 'sequel', 'connors', 'ben', 'mask spider man', 'matt', 'director webb', '', 'i', '2  character', 'kari coleman', 'screenwriters james', 'john malkovich', 'particularly  he', 'so  that', 'three  films', 'i', 'it', 'least  bell', 'shortlist', 'embeth davidtz', 'that', 'film', 'james horner', 'webb', 'hardee', 'mobile  phones', 'other  placements', 'special  screening', 'missing  items', 'site', 'gym', 'viral  website', 'viral  site', 'cancer', 'movie', 'china', 'bob mondello', '', 'comic  character', 'nerds', 'he', 'hat', 'annual international film festival', '147', 'final  awards', '110', '110', '', 'latter', 'speed', '', 'costumes', 'muir', 'extras', 'he', 'eggers', 'author matthew bannister', 'japanese developer hideo kojima', 'author matthew bannister', 'japanese developer hideo kojima', 'biology teacher', 'inspector matthew', 'body samples', 'arya', 'climactic  schedule', 'music', 'julieta', 'julieta', 'attempts', 'julieta', 'i', 'filming', 'confidencial', 'le parisien', 'museum collection', 'predecessor', '']\n",
            "['own', 'later  distance', 'then  elder', 'fire', 'outside  him', 'religious  awakening', 'craig cast', 'later action cast', 'later paul ben cast', 'just  film', 'tests', 'international sales rights', 'canadian  soundtrack', 'original music tracks', 'reviewed  franchise', 'accidentally  mystique', 'military  arrest', 'vuk', 'gallio', 'men', 'last  penn', 'same  character', 'cinematographer', 'october', 'digitally  june', 'digitally  august', 'studios motion pictures', '$ 103.7 million', '', 'executive producer yoshimitsu banno', 'former employee dr', 'several  dr', 'mythological  texts', 'older  dr', 'king themselves', 'when  reaction', 'godzilla', 'only  monarch', 'ten  treatment', 'year', '', 'this', 'big  dinosaurs', 'other  body', 'art directors', 'may', 'bear mccreary', 'also  mccreary', 'december', 'april', 'originally  june', 'two  sizes', 'hdr10', 'clear  files', 'one  liners', 'science fiction twist', 'extensive stunt work', 'indiana jones franchise', 'typical action horror films', 'recent  trend', 'often entertainment storytelling', 'many  roles', 'also  production', 'finally  marketing', 'certain  cases', 'college film school', 'screenwriters', 'other film school', 'different  approaches', 'additional  roles', 'sound  stages', 'five  studying', 'berlin tv station rbb', 'la paris', 'prominent film award india', 'first  1954', 'main  categories', 'home  apartment', 'gotham', 'arkham state hospital', 'august', 'even  joker', 'then  that', 'pereira olson  cast', 'theatrically warner bros', 'eye  me', 'it', 'it', 'it', 'it', 'short samuel beckett', '22  may', 'zero alan mostel', 'then buster keaton', 'only united states', 'max wall', 'violently  left', 'other', 'vestibule', 'brief close up', 'slowly  feet', 'eyes', 'stairs', 'simply  tasks', 'them', 'still eye patch', 'half  chair', '', 'away  himself', 'merely  person', '', 'various  ways', '', 'particular  project', 'four  series', 'book', 'film', 'acting school plays', 'four  films', 'tanya seghatchian tanya wigram', 'real  passion', 'other', 'eight  films', 'substantial  piece', 'four  composers', 'harry potter', '2  2011', 'trumps', 'last  time', 'orphaned  aunt', '2  2d', 'january', 'principal  august', 'director', 'bruce wayne barry allen', 'worldwide  november', 'october', 'august', 'credits  scene', 'san diego comic con', 'early  december', 'key  role', 'filming warner bros', '1984  june', 'initial  berlanti', 'writer', 'march', 'speed force multiverse', 'january', 'sometime  2021', 'emmerich', '2020', '2  december', 'shortly batman v superman', 'january', 'principal  august', 'director', 'bruce wayne barry allen', 'worldwide  november', 'october', 'august', 'credits  scene', 'san diego comic con', 'early  december', 'key  role', 'filming warner bros', '1984  june', 'initial  berlanti', 'writer', 'march', 'speed force multiverse', 'january', 'sometime  2021', 'emmerich', '2020', '2  december', 'shortly batman v superman', 'two freddie kiss', 'last minute slot', 'april', 'project', 'man', 'him', 'executive producer credit', '8  february', '22  january', 'threatening  illness', 'outside north america', 'new  france', 'ever south korea', 'conclusions', 'also  fantasy', 'ghosts', 'third faust legend', 'trick films', 'special  effects', 'three  artists', 'close surrealist movement', 'five  stories', 'german  expressionism', 'themed  movie', 'gothic horror novel dracula', 'expressionism style', 'german expressionist movement', 'exaggerated dc joker', 'poorly  audiences', 'special morality effects', 'earlier  film', 'well  critics', 'abnormal  brain', 'first rue morgue', 'boris karloff', 'first  july', 'blue murder mystery room', 'boris karloff', 'six  movies', 'iconic  actors', 'screenplay', '1931 hit frankenstein', 'bride', 'writing', 'slowly  him', 'title role', 'intervening  decades', 'boris karloff', 'universal 112th sound', 'other  lead', 'way', 'film gimmick', 'well creature feature', 'american vincent price', 'popular cult culture', 'surreal twilight experiences', 'american horror films', 'italian nicolas roeg', 'main horror films', 'ever film critics association', 'psychological peter medak', 'still  films', 'bloody day fiction', 'philippines', 'several  1980s', 'special artist stan winston', 'american fiction horror paul', 'quite  1990s', 'first tremors franchise', 'contrast', 'many  awards', 'alejandro amenábar', 'comic blade series', 'pronounced horror films', 'english language countries', 'spanish debut filmmaker', 'norwegian roar uthaug', 'psychological horror film', 'latter  sequel', 'extraterrestrial  themes', 'real horror events', 'happy death february', 'typical action horror films', 'also fantasy genre', 'holiday  season', 'christmas', 'all r house', 'frankenstein', 'vengeful  ghosts', 'ring', 'sometimes science fiction', 'birds', 'most  1964', 'unfriended friend request', 'noticeable side effects', 'social  controversy', 'positive  endings', 'illicit love affair', 'duck soup', 'portmanteau words splatter', 'good  morning', 'thin  coating', 'international film commerce', 'simple  friends', '19  may', '2007', 'european  films', 'european sarah cinema', 'black  pearl', 'generated disney pictures logo', 'officially port locations', 'suddenly  musicals', 'musical  numbers', '2 box office', 'first  oliver', 'original  universe', 'musical  rio', '', 'late  1950s', 'hona', '1990s', 'juvenile box office', 'greatly  aleksandrov', 'social  message', 'popular  films', 'singing', 'here  spectacle', 'musical  films', 'wife', 'most  type', 'term', 'usually film grants', '', 'nation', 'typically  serial', 'short  subjects', 'student  work', 'also  period', 'commercial  distribution', 'short television films', 'also  internet', 'second it film series', 'adult gretta', 'ideally  march', 'only  kids', 'jessica chastain', 'derry library', 'atomic  arts', 'benjamin wallfisch', '', 'second it film series', 'adult gretta', 'ideally  march', 'only  kids', 'jessica chastain', 'derry library', 'atomic  arts', 'benjamin wallfisch', '', 'long  time', 'narrative kelly gang', 'noteworthy style events', 'days quo pompeii', 'first feature film', 'edgar yip harburg', 'incidental  stothart', 'four page outline', 'betty  jaynes', 'instead frank september', 'wicked  witch', 'him', 'three strip technicolor', 'special effects film', 'tornado scene', 'small  maquete', 'real lion skin', 'musical  selections', 'solo  parts', 'musical editing process', 'ding dong', 'smaller dialogue sequences', 'first san bernardino', 'nationwide  august', 'warner bros', 'focus  world', 'ultra hd', 'still g rating', 'so  half', '', 'original  book', 'james franco', 'critical  reception', 'final costume design', '1982', 'police story', 'mehboob aurat', 'gunga  jumna', 'honor killings', 'angry  men', 'revalina sayuthi temat', 'muslim actor surya', 'meanwhile  affections', 'individual people bramantyo', 'rp 5 billion', 'main cast members', 'made  tv', 'movie', 'principal  june', 'day  november', 'final  march', 'north america', 'largest  china', 'double  amount', 'even  presence', 'agency', 'power', 'very  rape', 'principal  august', 'composer philip music', 'artistic film music', 'convenient media producers', '250,000 us tracks', 'strength', 'where zellweger film', 'tear', 'killers', 'smith  war', 'cynical  image', 'unfortunately  .', 'seriously  release', 'temporarily  brazil', '5  july', 'film', 'something', 'it', 'serbian  film', 'conscience', 'political anand shankar', 'box office', 'video game uk', 'house arrest', 'then  rowdy', '23 sleeping pills', 'many  lives', 'heated  argument', 'emotional  characters', 'box office', 'indian s. shankar', 'soundtrack a. r. rahman', 't. muthuraj', '15  july', 'chennai', 'diya', 'well  diya', 'soon  truth', 'instead  her', 'face', 'then  them', 'secluded  life', 'anl  arasu', 'prosthetic christien tinsley', 'later  chopra', '14  january', 'experience', 'satellite rights', '240  crores', '2015 kanittha kwanyu', 'tamil film industry', 'grossing tamil 2016', 'tamil film industry', 'grossing tamil 2016', 'increasingly  films', 'specific film maker', 'prestigious  world', 'oldest film world', 'international sydney film festival', 'short yorkton film 1947', 'south tribeca film southwest', '1963', 'independent  uk', 'specific issues/ subjects', 'mainstream  films', 'related film festivals', 'john thimothy', 'hot filmmaker paul jay', '80  screenings', 'competitive film mexico', 'important film chile', 'american  cinema', 'exclusively  animation', 'notable international film festival', 'prestigious film world', 'short  films', 'universal  pictures', 'final  2020', 'soft car culture', 'visual  likeness', 'ultimately  april', 'ghost hologram', 'additionally  drivers', 'following  website', 'mixed  reviews', 'renowned designer eric tscherne', 'short  films', 'universal  pictures', 'final  2020', 'soft car culture', 'visual  likeness', 'ultimately  april', 'ghost hologram', 'additionally  drivers', 'following  website', 'mixed  reviews', 'renowned designer eric tscherne', 'dual  1956', 'first  1954', 'short  khamakha', 'next  year', 'two  change', 'hundred  future', 'rafiasha bhoslekishore', 'dual  1956', 'first  1954', 'short  khamakha', 'next  year', 'two  change', 'hundred  future', 'rafiasha bhoslekishore', 'grossing north america', 'cave', 'played  robin', 'leslie', 'late  1970s', '1981', 'separate  writers', '$ 50 million', 'warren skaaren', 'warner bros', 'more  money', 'arnold .', 'then  them', 'warner bros', 'batman franchise', 'december', 'also  no', 'dark batman trilogy', 'selina kyle', 'also  film', 'killer croc', 'early  2019', 'paper negatives', 'transparent  1889', 'flammable  nitrocellulose', 'only  blue', 'however  these', 'lumière glass plate 1907', 'snapshot  use', '278  patents', 'photographic  film', 'when color film', 'different film types', 'heavy  exposure', 'average  density', 'russian standards authority', 'common  iso', 'expensive  quartz', 'sometimes  spectrum', '', 'silent london fog', 'future james bond films', 'more thriller genre', 'such silver streak', 'often  criminal', 'killers  murders', 'late  1960s', 'pelican  brief', 'tall  man', 'psychic  ability', 'thirteenth  floor', 'erotic erik van looy', '', 'ann', 'july', 'negative  reviews', 'brief  battle', 'frodo  sword', 'then uruk hai', '', 'defeated  palantír', 'gandalf capital minas tirith', 'gollum  chasm', 'ring', 'it', 'own film production company', 'favourite new zealand', '8  september', 'numerous film series', 'musical walt disney pictures', 'new  life', 'hakim', '1000  dancers', 'better  notices', 'international  china', 'original  film', 'july', 'may', 'may', 'may', 'june', 'later  film', 'then  script', 'july', 'kinberg', 'april', 'february', 'may', 'risky  missions', 'additional  august', 'june', 'three  films', 'men', 'cerebral  tone', 'white  zombie', 'second united states', 'earlier  recordings', 'fifth studio album', 'elaborate shock rock theatricality', 'oldest  cummings', 'lead band powerman', 'album rob', 'second sinister november', 'second  single', 'theatrically  april', 'educated  march', 'grossing  date', 'august', 'comic  book', 'hellbilly  february', 'officially  december', 'plan', 'april', 'lowest selling date', 'april', 'it', 'yet release date', 'white  zombie', 'white  zombie', 'second united states', 'earlier  recordings', 'fifth studio album', 'elaborate shock rock theatricality', 'oldest  cummings', 'lead band powerman', 'album rob', 'second sinister november', 'second  single', 'theatrically  april', 'educated  march', 'grossing  date', 'august', 'comic  book', 'hellbilly  february', 'officially  december', 'plan', 'april', 'lowest selling date', 'april', 'it', 'yet release date', 'white  zombie', 'deal  contracts', 'actually  film', 'separate call times', 'everyone', 'camera operator', 'video film editor', 'digitally  artist', 'exhibition', 'deal  contracts', 'actually  film', 'separate call times', 'everyone', 'camera operator', 'video film editor', 'digitally  artist', 'exhibition', 'uk age verification scheme', 'local  films', 'first bourne identity', 'when job vacancies website', 'also video games', 'public  consultations', 'march', 'following  certificates', 'licensed  cinemas', 'foreign  award', 'foreign language film award', 'also  category', 'nomination', 'one  country', 'foreign language film award', 'underground  channels', 'softcore  pornography', 'sexual  activity', 'earliest  pioneers', 'earliest  films', 'pornographic  films', 'demand', 'modeling  photography', 'european  continent', 'dallas', 'this', 'dedicated industry publications', 'also  houston', 'pornographic  films', 'certain  genres', 'normally  jewellery', 'support group member', 'bloody  head', 'annual sundance institute', '24  february', 'sterling van wagenen', 'first jimmy stewart', 'actor resident robert redford', '2013 car maker jaguar', 'same  venue', 'siddharth action thriller anand', 'lead  role', 'martial south korea', 'sanchit balhara', 'today  it', 'highest bollywood films', 'all  world', 'technical  length', 'victorian art age', 'technical  1923', 'painted  slides', 'first  device', '1901 film scrooge', 'more china mission station', '1900', 'proper  plots', 'silent  films', 'african american film industry', 'different  approach', 'italy', 'early charles urban', '1912', 'danish  industry', 'important svenskabiografteatern cinema chain', 'so film 1918', 'french éclair company', 'higher  prices', 'biggest  years', 'nation', 'seriously  war', 'floodlights', 'vertical  apertures', 'still  photography', 'untitled edward raymond turner', 'subsequently  1916', 'desperate  journey', 'greatest  time', 'also  audiences', 'notably peter beauty', 'interesting  respect', 'seven films blood', 'george lucas star wars', '1962', 'new  hollywood', 'new hollywood producers', 'style', 'indian  time', 'same spy kids', 'recorded  sound', 'sheet music', 'retroactively  something', 'usually  pianist', 'groundbreaking  nation', 'modern day audiences', 'silent film actors', 'intended  speeds', 'times  screen', '3-bladed  shutters', 'mysterious  atmosphere', 'early york city area', 'fort lee', 'gross exhibition gross', 'silent rolf de heer', 'silent film styles', 'silent pablo berger', 'silent film comedies', 'positive  reviews', 'morph  time', 'year', 'early motion pictures', 'more  .', 'inaccurate  hues', 'mid-20th  century', 'sometimes  cover', 'entirely  black', 'early motion pictures', 'more  .', 'inaccurate  hues', 'mid-20th  century', 'sometimes  cover', 'entirely  black', 'first it film series', 'chosen stephen roles', 'grossing horror time', 'also  that', 'scary  clown', 'all  core', 'different  approach', 'really  bill', 'arri alexa xt', 'lenses', 'natural  look', 'like  quality', 'away  it', 'just  sync', 'overall  face', '10,560  screens', 'that', 'awards season', 'scary bill nightmares', 'ideally  march', 'only  kids', 'category', 'warner bros', 'maltese  falcon', 'others', 'british century subsidiary', 'cold  war', 'classic overt noir', '', 'implacable  investigator', 'many  manners', 'dead  plaid', 'darker  tones', 'parodic  strain', 'still  mood', 'identifying  characteristics', 'partially  darkness', 'conventional hollywood filmmaking', 'only  mirrors', 'different  ways', 'many film noirs', 'frequently gambling action', 'vidyasagar', 'moderate box office', 'standard  perforations', 'several emulsion types', 'standard  specification', '38.00  mm', 'daily  press', '1914', '× mm stereo format', 'single kine 1936', 'dramatic łukasz palkowski', 'private  funding', '', 'afi conservatory', 'first filmmakers terrence malick', 'july', '1968', 'outstanding  films', 'competitive  excellence', 'american afi fest', 'additional american airlines', 'documentary washington', '27,000 documentary enthusiasts', 'cultural silver spring', 'afterwards  director', 'victory', '', '', 'future  film', 'most shepperton studios', 'officially  january', 'same  mclaren', 'human  abilities', 'samoa chopper destruction', 'clearangle', 'second  april', 'final  june', 'film', 'afterwards  director', 'victory', '', '', 'future  film', 'most shepperton studios', 'officially  january', 'same  mclaren', 'human  abilities', 'samoa chopper destruction', 'clearangle', 'second  april', 'final  june', 'film', 'long  camera', '1900', 'artistic  bond', 'motion picture terminology', 'classic  rocky', 'same tone value', 'temporary  sound', 'one  assistant', 'best  management', 'career path', 'american trade magazine avn', 'porn', 'rated critics organization', 'topless women', 'pornographic casey hit', 'commonly  20s', 'boxcover', 'power', 'five phone calls', 'phone calls', 'gangbangs', 'even phone call', 'anal girl toy', 'most adult industry', 'anyone', '$  60,000', '$  40,000', 'public health authorities', 'dielectric  films', 'current  rating', 'less  material', 'film metal foil construction', 'however self healing properties', 'mku film capacitors', 'mixed film materials', 'metallized  versions', '50  pf', 'metallized  versions', 'metallized  types', 'metallized  types', 'only  ptfe', 'often dupont trademark teflon', '', '2012', 'offered kapton dhgate', 'european  standards', 'standard  abbreviations', 'particular  application', 'derating  dc', 'alternating  voltage', 'alternating  voltage', 'effect', 'equivalent  capacitor', 'film capacitors', 'aging  processes', 'main film capacitors', 'low self inductance', 'important  application', 'special construction features', '', 'current  surges', 'physical  dimensions', 'generated  imagery', 'also information technology interfaces', 'detailed  drawings', 'animated cutout animation', 'tom terrific', '2008', 'directly computer system', 'digitally  animator', '3d polygon mesh', 'live  action', 'awardees', 'generated  imagery', 'also information technology interfaces', 'detailed  drawings', 'animated cutout animation', 'tom terrific', '2008', 'directly computer system', 'digitally  animator', '3d polygon mesh', 'live  action', 'awardees', 'jubilee hills', 'mmts hitec city', 'film cameras', 'where  advantages', 'different cost emphases', 'more film equivalents', 'intense  competition', 'torre  vendruscolo', 'television series boris', 'later  role', 'miller', 'script', 'harder  anybody', 'set  piece', 'october', 'rated  violence', 'misogynistic internet comments', 'theatrical  august', 'september', 'mortal  kombat', 'later  role', 'miller', 'script', 'harder  anybody', 'set  piece', 'october', 'rated  violence', 'misogynistic internet comments', 'theatrical  august', 'september', 'mortal  kombat', 'important plot element', 'mainly  crime', 'films', 'silent  era', 'more  1953', 'now  1909', 'again  1993', 'made nigel holmes', 'now  1920s', 'oriental  detective', 'last  1937', 'vance', 'thin man formula', 'standard house formula', 'entirely  viewpoint', 'serial chick carter', 'mysterious  intruder', 'real life brother', 'french exile rené clair', 'dark genre horror films', '', 'where  them', 'françois truffaut', 'detective part genre', 'private  .', 'downbeat bill hickey', 'bitten powers detective', 'female  detectives', 'serial alphabet killer', 'long kiss goodnight', 'mulholland', 'private  eye', 'german daniel embassy', 'national film awards', 'rajat kamal cash prize', 'anything', 'considerably  romans', 'little  scenery', '', 'theatre', 'sexual  explicitness', 'british actor managers', 'major  city', 'formerly  societies', 'it', 'most  blocking', 'hand  hand', 'modern day audiences', 'silent film actors', 'mark', 'well screen tests', 'lav mics', 'series', '1940s', 'newly  cds', 'anything', 'considerably  romans', 'little  scenery', '', 'theatre', 'sexual  explicitness', 'british actor managers', 'major  city', 'formerly  societies', 'it', 'most  blocking', 'hand  hand', 'modern day audiences', 'silent film actors', 'mark', 'well screen tests', 'lav mics', 'series', '1940s', 'newly  cds', 'lost  film', 'cases', 'deteriorated  condition', 'high theda bara', '35  1949', 'occasionally  films', 'close premiere version', 'film', 'since  television', 'popular consumer snapshots', 'typically  100', 'film type', 'polaroid land process', 'film density', '1963', '1972', 'market', '1983', 'instant  film', 'instax mini fuji instax film', 'type instant packfilm type products', 'square 1:1 instax square format', 'improved  films', 'ensemble  cast', 'ensemble  cast', 'salim salman khan', 'eldest screenwriter salim khan', 'st', 'mumbai', '1995', 'played family enemies', 'unconventional  performance', 'mixed  reviews', 'first  2010', 'later  tamil', 'brother', 'first  2011', 'mahesh aaicha manjrekar', 'first  banner', 'grossing  canada', '10 ka dum', 'kar dikhane ndtv', 'also bigg boss', 'later  khan', 'also detergent brand wheel', 'latest  salman', 'also  ranbaxy', 'loyal bodyguard son', 'focus  areas', 'bhaijaan star khan', 'galaxy apartments', 'actress katrina kaif', 'august', 'fast  case', 'then  it', 'salim salman khan', 'eldest screenwriter salim khan', 'st', 'mumbai', '1995', 'played family enemies', 'unconventional  performance', 'mixed  reviews', 'first  2010', 'later  tamil', 'brother', 'first  2011', 'mahesh aaicha manjrekar', 'first  banner', 'grossing  canada', '10 ka dum', 'kar dikhane ndtv', 'also bigg boss', 'later  khan', 'also detergent brand wheel', 'latest  salman', 'also  ranbaxy', 'loyal bodyguard son', 'focus  areas', 'bhaijaan star khan', 'galaxy apartments', 'actress katrina kaif', 'august', 'fast  case', 'then  it', '', 'music', 'first  actress', 'principal  december', 'incessantly call centre', 'unsolicited  requests', 'more  puja', 'further  backfires', 'trash karamveer', 'him', 'principal  december', '13  september', 'due copyright issue', 'language heist don sandy', 'sam c.', 'anthony l. ruben', 'yugabharathi', 'film reference 1990', 'tiff', 'five  cinemas', 'december', 'major feature length film', 'documentary madness films', 'different  angle', 'production', '19  december', 'hindu  sentiment', 'cassette recorder', 'india', 'nothing', 'alien  delhi', 'remote', 'eventually  film', '20  august', '15  september', 'new  year', 'film', 'mitha banarasi paan', 'feature phones', 'google play', '6  june', 'more time editing', 'besides sanjay dutt', 'hence december release', '4844  screens', 'tax uttar pradesh', '₹150 million', 'first  rentrak', '17  november', '8  november', 'doubt', 'international  markets', 'grossing  2014', 'than ₹7 billion', 'chiranjeevi', 'soundtrack  ilaiyaraaja', 'then  prince', 'also devagiri empire', 'eventually  role', 'neeta  costumes', 'official  march', '35 ₹86.92 days', 'tamil  version', 'malayalam survival drama blessy', 'original a. r. rahman', 'a. r. rahman', 'fellow art student', 'partners', '2010 raul inglis', 'producer', '', 'dual strip format', 'early 3d craze', 'five  that', '3-d  rko', 'one  notoriety', '70 mm 3d', 'two  films', 'love', 'egyptian  theatre', 'lost shorts country', 'many  ways', 'new stereoscopic cameras', 'existing 3d camera system', 'digital  3d', 'several 3d backgrounds', 'one  orin', '2004', 'solely imax theaters', 'solely  3d', 'other 2d films', 'visual  effects', 'special  presentations', 'around  1936', 'likewise level stereo projectors', 'result', 'nvidia', 'projection filters', 'high glass optics', 'passive  lidar', '2-d  glasses', '14 smpte standard', 'extended  universe', 'two  laboratory', 'confidence', 'confidence', 'human  heart', 'own wonder woman', 'grown  woman', 'three picture deal', 'picture  deal', 'ever warner bros', 'rated superhero site', '1918-era design london', 'war', 'popular  mechanics', 'gender boundaries', 'her', 'debate', 'day', 'more  critique', 'female  motherhood', 'female  character', 'them', 'cam gigandet', 'ali larter', 'smaug', 'blockbuster  lgbtq', 'there  kimberly', 'so morphing grid', 'goldar', 'zack script', 'music', 'then  jason', 'may', 'additional  october', 'brian tyler', 'international  december', 'just ant man', 'as  future', 'world', '', 'honorable  mentions', 'german film 1940', 'nazionale  italian', 'best  actor', '1921  novel', 'russian writer yevgeny zamyatin', 'score', 'christian  mysticism', 'former president richard nixon', 'washington', 'also founder rob script', 'additional  takes', 'also  mansfield', 'thomas newman', 'positive  reviews', 'category', 'other king stories', 'similarly  august', 'darabont', 'inspiring  films', 'score', 'christian  mysticism', 'former president richard nixon', 'washington', 'also founder rob script', 'additional  takes', 'also  mansfield', 'thomas newman', 'positive  reviews', 'category', 'other king stories', 'similarly  august', 'darabont', 'inspiring  films', '1972 song rocket man', 'principal  august', 'john reid', 'mother', 'two  decades', 'screenplay', 'initially  autumn', '2  august', 'samoa', 'difficult family life', 'danger zone', 'indian action s.', '30  july', 'away  cries', 'tyler  tethered', 'that', 'less  fortunate', 'official  december', '2k  master', 'action michael mann', '', 'nsa', 'barely  subway', 'henchmen', 'digital  cameras', '35  mm', 'additional  music', 'lee', 'may', 'currently  tnt', 'film production glasgow', 'red  palme', 'second jamie bell', 'aneurin barnard', 'green  scott', 'luci', 'american transformers toy line', '', 'fake working title', 'first dreamwave transformers', 'real  metal', 'set', 'own  theme', 'also  score', 'second  fallen', 'dark  moon', 'critical  reviews', 'rated transformers series', 'extended  universe', 'main  2016', '', 'cause', 'upper  hand', 'arthur  him', 'tom curry', 'screenplay', '2018  dr', 'visual effects supervisors', 'lead vfx atlantis', 'organic  creatures', '670  shots', 'dead island environment', 'keyframe animation', '19  shots', '450  shots', 'vfx supervisor', 'sound dock stages', 'classic sibling rivalry', 'month  aquaman', 'philippines', 'all  spectacle', 'ambition', '2018  that', '', 'sequel', 'tinged  development', 'open united kingdom', 'also  films', 'commercial  impact', 'original  score', '1492  paradise', 'free  banner', 'critical  successes', 'mixed  reviews', '10  november', '6 blade october', 'originally getty sr', 'questions', 'it', 'open united kingdom', 'also  films', 'commercial  impact', 'original  score', '1492  paradise', 'free  banner', 'critical  successes', 'mixed  reviews', '10  november', '6 blade october', 'originally getty sr', 'questions', 'it', 'biographical bhushan kumar', '2016 marathi film sairat', '31  august', '13  december', 'jerome pushparaj', 'regular critics catherine bray', 'language', 'five film cultures', '', 'soon film industry', 'indian film industry', 'indian movie world', 'y.', 'social  realism', 'first masala film', 'aapke hain koun', '1990s', 'grossing bollywood films', 'other anil kapoor', 'acclaimed adoor gopalakrishnan', 'chandran', 'multiple film festivals', 'international film festival', 'best movies list', 'fora  festivals', 'repeatedly academy awards', 'apu trilogy', '1930s', 'choreographed  songs', 'often budget considerations', 'regional  industry', 'surviving  india', 'assamese bollywood movies', 'science fiction', 'other mir shaani', 'ganga tohe piyari chadhaibo', 'following  decades', 'silent  films', 'mostly  mumbai', 'major  period', 'kaul', 'veeranna', 'then  subhadra', 'wife', 'legendary  vishnuvardhan', 'h.', 'noted  kannada', '', 'parallel  cinema', '', 'mainly  goa', '24 konkani film day', 'fourth  kochi', 'gopalakrishnan', '', 'social drama feature film', 'malayalam film industry', '', '1980s', 'manipur', 'dhananjay nath tiwari', 'bhubaneswar', 'first sunder deb goswami', 'first punjabi film', 'first 3d punjabi film', 'indian  tamil', 'surviving  india', '1960', 'prasad  hyderabad', 'nagaiah', 'paul muni', '', 'annually  tulu', '', '1971', '2011', 'prominent  ones', 'language', 'five film cultures', '', 'soon film industry', 'indian film industry', 'indian movie world', 'y.', 'social  realism', 'first masala film', 'aapke hain koun', '1990s', 'grossing bollywood films', 'other anil kapoor', 'acclaimed adoor gopalakrishnan', 'chandran', 'multiple film festivals', 'international film festival', 'best movies list', 'fora  festivals', 'repeatedly academy awards', 'apu trilogy', '1930s', 'choreographed  songs', 'often budget considerations', 'regional  industry', 'surviving  india', 'assamese bollywood movies', 'science fiction', 'other mir shaani', 'ganga tohe piyari chadhaibo', 'following  decades', 'silent  films', 'mostly  mumbai', 'major  period', 'kaul', 'veeranna', 'then  subhadra', 'wife', 'legendary  vishnuvardhan', 'h.', 'noted  kannada', '', 'parallel  cinema', '', 'mainly  goa', '24 konkani film day', 'fourth  kochi', 'gopalakrishnan', '', 'social drama feature film', 'malayalam film industry', '', '1980s', 'manipur', 'dhananjay nath tiwari', 'bhubaneswar', 'first sunder deb goswami', 'first punjabi film', 'first 3d punjabi film', 'indian  tamil', 'surviving  india', '1960', 'prasad  hyderabad', 'nagaiah', 'paul muni', '', 'annually  tulu', '', '1971', '2011', 'prominent  ones', 'centers', 'only walt disney studios', 'southern  california', '27 film october', 'then david horsley', 'international film festival', 'northern  india', '1000  films', 'egyptian  cinema', 'communist  themes', 'speaking  world', 'comparatively  turkey', 'early film 1970s', 'words dhaka', '1913', 'last  1931', 'foreign  film', 'trinidadian  playwright', 'fighter', 'often nepali chalchitra', 'eighty  minutes', 'nation', 'also a&m records', 'home jim henson muppets', 'angeles cultural  studio', 'originally  hollywoodland', 'several  years', '250  attendance', 'language film mumbai', 'formally hindi cinema', '', 'huge  talkies', 'late  1950s', 'surti', 'photography', 'writing', 'musical  piece', 'simi', 'presence', 'him', 'akash', 'street', 'first  simi', 'viacom18 motion pictures', 'jaideep sahni', 'trivedi', 'daniel b. george', '2  september', 'them', 'internationally ₹10.37 crore', 'role', 'surti', 'photography', 'writing', 'musical  piece', 'simi', 'presence', 'him', 'akash', 'street', 'first  simi', 'viacom18 motion pictures', 'jaideep sahni', 'trivedi', 'daniel b. george', '2  september', 'them', 'internationally ₹10.37 crore', 'role', 'conventions', 'romantic  comedy', 'main genre categories', 'emotional  film', 'multiple  genres', '', 'genres', 'low budget film', 'western  film', 'edison monopoly', 'president', 'later william cagney', 'commercial art ventures', 'cannibal  envelope', 'eventually  this', 'festival', 'independent  studios', 'major studio producer distributors', 'united artists', 'independent  filmmakers', 'fernando de fuentes', '300,000  people', 'tribeca film festival', 'arzén von cserépy', 'public  derision', 'wall street journal', 'bombay', '', 'late  1950s', 'time', 'mohammed begum', 'bollywood star bollywood period', 'popular  decade', '2002 dj quik', '', 'three hour show', 'less box office', 'hollywood', '', 'different  people', 'first latin script', 'often  god', 'often  love', 'de de khuda', 'contemporary madhuri dixit', 'older  helen', 'problem', 'popular  audiences', 'other  products', 'dual  1956', 'also  1954', 'linguistic  urdu', 'more  2009', 'popular shah rukh khan', 'fairly  thailand', 'widely  china', 'critical south korea', 'former  russian', 'often gazeta wyborcza', 'new youth culture', 'south africa', 'amitabh egypt', 'elsewhere north africa', 'commercially united kingdom', 'uk top uk ten', 'also  france', 'rushed production schedules', 'everywhere  india', 'american  programmes', 'films', 'religious  songs', 'also singer mory kanté', 'bombay', '', 'late  1950s', 'time', 'mohammed begum', 'bollywood star bollywood period', 'popular  decade', '2002 dj quik', '', 'three hour show', 'less box office', 'hollywood', '', 'different  people', 'first latin script', 'often  god', 'often  love', 'de de khuda', 'contemporary madhuri dixit', 'older  helen', 'problem', 'popular  audiences', 'other  products', 'dual  1956', 'also  1954', 'linguistic  urdu', 'more  2009', 'popular shah rukh khan', 'fairly  thailand', 'widely  china', 'critical south korea', 'former  russian', 'often gazeta wyborcza', 'new youth culture', 'south africa', 'amitabh egypt', 'elsewhere north africa', 'commercially united kingdom', 'uk top uk ten', 'also  france', 'rushed production schedules', 'everywhere  india', 'american  programmes', 'films', 'religious  songs', 'also singer mory kanté', 'malayalam pappan starring rahman', 'cyprus', '1881', 'finally din 4512:1961 10', 'subsequently  din', 'standard speed numbers', 'arithmetic film speed gost', 'logarithmic  scale', 'example', 'rated iso 100/21 °', 'simply speed rating', 'ei', 'rarely consumer digital', 'clipped camera output', 'how  camera', 'rather  grain', 'universal carl laemmle', 'eventually  laemmle', 'return', 'supposedly  payroll', 'them', 'american singer deanna film', 'financial box office problems', 'one united world year', 'ambitious  schedule', 'studio', 'french film productions', 'late  1950s', 'money', 'august', 'theatrical  reissue', 'universal carl laemmle', 'eventually  laemmle', 'return', 'supposedly  payroll', 'them', 'american singer deanna film', 'financial box office problems', 'one united world year', 'ambitious  schedule', 'studio', 'french film productions', 'late  1950s', 'money', 'august', 'theatrical  reissue', 'films', '19th  century', 'such  5-', 'religious  perspective', 'stupid movie intuitor', 'academic film background', 'academic andré bazin', '$  82,000', '$  27,364-$49,574', 'american sculptor mitzi cunliffe', '8  16', 'annually  1954', 'six  categories', 'annually  1969', 'terms', 'crime films', 'independent neo features', 'often  critics', 'terms', 'crime films', 'independent neo features', 'often  critics', 'yahaan', '2012 film aparajita tumi', 'independent  films', 'dui naari haatey torobaari', 'yahaan', '2012 film aparajita tumi', 'independent  films', 'dui naari haatey torobaari', 'lumière  1907', 'gradually transparency film', 'e-6  process', 'instant slide film', 'rarely motion pictures', 'less color reversal films', 'frequently  projection', 'american clay liford', 'michael johnston', 'silent  cartridges', 'only single-8 cameras', 'additive  process', '8 size sprockets', '8 film kit', 'optical sound track', '200  ft', 'widely home movies', 'theatrical  features', '11th  year', 'political oliver stone', 'controversy', 'romantically  man', 'questioning', 'director', 'limb', 'chief terry idea', 'jfk', 'military  cia', 'extraordinary  afternoons', 'much  movie', 'initially  stone', 'opening narration', 'kennedy', 'seven  cameras', 'many  cases', 'long  form', 'so  cuts', 'sized film stocks', 'intense  scrutiny', 'protest', 'will', 'it', 'subsequently warner bros', 'das tv erste', 'golden  september', 'prequel  february', '20th century fox', 'mark millar mark gibbons', 'shared mark universe', 'kick ass', 'imax release', 'june', 'integral  kingsman', 'first  film', 'addition', 'golden  september', 'prequel  february', '20th century fox', 'mark millar mark gibbons', 'shared mark universe', 'kick ass', 'imax release', 'june', 'integral  kingsman', 'first  film', 'addition', 'four  couple', 'remaining  companion', 'hospital room', 'brad pitt', 'single oscar nomination', 'brad pitt', 'paramount  pictures', 'that', 'career', 'daughter', 'currently producer ceán chaffin', 'brad pitt', 'single oscar nomination', 'brad pitt', 'paramount  pictures', 'that', 'career', 'daughter', 'currently producer ceán chaffin', 'new  media', 'hrithik roshan', 'money', 'september', 'it', 'canada', 'french production branches', 'also  moncton', 'early  history', 'full part positions', 'goose', 'first sand oscar', 'also caroline film', 'interactive animation work', 'also netflix canada', 'noel mike kanentakeron canada', 'emerging  animators', 'september', 'georges beaupré', 'extended john appearances', 'additional abhijeet deshpande', 'cinematographer', '28  september', 'pandit', 'own  sensibilities', 'himself', 'india west', 'mixed listening experience', 'subsequently  feelings', 'first hindi year', 'shreyas  talpade', 'individual setters operations', '3  may', 'malayalam prasobh vijayan', 'appu bhattathiri', 'own film festivals', 'late  1970s', 'unauthorized bram dracula', 'time', 'box office hits', 'also  directors', 'films', 'transgressive  cultures', 'alienated film youth', 'own  subculture', 'also  explanation', 'inspired  acting', 'however  marketing', 'independent niche market', 'notable dada artists', 'new  1960s', 'that', 'elliptical  style', 'ethical  issues', 'hours', 'grand jury prize', 'nicolas winding refn', 'recent  mother', 'true  kiss', 'new  sleigh', 'speaking reindeer companion sven', 'six academy award nominations', 'earlier  ones', 'song', 'really  that', 'three research field trips', 'first  character', 'just  that', 'snowballs', 'different  effects', 'musical  journey', 'rhythmically  music', 'back lip sync', '5.81 million 5.81 viewers', 'grossing disney pictures disney', 'north america', 'animated south korea', 'many  original', 'imperfect  princesses', 'terrific family entertainment', 'truth', 'same  time', 'wet  cement', 'likewise feasibility study', 'review classification board', '1982', 'k. movie', '1981  incident', 'few  names', 'thulasi', 'revenge', 'day  her', 'april', 'british film institute', 'him', 'two  soldiers', 'sean  hook', 'sergeant  group', 'barracks', 'positive  reviews', 'american james gray', 'brutal  fight', 'visual picture company', 'allen maris', 'also  best', 'national film awards', 'rajat kamal cash prize', '2009 narendra babu', 'g k ravi', '20th fox film may', 'special training school', 'rko', 'william fox.in', 'especially  films', 'quickly columbia process', '1963', 'towering producer irwin allen', '.', 'june', 'only fox theaters', 'music 2000', 'known searchlight structure logo', 'also  1981', '', '20th fox film may', 'special training school', 'rko', 'william fox.in', 'especially  films', 'quickly columbia process', '1963', 'towering producer irwin allen', '.', 'june', 'only fox theaters', 'music 2000', 'known searchlight structure logo', 'also  1981', '', 'highest kannada language films', '25  films', 'theatrical  release', 'idharkuthane aasaipattai gokul', 'masses', 'debutants', 'then chivantha vaanam', 'three  siblings', 'two  children', '25  films', 'theatrical  release', 'idharkuthane aasaipattai gokul', 'masses', 'debutants', 'then chivantha vaanam', 'three  siblings', 'two  children', '2010', 'annually film berlin', 'top  awards', 'distributors', 'different film sections', 'important  themes', 'major film producers', 'registered industry insiders', 'major  genre', 'technological  theme', 'early science fiction', 'larger budget b budgets', 'japanese film studio toho', 'other disaster films', 'political  commentary', 'moderate  success', 'equally  movies', 'science fiction film', 'visual  genre', 'spacecraft', 'holographic  robocop', 'stealth  technology', 'autonomous movie stealth', 'mighty morphin power rangers', 'future', 'social  issues', 'highly  critics', 'very  evil', 'cinematic clockwork orange', 'immediate  impact', 'total  control', 'dvd commentary', 'united states', 'also  ban', 'limited soundtrack disc', 'other kubrick classics', 'previous  version', 'influential  cinema', 'top movie lists', 'spanish  film', 'film', '1972', 'indie romantic adam salky', 'david brind', 'different teaser synopsis', 'short  film', '60 % rating', 'historical jan rybkowski', '1973', 'rocky  garuda', 'later  march', 'five  languages', 'complete period 70s', 'later  schedules', '9  november', 'sharp action edits', 'racy  pace', 'rocky  garuda', 'later  march', 'five  languages', 'complete period 70s', 'later  schedules', '9  november', 'sharp action edits', 'racy  pace', 'film mouna guru', 'krishna chaitanya', 'different  director', 'different  directors', '', 'often hyperlink cinema', 'two  sequels', 'noted portmanteau bollywood', 'first  anthology', 'three prodyut kumar deka', 'fiction  titles', '1933', 'existing board members', 'national  lottery', 'sister adweek', 'lewis beale', 'twin ram lakshman chella', 'anirudh ravichander', 'vivek', 'taiwanese edward yang', 'chang chen', '2013 satire novel', 'mid-2011', '2008 singstar pop vol', '', 'romantic raj nidimoru', 'official international film festival', 'positive reviews form critics', 'hindi b. r. chopra', 'ravi', 'hyderabad', 'osmania university', 'successful  magazine', '', 'romantic minna virtanen', 'original  cut', 'so  film', 'breach', 'timing', 'reasons mash', 'supporting geraldine chaplin', 'time', 'wound', 'relationship', 'however  1956', '1966 cannes film festival', 'least  himself', 'three bafta award nominations', 'susant propaganda mani', 'way', 'mis en scene', 'romantic denis villeneuve', 'talking  fish', 'restaurant bibiane order octopus', 'more  responsibility', 'common  us', 'subjects', 'then  storytelling', 'summer', '.', 'slant  it', 'composer alan songs', 'anew  director', 'two  november', 'best  picture', 'feather  duster', 'march', 'other  levels', 'final  game', 'october', 'also  paint', 'theatrically  february', 'movie  category', 'september 3.in', 'hit car accident', 'ever  him', 'c+ rating', 'c rating', 'sex', 'job', 'costume designer', '', 'unspecified  role', 'also  film', 'dakota', 'originally  soundtrack', 'eventually  december', '', 'heathman hotel', 'also north shore studios', 'officially  february', 'lockdown.in', 'second  november', 'cut  zimbabwe', 'best  interest', 'best  interest', 'high  germany', 'total  earnings', 'much', 'sadomasochistic  affair', 'january', 'shah rukh khan', 'criminal abdul life', 'pirated hindi 2017', 'baby son', 'still  alliance', 'communal  state', '', '3500  screens', 'worldwide ₹272.5 crore', 'places', 'charm', 'best  lines', 'only srk showcase', 'hero', 'javed  akhtar', 'later  death', 'original motion picture soundtrack', 'soundtrack', 'typically  instrumentation', 'early nintendo games', 'home ursula k.', 'original musician bruno ito', 'original motion picture soundtrack', 'soundtrack', 'typically  instrumentation', 'early nintendo games', 'home ursula k.', 'original musician bruno ito', '$ 403 million', 'cylinder', 'after  sex', 'why  me', 'that', 'april', 'icelandic crew members', 'large water tank', 'digitally  it', 'also  film', 'design staff', 'ice silver silk mohair suit', 'large mountain earth', 'smooth  appearance', 'animatronic silicone skin', 'protruding goblin shark', 'digital effect shots', 'just  way', 'december', 'also  that', 'fastidious michael android', 'cast', 'also  cinematography', 'development', 'then tim johnson', '20th  century', 'distinct  war', 'tentative  definitions', 'central war documentaries', '1980s', 'green  berets', 'calmly  men', 'japanese film makers', 'second world war', 'british  offices', 'spies', 'winsor lusitania', 'animated  time', 'indian sreekumaran thampi', 'scarlet sherlock holmes', 'masked  killer', 'gratuitous  gore', 'murder eroticism', 'mario blood', 'less skid row slasher', '$  7.9', 'international  absurd', '', 'pop culture iconography', 'frequent  output', 'original members anthony perkins', 'elm street', 'zombie apocalypse', '2.3 million 2.3 tickets', '', 'new  settings', 'korean kim sung hoon', 'october', 'chung awkwardly deok hee', '', 'later  king', 'spectacular sword fight sequences', 'character development', 'national film awards', 'rajat kamal cash prize', 'american christopher nolan', 'legendary warner film', 'positive  results', 'endurance', 'scientists dr', 'manual docking operation', '51  years', 'tesseract', 'principal  december', 'three  spacecraft', 'two  robots', 'mathematics', 'november', 'special effects shots', 'ultra hd', '22 million 22 tickets', 'strong  germany', 'weekend  us', '$ 55 million', 'exhilarating film experiences', 'just  one', 'biggest film india', 'realistic  plots', 'first  malayalam', 'first  malayalam', 'tamil producers', 'prominent b. 1950s', 'thikkurusi  nazir', 'many  period', 'rosy', 'important kanchana sita', 'cinematography', 'warm background music', 'british film institute award', 'script writer m.', 'blockbuster  hit', 'fresh  themes', 'four  languages', '70 mm film', 'entirely 8k resolution', 'celebrated  1960s', 'music directors', 'major  time', 'malayalam  films', 'high quality songs', 'also mohan period', 'winning malayalam cinema', '1969', 'first film kerala', 'biggest film india', 'realistic  plots', 'first  malayalam', 'first  malayalam', 'tamil producers', 'prominent b. 1950s', 'thikkurusi  nazir', 'many  period', 'rosy', 'important kanchana sita', 'cinematography', 'warm background music', 'british film institute award', 'script writer m.', 'blockbuster  hit', 'fresh  themes', 'four  languages', '70 mm film', 'entirely 8k resolution', 'celebrated  1960s', 'music directors', 'major  time', 'malayalam  films', 'high quality songs', 'also mohan period', 'winning malayalam cinema', '1969', 'first film kerala', 'filmmaking language motion pictures', 'few  months', 'few  years', 'also mount road area', 'additional  attraction', 'soon  path', 'true cinema shows', 'short  films', 'more  city', 'silent south indian cinema', 'madras audience', 'it', 'other film industries', 'two  languages', 'first tamil talkie 1931', 'entirely length tamil', 'international film festival', 'best movies list', '', 'filmmaking language motion pictures', 'few  months', 'few  years', 'also mount road area', 'additional  attraction', 'soon  path', 'true cinema shows', 'short  films', 'more  city', 'silent south indian cinema', 'madras audience', 'it', 'other film industries', 'two  languages', 'first tamil talkie 1931', 'entirely length tamil', 'international film festival', 'best movies list', '', 'less  length', 'complex documentary projects', 'five  films', 'many  way', 'vivid  snow', 'modern  art', 'belgian coal mining region', 'documentary las hurdes', 'war', 'documentary film movement', 'viewer', '', 'how documentary films', 'tight  deadlines', 'given  field', 'actually  scratch', '2019 d23 expo', 'actually  scratch', '2019 d23 expo', 'grown yan 1921', '1945', 'parter cai chusheng', '1956', 'chinese  1960', 'cultural  revolution', 'fifth wu ziniu', 'complex  plots', 'also  prominence', 'international film festival', 'nine deindustrialization tie', 'seldom  enough', 'cinematic  home', 'commercial  405', 'post-1997  era', 'hkd 3 us$400,000', 'first cn¥3 billion', 'other . zhao', 'dual  roles', 'similarly  2002', '251 imax theaters', 'large huayi brothers media', 'grown yan 1921', '1945', 'parter cai chusheng', '1956', 'chinese  1960', 'cultural  revolution', 'fifth wu ziniu', 'complex  plots', 'also  prominence', 'international film festival', 'nine deindustrialization tie', 'seldom  enough', 'cinematic  home', 'commercial  405', 'post-1997  era', 'hkd 3 us$400,000', 'first cn¥3 billion', 'other . zhao', 'dual  roles', 'similarly  2002', '251 imax theaters', 'large huayi brothers media', 'national film awards', 'rajat kamal cash prize', 'brad pitt', 'chase', 'devastated  mills', 'one  point', 'later  role', 'how  it', 'original  ending', 'two  days', 'taut  performances', 'itself', 'also dvd rom drives', 'original howard shore', 'polish dorota kędzierzawska', 'italian  france', 'border  trilogy', 'there  train', 'best  efforts', 'same train crash', 'film', 'times  glass', \"n'jobu\", \"t'challa\", 'free  man', 'southern ndebele people', 'completely  skypanels', 'april', 'october', 'asian  territories', 'black opening director', 'april', 'culturally  sun', 'diverse superhero film', 'second  weekend', 'may', 'michael stearns', 'then  sequences', 'then  blocks', 'angola', 'helicopter', 'wrist', '', '1949', 'animation division', 'precise  roles', '30 feature length films', 'turkish erden kıral', 'moscow international film festival', 'mixed  reviews', 'leading  role', 'compromised spider man', 'corrupt  capitalists', 'scientist otto octavius', 'monstrous  dr', 'however  studios', 'july', 'later trilogy box set', 'high blu ray format', 'first spider man ultra', 'september', 'creatively  films', 'july', 'currently richard wenk', 'other  hand', 'purposely  truth', 'biographical  films', 'young  men', 'break', 'christmas irish lunch', 'room', 'dolores', 'them', 'him', 'room', 'eilis', 'realistic  story', 'it', 'quite  itself', 'actually  film', 'hamptons international film festival', 'conventional c si technology', 'significantly  years', 'outdoor film applications', 'hyperspectral  cells', 'conventional crystalline silicon', '', 'red  light', 'solar gallium cells', 'bed', 'passionate  lovemaking', 'mother', 'over  it', 'you', 'first  order', '2017 international film festival', 'it', 'mother', 'mother', 'it', 'bed', 'passionate  lovemaking', 'mother', 'over  it', 'you', 'first  order', '2017 international film festival', 'it', 'mother', 'mother', 'it', 'big metro goldwyn five', 'simultaneously  majors', 'chucky table saw', 'september', 'unexpectedly  assassination', 'simultaneous comparison movie', 'younger  fight', 'film', 'officially  film', 'however  bush', 'reportedly  it', 'nordic gaming studios', 'registered one users', 'christian  rask', 'minecraft', 'danish  venue', 'when  2018', 'cartoon network', 'film', 'side relationship', 'june', 'mystery inc', 'bad  timeslot', 'origin mystery', '', 'film distributor film akasaka', 'such  particles', 'photographic film photograph', 'rallycross agfa', 'short simón mesa soto', '', 'corrupt  sheriff', 'december', 'chris adams', 'instead  what', 'ladies', 'fire fight', 'washington', 'friend simon score', 'other  st', 'film', 'hardcore shoot pow', 'hell', 'eventually  him', 'part', 'soundtrack', 'movie', '2011', '2017', 'jay series', 'pilot', 'him', 'smuggler', 'previously santa maria', 'later  richie', '', '2011 language romance r.p', '21  october', '$  24,500', 'mainstream  hits', 'metaphor', 'first matamgi 1972', 'selected feature films', 'first matamgi 1972', 'selected feature films', 'black comedy thriller joel', 'international united states', '80,000  ransom', 'enraged  wade', 'explanation', 'actual  minnesota', 'actually  that', 'this', 'completely  ingenuous', 'corporate  headquarters', 'motel south st', 'still  business', 'medical outpatient treatment center', 'mahtomedi  minnesota', '100 american film years', '100  years', 'norwegian folk song', 'several  formats', 'madhavapeddi suresh', 'nfr', '2018 induction list', '6  january', 'five  tracks', '17  december', 'indian hindi films', 'next  thrillers', 'producer director p.l', 'ensemble andaz apna apna', 'box office india', 'national film award', 'it', 'box office', 'period', 'indian hindi films', 'next  thrillers', 'producer director p.l', 'ensemble andaz apna apna', 'box office india', 'national film award', 'it', 'box office', 'period', 'narrative  voice', 'frequent film adaptations', 'one  translation', 'occasionally television series', '1979', 'dr', 'comic book characters', 'occasionally  characters', '2 storyline spider man', 'worst  films', 'own keynote multimedia presentation', 'original film film', 'many  mythology', 'several  nations', 'finally  plays', 'monty python films', '', 'old work action song', 'second  compilation', 'wave punk standards', 'discrete  stages', 'screenwriters', 'other film school', 'different  approaches', 'lighting  technicians', 'overall art department', 'personal makeup artists', 'early  1930s', 'also film exposition', 'significant  front', 'however  phonofilm', 'september', 'true hollywood studio', 'three  concerns', 'sound motion date', 'natural  settings', 'warner bros', 'alfred london debut', 'october', 'persian language talkie', 'where  role', 'big  issue', 'me salary treatment', 'so  hesitation', 'jobs', 'sixty  1929', 'larger  stage', 'music', 'lahore', 'little singing book', 'popular  filmmaking', 'new york', 'normal  size', 'heitor pereira', 'making', 'single day gross', '', 'notable  germany', 'jesse a.v', 'officially  may', 'kirill serebrennikov', 'cannes soundtrack award', 'satirical yuvaraj dhayalan', 'time constraints', 'music', 'also  song', '16  countries', 'so  him', 'camphor', 'bright  future', 'final  behindwoods', 'other  options', 'however  operation', 'other  strategies', 'new  hire', 'retail  job', 'film', 'that', 'really performance sequence', 'online  september', 'single stx history', 'her', 'joint sony pictures television', '2008', 'august', 'indian puri jagannadh', 'soundtrack mani sharma', 'four nandi awards', 'hyderabad', 'meanwhile  143', 'primary  antagonists', 'out action flick', 'seven month break', 'telugu', 'several  films', 'indian puri jagannadh', 'soundtrack mani sharma', 'four nandi awards', 'hyderabad', 'meanwhile  143', 'primary  antagonists', 'out action flick', 'seven month break', 'telugu', 'several  films', 'epic stanley kubrick', '', 'later  jupiter', 'only  this', 'visual  kubrick', 'special effects 2001', 'novel', 'many  stages', '35 dye transfer process', 'rediscovered  footage', '38  diameter', 'heightened heart rate', 'him', 'african  scenes', 'them', 'it', 'point', 'monster', 'jump', 'most  films', 'script', 'increasingly  video', 'roman porno line', 'roman porno series', 'pink  audience', 'toshiya  ueno', '19851987tabloid magazine girl', 'least  1994', 'extended  universe', 'freddy', 'foster siblings hostage', 'heroes', 'mrs', '', 'him', 'collectively actors steve blum', 'new warner bros', '2012  shazam', 'month action sequences', 'final  dr', 'entertaining  humor', 'real  power', 'rogerebert.com', 'french actresses amira casar', '1983', 'romantic  days', 'late  2015', '', 'three  languages', 'father', 'outdoor  december', 'pizzighettone', 'intimately  director', 'first  film', '.', 'independent film group', 'thirty  locations', 'grossing sony pictures 2017', 'hesitation', 'novel', 'dark  november', 'third  development', 'new thor mexico', 'him', 'owner isabella alvarez', 's.h.i.e.l.d', 'job', 'first manhattan beach', 'principal  january', 'exciting  film', 'later  internet', 'promotional burger king', 'rehearsal', 'grossing  2011', 'third  november', 'french bruno dumont', 'christian winter rain', 'parisian  diplomat', 'british film production london', 'musical malcolm williamson', 'fact', '10  october', 'brutish  creature', 'direct  original', 'pointless  absurd', 'point', 'contemporary  england', 'intensive  care', 'ablaze  grenade', 'film', 'already  st', 'stock characters', 'romantic todd haynes', 'blanchett', '', 'two  end', 'therese  carol', 'always  role', 'years', 'screenplay', 'executive  film', 'then  haynes', 'later  .', 'different head space', 'almost  it', 'spoiled  palette', 'masters', 'edward hopper painting', '180  theaters', '85  awards', 'best  film', 'circle technical achievement award', 'soundtrack memory', 'jon him', 'then  911', 'janitorial  job', 'situation', 'upper  hand', 'her', 'film', 'principal  june', 'originally  detroit', 'entirely power chords', 'toronto', 'first ass film series', 'result', \"boss frank d'amico\", 'different  approach', 'event', 'him', 'frank hit mist', 'other', 'then  face', 'first  tony', 'why  that', 'him', 'idea', 'then  synopsis', 'critic  moretz', 'bulgarian konstantin bojanov', '', 'sensitive  layers', 'film', 'first  1889', 'photographic  film', '1916', 'film gauges', 'slowly  period', 'products', 'negative  stock', 'first  light', 'new  stock', 'also  deterioration', 'then  dn', 'tom chacko', 'senior  officer', 'light  maoists', 'so  that', 'thus  details', 'him', 'particular  script', 'unda  heroine', 'officially  cast', '3  weeks', 'three  tracks', 'deal', 'story', 'after white house', 'impeccably  film', 'good  movie', 'way', 'epic george lucas', 'old  weapon', 'rebel pilots wedge antilles', '', '', 'also  film', 'westerns', 'six million dollar man', 'mystical energy field', 'poem', 'colleagues hal barwood', 'right  that', 'christian', 'actors', '8 million', 'two  reels', 'result', 'special  effects', 'heavily kurosawa film', 'cinema billboards', 'film', 'star wars', 'theatrical  releases', '40  film', '124  minutes', 'prior  expansion', 'national recording registry', 'february', 'e. jack kaplan', 'large  scale', 'historical  character', 'lavish  genre', 'american james cameron', 'disapproval', 'hypothermia', 'shipwreck', 'that', 'ten  percent', 'november', 'them', 'other  set', 'genuinely  him', 'it', 'completely terminator eye', 'poisoning', 'days  160', 'me', 'me', 'me', 'share', 'initial  budget', 'it', 'similar  reasons', '', 'positive media coverage', 'men', 'elements', 'world', 'titanic', 'late  1990s', 'few  years', 'best  1997', 'emotionally  film', 'it', '', 'dvd player', '4k 18 restoration', '2016', 'crazy  carl', 'however production team', 'june', 'villain', 'elfina cast', 'industrial  light', 'film', 'thriving film posters', 'movie title', 'historical juraj jakubisko', 'son', 'surreal  visions', 'essentially  genres', '6  march', 'vivek oberoi', 'voice', 'rental  facilities', 'state  borders', 'commonly  paper', 'marketplace analytics', 'crowdfunded iron sky', 'public court documents', 'directorial greg garthe', 'van winkle', 'heavily  bestseller', 'process', '2  june', 'where  teacher', 'international  school', 'utmost  sincerity', 'acting  lot', 'last  year', 'opposite aishwarya rai', 'emotional  scenes', 'critical  acclaim', 'entirely  switzerland', 'average box office', 'baritone svelte language', 'ek ajnabee harivansh rai bachchan', 'lead newcomer vipasha agarwal', 'entirely  london', 'wider  rampal', 'stealing  performance', 'performance', 'untamed  lion', 'emotional  moments', 'ra', 'arthur j rediff.com', 'menacing  villain', 'interesting  film', 'first  2013', '', 'rudra pratap singh', 'rummana yahoo', 'last  satyagraha', 'successful bollywood time', 'nineteen  globe', 'shah rukh khan', 'culture', 'where  teacher', 'international  school', 'utmost  sincerity', 'acting  lot', 'last  year', 'opposite aishwarya rai', 'emotional  scenes', 'critical  acclaim', 'entirely  switzerland', 'average box office', 'baritone svelte language', 'ek ajnabee harivansh rai bachchan', 'lead newcomer vipasha agarwal', 'entirely  london', 'wider  rampal', 'stealing  performance', 'performance', 'untamed  lion', 'emotional  moments', 'ra', 'arthur j rediff.com', 'menacing  villain', 'interesting  film', 'first  2013', '', 'rudra pratap singh', 'rummana yahoo', 'last  satyagraha', 'successful bollywood time', 'nineteen  globe', 'shah rukh khan', 'culture', 'finnish jp siili', 'logan miller', 'common  movies', 'developed fantasy world', 'many  j.', 'other  genre', 'satan', 'animated  wonderland', 'entirely fantasy films', 'once  which', '1977', 'scottish  swordsmen', 'again  surrender', 'furious  troops', 'sacrifice', 'different  moods', 'initial production site', 'warner bros', 'five year deal', '$  456,068,181', 'still  film', 'full  blood', 'wrong  places', 'biggest slave greece', 'iranian  film', 'john cena', 'december', 'voice cast', 'thin  films', 'everyday  frost', 'thermal  evaporation', 'optical  media', 'also  sputtering', 'thin film deposition', 'growth', 'ancient  india', 'reflective  systems', 'flexible  plastic', 'cameras', '70 mm imax format', 'basement', 'face', 'office', 'may', 'first  february', 'french luc besson', '', 'it', 'personal  issues', 'more  hensleigh', 'david banner', 'own  transformation', 'more  drafts', 'then  it', 'already script development', 'final  credit', 'set', 'sound skywalker sound', 'other  maya', 'original mychael film', 'positive  review', 'special effects effects', 'slovenian director olmo omerzu', 'prague', 'two czech film awards', 'harris jayaraj', 'vikram krishna', 'other  sathyam', 'female  lead', 'pa', 'more  crown', 'átila iório', '1964 cannes film festival', 'romantic ram babu gurung', 'nischal basnet', 'san rafael', 'current  cfi', '200,000  attendees', 'on  him', 'then  money', 'multiple  kali', 'multiple personality disorder', 'first  november', 'october', 'question', 'two  storylines', 'horror story', 'immortal  cuts', 'ukrainian  territories', 'main  character', '1693—it', 'story', '$  75,000', 'interior  scenes', '200  costumes', 'soon  director', 'irzi kuba', 'make  vysotskiy', 'real  3d', 'proprietary 3d effects', 'film', 'xavier escape laura', 'body', 'xavier', 'additionally will munson', 'maria', 'really  wolverine', 'that', 'references', 'marco beltrami', 'marco beltrami', 'positive  reviews', 'very  yourself', 'human  beings', 'genuinely  guy', 'right  time', 'me', '381 imax theaters', '$ 105 million', 'top  china', 'last vita film 1925', 'soon visitor center', 'novel', 'two  book', 'film sequels', 'also  role', 'role', 'also  role', 'warner bros', 'finally  may', 'alexander orchestrations', '2,404 theater locations', 'worldwide  time', 'also  elckerlijc', 'capable  movie', 'individual  the', 'established  field', 'multiple bar applicators', 'astm standard astm d823', 'automatic  construction', 'standard  d823', 'common film applicator', 'mentioned  applicators', 'average box office', 'r.', 'sirivennela seetharama sastry', 'aditya music company', 'intellect ltd', 'chief', 'american film critic 1975', 'central arms cinema', 'major  nigeria', 'us', 'central arms cinema', 'major  nigeria', 'us', 'white blood cell differential', 'projected  film', 'primary film format', 'exactly  size', 'corresponding  numbers', '1984 cannes film festival', '1994 cannes film festival', '760  millimetres', 'several frame sizes', 'commonly naming cameras', 'mostly kodak cameras', '620 format camera', 'persian  language', 'many  ups', 'sassanian  reign', 'such  art', 'consequently  public', 'other  tehran', 'persistence', 'kaiser', 'mature  stage', '1979', 'disorganized  cinema', 'financial  aid', 'iranian  films', 'occasionally movie theaters', 'contemporary state television', 'iranian war cinema', 'tehran international  february', 'them', '', 'international  april', 'very  onset', 'international  competitions', '2006  event', 'fourth  year', 'new  wave', 'here rakhshan bani etemad', 'important  film', 'iranian  release', 'unauthorized  dvds', 'separate  lives', 'it', 'persian  language', 'many  ups', 'sassanian  reign', 'such  art', 'consequently  public', 'other  tehran', 'persistence', 'kaiser', 'mature  stage', '1979', 'disorganized  cinema', 'financial  aid', 'iranian  films', 'occasionally movie theaters', 'contemporary state television', 'iranian war cinema', 'tehran international  february', 'them', '', 'international  april', 'very  onset', 'international  competitions', '2006  event', 'fourth  year', 'new  wave', 'here rakhshan bani etemad', 'important  film', 'iranian  release', 'unauthorized  dvds', 'separate  lives', 'it', 'last  fukasaku', 'popular  culture', 'regularly class 3-b', 'uzi', 'tatsumichi oki', 'gross  ¥', 'popular  demand', 'kenta conversion', '5,000  copies', 'seriously  what', 'hubbub', 'yet remake rights', 'especially  2010s', 'such  lost', 'fate  irae', '2004 haranath chakraborty', 'telugu film aadi', 'box office', 'london', 'short louis taylor', 'also  youtube', 'dominated  state', 'ultimately  cinemas', '', 'genre', 'baptist  family', 'chapin method', 'it', '', 'singer group', '1970', 'time', 'dearly  him', '', 'genre', 'baptist  family', 'chapin method', 'it', '', 'singer group', '1970', 'time', 'dearly  him', 'unarmed  combat', 'bond', 'then  him', 'credible  character', 'peter role', 'definitely  seventies', 'so  humour', 'dalton', 'globe', 'royal navy speedboat', 'bbc', 'specifically ian fleming', 'really  007', 'also  st', 'still  bullying', 'drama centre london', 'j. l. country', 'similar  roles', 'time', 'favorable  reviews', '$  414,211,549', 'excellent  reviews', 'hollywood reporter', 'friend', 'september', 'april', '2007 london film festival', 'two  sons', 'now  chiswick', 'also  st', 'still  bullying', 'drama centre london', 'j. l. country', 'similar  roles', 'time', 'favorable  reviews', '$  414,211,549', 'excellent  reviews', 'hollywood reporter', 'friend', 'september', 'april', '2007 london film festival', 'two  sons', 'now  chiswick', 'march', 'also toy story', 'behnam  behzadi', 'educational  classification', 'rating system', 'new over law', '', 'adult', '', 'restricted  government', 'since  nc16', '2011', 'legally age ratings', 'informally  newspapers', 'several  categories', 'educational  classification', 'rating system', 'new over law', '', 'adult', '', 'restricted  government', 'since  nc16', '2011', 'legally age ratings', 'informally  newspapers', 'several  categories', 'undisclosed robert roles', 'late  2018', 'lively  interest', 'also ali cast', 'april', 'jay cassidy  editors', 'short lionel bailliu', 'original mark isham', 'vanessa redgrave', 'positive  reviews', 'indie romantic andrew bujalski', '', 'deliberate  pace', 'words odia', 'from1936', 'laksmi talkies', 'landmark odia film industry', 'first odia film', 'fourth ratikant padhi', 'always odia film industry', 'ananda sankar das', '', 'paradeshi odia', 'international  festivals', 'words odia', 'from1936', 'laksmi talkies', 'landmark odia film industry', 'first odia film', 'fourth ratikant padhi', 'always odia film industry', 'ananda sankar das', '', 'paradeshi odia', 'international  festivals', 'italian gianluca maria tavarelli', 'other  instalments', 'young  audiences', 'kick ass', 'true luis ortega', 'monica roger', 'professional service companies', 'same  end', 'also window translucent', 'one way mirrors', 'stick  blinds', 'glass', 'iridescence', 'efficient  buildings', 'critical  testing', 'solar uv transmission properties', 'noir psychological clint eastwood', 'robert lorenz', 'critical  acclaim', 'still  marriage', 'secretly brendan harris', 'together las vegas', 'recently  him', 'soon  it', 'local  bar', 'all  prank', 'wife', 'it', '4  dec', 'music', 'genetic  disorder', 'mission', 'day  school', 'only  role', 'well  role', 'song sequence', 'also  taiping', 'malaysian  schools', 'veteran composer ilaiyaraaja', 'historical jerzy hoffman', 'independent vincenzo natali', 'toronto', 'short  entitled', 'eventually procure financing', 'toronto soundstage', 'cubical  shell', 'outer  shell', 'bloody  movie', 'weak  movie', '2016', 'german mia hansen løve', 'critical  acclaim', 'first  individuals', '1991', 'inventor', 'technicians', 'black', '', 'national film registry', 'sometimes documentary programmes', 'contemporary  footage', 'denzel washington', 'mccall', 'then  rensen', 'also closing credits', 'later ultra hd', 'second . theaters', '2  .', 'also  photographs', 'several  cameras', 'first  nudity', 'films', 'nude  scenes', 'however  1934', 'sensationalized exploitation films', 'pubic  film', 'edited box office success', 'finally  promises', 'nudie', 'dvd nudity', 'various  forms', 'gratuitous  nudity', '', 'explicit  sex', 'initially  .', 'when  1968', '', '', 'various  scenes', 'african film director', 'actual  nudity', 'main  characters', 'cult classic', 'brick', 'detective films', '2  september', 'new york times', '', 'rewrites', 'uncredited charles mckeown', 'forever batman june', 'her', '', '1981', 'separate  writers', 'warner bros', 'heavily  casting', 'hard  part', '1980', 'reporter alexander knox', 'anything', 'pavement', '95-acre  backlot', '$ 48 million', 'filming', 'darker  freedom', 'comic book miniseries', 'graphic novel batman', '750 million  merchandise', 'around bat signal', 'american  ranks', 'also  batcave', 'also  film', 'dark superhero movie', '', 'superior  lawsuit', 'ultra  hd', 'phone', 'alligators', 'silent  era', 'synchronized part score', 'british picture 1933', '1927  renewal', 'initially denham studios', 'alberto jennings', 'dead  night', 'style', 'attitude', 'commercial film industry', 'new wave film makers', 'beautiful  laundrette', '1989', 'working  bean', '2  2011', 'critical  acclaim', 'other  organisations', 'recent  years', 'british  economy', 'silent  era', 'synchronized part score', 'british picture 1933', '1927  renewal', 'initially denham studios', 'alberto jennings', 'dead  night', 'style', 'attitude', 'commercial film industry', 'new wave film makers', 'beautiful  laundrette', '1989', 'working  bean', '2  2011', 'critical  acclaim', 'other  organisations', 'recent  years', 'british  economy', 'him', 'plan', 'enough evades smith', 'suite', 'where', 'then  which', 'instead  .', '.', '$ 66.3 million', 'songs', 'principal  august', 'bijibal', '19  january', 'half production budget', 'generally  distributor', 'police', '5 years imprisonment', 'house', 'supermarket', 'son', 'original  songs', 'positive  reviews', 'song', '', 'sean  garrity', 'four  categories', 'four  categories', 'dr', 'comedy arts festival', 'made quality star wattage', 'film', 'paper film', 'chronological  medium', 'animated  1906', 'first  1950s', '1970s', '70 mm popularity', 'digital  tinting', '1908', '1935', 'little  success', 'highly cinema world', 'deep  focus', 'shallow  focus', 'aesthetic  effects', 'cropped  1.37', 'cinematic  world', '30  second', '25  second', 'presentation', '', 'photography', 'paper film', 'chronological  medium', 'animated  1906', 'first  1950s', '1970s', '70 mm popularity', 'digital  tinting', '1908', '1935', 'little  success', 'highly cinema world', 'deep  focus', 'shallow  focus', 'aesthetic  effects', 'cropped  1.37', 'cinematic  world', '30  second', '25  second', 'presentation', '', 'photography', 'one  techniques', 'mountain film switzerland', 'actual light source', 'japan', '3-inch color lcd tv', 'ramappa  poojary', 'replacement', 'undisclosed  roles', 'longtime favourite  himself', 'final daniel bond', 'further  villain', 'replacement', 'undisclosed  roles', 'longtime favourite  himself', 'final daniel bond', 'further  villain', 'disguise', 'book', 'intentionally  hitler', 'also news corp', '$  15,604,892', 'thumbs  rating', 'minor  adaptations', 'rolling street fighting stones', 'special ethan bkab', 'final  spiritualized', 'there  science', 'eventually  party', 'chancellery garden', 'chancellorship', 'eventually  project', '13.5 million 13.5 budget', '.', 'four world cinema competition', '7  september', '21  august', 'poor  reviews', 'mixed  reviews', 'supporting  role', 'narrative  skill', 'october', 'aditya  music', 'sharma', 'unique  sound', 'doubt chart busters', 'bhaskar  sharma', 'double platinum disc shields', 'film', 'huge  expectations', 'well  expectations', 'mixed  reviews', 'supporting  role', 'narrative  skill', 'october', 'aditya  music', 'sharma', 'unique  sound', 'doubt chart busters', 'bhaskar  sharma', 'double platinum disc shields', 'film', 'huge  expectations', 'well  expectations', 'entirely feature irish', '16 mm film', 'large  frames', 'public  donations', 'online jonah hill', '3,000  producers', 'then  imdb', 'on  distance', 'while', 'offer', 'slightly  behavior', 'you', 'her', 'even  him', 'on  distance', 'while', 'offer', 'slightly  behavior', 'you', 'her', 'even  him', 'unique action climax', 'composing bollywood film', 'entire  day', 'sonu nigam', '', 'times  film', 'scholarly publisher reinhold aman', 'next author hunter', 'thirty five  film', 'washington', 'mixed  reviews', 'new york times', 'several university courses', 'decision', 'epic action s.', 'm. m. keeravani', 'meanwhile  pindaris', 'inaction  bhallaladeva', 'shobu yarlagadda', 'visual effects supervisor', '', 'also  abbreviation', 'supporting  role', 'new  me', 'vfx', 'perfect bhallaladeva duryodana', '24  april', 'british film institute', '39th international film festival', 'original  languages', 'great india films', '2  may', 'first  week', '₹10 billion ₹10 nett', 'sweeping  that', 'father', 'indian  cinema', 'indian  film', 'meticulously ss rajamouli', 'visual  effects', 'alia film', 'that', 'searched  2017', 'epic action s.', 'm. m. keeravani', 'meanwhile  pindaris', 'inaction  bhallaladeva', 'shobu yarlagadda', 'visual effects supervisor', '', 'also  abbreviation', 'supporting  role', 'new  me', 'vfx', 'perfect bhallaladeva duryodana', '24  april', 'british film institute', '39th international film festival', 'original  languages', 'great india films', '2  may', 'first  week', '₹10 billion ₹10 nett', 'sweeping  that', 'father', 'indian  cinema', 'indian  film', 'meticulously ss rajamouli', 'visual  effects', 'alia film', 'that', 'searched  2017', 'indian amiya chakrabarty', 'mumtaz shanti', 'political jeeva shankar', 'vijay antony', 'actually  story', 'paramount  pictures', 'fake working title', 'first dreamwave transformers', '$ 8 million', 'march', 'future  installments', 'cast', 'alternate  modes', 'christina hodson', 'aboard geneva robertson duties', 'december', 'june', 'comic  books', 'autobot twins', 'supporting dev gill', '1961 movie lover', 'foreign kannada languages', 'young curtis taylor jr', 'same  warner', 'lauryn hill', 'two  editions', 'also length production documentary', 'two disc formats', 'high home entertainment format', 'real  feats', 'october', 'musical  march', '2013 sundance film festival', 'back los altos', 'apple team', 'forward  1996', 'also sister patricia', 'complex skin figure', 'certainly  look', 'better  producer', 'historical  inaccuracies', 'both', 'jobs script', 'great  movie', '2015 steve jobs film', 'motorcycle dude', 'just  us', 'guy', 'leathers', 'twitter', 'thirteenth men film series', 'something', 'september', 'originally  april', 'different horror movie', 'two  minutes', 'time restrictions', 'only  .', 'this', 'top  .', 'ratings', 'subsidiaries', 'first  rating', 'criticism', 'how  this', 'r', 'then  miramax', 'brian eno', 'accidentally  friend', 'here  moment', 'long  life', '.', 'official television series entertainment', 'rated peter date', 'historical  context', '1972', 'best  picture', 'these', 'based dimeo crime family', 'three alain delon', 'grossing box office', 'later  sequel', 'indian movie world', 'y.', 'bommireddy narasimha reddy', 'bengali cinema film industries', 'bull', '72  prints', '1968  tashkent', 'such n. reddy', 'current cine music association', 'indian movie world', 'y.', 'bommireddy narasimha reddy', 'bengali cinema film industries', 'bull', '72  prints', '1968  tashkent', 'such n. reddy', 'current cine music association', 'chashi nazrul islam', 'impress telefilm ltd', 'shakib khan', 'national film awards', 'rajat kamal cash prize', 'positive  reviews', 'producer peter safran', 'peter project', 'april', 'project', 'back  her', 'mom', 'mom', 'health', 'short  september', 'short alejandro lópez', 'also alejandro lópez', 'colombian  competition', 'short  november', 'unspecified  damages', 'positive  reviews', 'producer peter safran', 'peter project', 'april', 'project', 'back  her', 'mom', 'mom', 'health', 'short  september', 'short alejandro lópez', 'also alejandro lópez', 'colombian  competition', 'short  november', 'unspecified  damages', 'happy  couple', 'sara friend', 'rape', 'pressure', 'america', 'this', 'residence', 'women', 'shoaib mansoor', '', 'short  it', 'theatrical nickelodeon tv channel', 'fellow division paramount pictures', 'then  1996', 'first academy award', 'positive  reviews', '$ 40.1 million', 'later  june', 'only pg rating', 'favorite author daniel candidates', 'june', 'december', 'theatrical documentary release', 'film', 'big  knickers', 'positive  reviews', 'dreamworks', 'still  paramount', 'production company', 'animated  verbinski', 'animated  3d', 'walker', 'august', 'negative  reviews', 'positive  reviews', 'november', 'january', 'morning  nephew', '13  september', 'soundtrack', 'nick urata', 'dye destruction process', 'different enlargement process', 'two enlargement techniques', 'special  requirements', 'hand', 'dye destruction process', 'different enlargement process', 'two enlargement techniques', 'special  requirements', 'hand', 'italian alberto lattuada', 'spy film genre', '1973 office success', 'assistant sir nottingham', 'inside maid marian', 'terrific kid audience', 'march', 'cd collection', '2009  .', 'theatrical  premieres', 'originally  mandarin', 'many science fiction films', '2049 blade october', 'deckard  apartment', 'then  him', 'apartment block', 'dramatic  levels', 'multiple  interpretations', 'j.', 'earlier  role', 'it', 'it', 'ridley', 'now  narration', 'lot', 'new  block', 'good  movie', '2019 angeles street sets', 'brown  house', 'that', 'fictional interrogation novel', 'different  tool', 'frequently  computers', 'alan ladd jr', 'commercial  success', 'several blade runner', 'artistic  control', 'initial film critics', 'cyberpunk  movement', 'several  documentaries', 'human blade runner', 'many science fiction films', '2049 blade october', 'deckard  apartment', 'then  him', 'apartment block', 'dramatic  levels', 'multiple  interpretations', 'j.', 'earlier  role', 'it', 'it', 'ridley', 'now  narration', 'lot', 'new  block', 'good  movie', '2019 angeles street sets', 'brown  house', 'that', 'fictional interrogation novel', 'different  tool', 'frequently  computers', 'alan ladd jr', 'commercial  success', 'several blade runner', 'artistic  control', 'initial film critics', 'cyberpunk  movement', 'several  documentaries', 'human blade runner', 'tamil film saamy', 'l v prasad', 'corrupt  politician', '', 'chinese streaming platforms', 'early morning workouts', 'younger  roles', 'khan', 'perception', 'casting  dangal', 'role', 'majorly  film', 'pritam', 'lifetime', 'grossing sports 2017', 'domestic indian box office', 'opening day box office history', 'well  china', 'online streaming platforms', 'risk', 'so  entry', 'aamir khan', 'great  job', 'unfortunately  entry', 'faye dunaway', 'ubs  executives', 'unintelligible  cacophony', 'angry  shows', 'considerable  prominence', 'naturalistic  look', 'still  pictures', 'also  television', 'same  instances', 'erratic cinematic', 'finch', '2 spider may', 'superior', 'sidewalk', '', 'character', 'casting', 'previous  films', 'speculation', 'amazing spider man', 'stacy family', 'time', 'next  villain', '', 'so  it', 'good  reason', 'sam', 'different  characters', 'least screen tests', 'then dianna agron', 'then  nicholson', 'design', 'wireless mirror rig', 'film', '', 'film', 'other sony divisions', 'other bing search engine', 'extended  trailer', 'missing jansport backpack', 'made spider man scenes', 'peter school', 'viral  class', 'viral oscorp industries', 'greatest  villains', '30  countries', '$ 48.8 million', 'npr', '', 'comic  books', 'world', 'arm', 'whole spider man idea', '17  september', 'feature films', '17  september', 'still film photography', '126 film format', '110  2011', 'special pocket carousel projectors', '110  cameras', '', 'wool', 'larger costume budget', 'outtakes', 'cheap  tricks', 'merely  us', 'him', 'first video games', 'him', 'first video games', 'students', 'quickly  attackers', 'too  attackers', 'her', 'climactic  environment', 'a. r. rahman', '$ 22 million', 'loss', 'antía', '20th feature film', 'something', '7  august', 'negatively  film', 'five star rating', '37,000 film titles', 'historical film 1946', \"1920'sfilmstar alexander binder\"]\n"
          ]
        }
      ]
    },
    {
      "cell_type": "markdown",
      "source": [
        "**Relation Extraction**\n",
        "\n",
        "* The Relation between nodes has been extracted. The hypothesis is that the main verb or the Root word forms the relation between the subject and the object."
      ],
      "metadata": {
        "id": "c5DfYzadvf0l"
      }
    },
    {
      "cell_type": "code",
      "execution_count": 14,
      "metadata": {
        "id": "dnza3hY70FPj"
      },
      "outputs": [],
      "source": [
        "def get_relation(sent):\n",
        "  doc = nlp(sent)\n",
        "  #We initialise matcher with the vocab\n",
        "  matcher = Matcher(nlp.vocab)\n",
        "  #Defining the pattern\n",
        "  pattern = [{'DEP':'ROOT'},{'DEP':'prep','OP':'?'},{'DEP':'agent','OP':'?'},{'DEP':'ADJ','OP':'?'}]\n",
        "  #Adding the pattern to the matcher\n",
        "  matcher.add(\"matcher_1\",None,pattern)\n",
        "  #Applying the matcher to the doc\n",
        "  matches = matcher(doc)\n",
        "\n",
        "  #The matcher returns a list of (match_id, start, end). The start to end in our doc contains the relation. We capture that relation in a variable called span\n",
        "  span = doc[matches[0][1]:matches[0][2]]\n",
        "  return span.text"
      ]
    },
    {
      "cell_type": "markdown",
      "source": [
        "* Below we observe a problem. The Relation for the second should be **“couldn’t complete”**, in order to correctly capture the semantics. But it fails to do so."
      ],
      "metadata": {
        "id": "nqCRlLWfv4hH"
      }
    },
    {
      "cell_type": "code",
      "source": [
        "entity=get_entity(\"John completed the task\")\n",
        "relation=get_relation(\"John completed the task\")\n",
        "print(entity)\n",
        "print(relation)"
      ],
      "metadata": {
        "colab": {
          "base_uri": "https://localhost:8080/"
        },
        "id": "c3bNRcxAv3Lz",
        "outputId": "3d685b4b-773c-4826-c0e5-241281a6e993"
      },
      "execution_count": 20,
      "outputs": [
        {
          "output_type": "stream",
          "name": "stdout",
          "text": [
            "['John', 'task']\n",
            "completed\n"
          ]
        }
      ]
    },
    {
      "cell_type": "markdown",
      "source": [
        "* Anyway, we move on. Let’s get the relations for the entire dataset"
      ],
      "metadata": {
        "id": "T1TzwbguzBeF"
      }
    },
    {
      "cell_type": "code",
      "source": [
        "relations = [get_relation(i) for i in tqdm(sentences['sentence'])]\n",
        "tqdm._instances.clear()"
      ],
      "metadata": {
        "colab": {
          "base_uri": "https://localhost:8080/"
        },
        "id": "tNxEoc5HzDjs",
        "outputId": "790a9fd3-a9e8-4342-9101-b65f4123335e"
      },
      "execution_count": 21,
      "outputs": [
        {
          "output_type": "stream",
          "name": "stderr",
          "text": [
            "100%|██████████| 4318/4318 [00:34<00:00, 123.93it/s]\n"
          ]
        }
      ]
    },
    {
      "cell_type": "markdown",
      "source": [
        "* Let’s look at the topmost occuring subjects"
      ],
      "metadata": {
        "id": "s3l6dStCzYSk"
      }
    },
    {
      "cell_type": "code",
      "source": [
        "pd.Series(subjects).value_counts()[:10]"
      ],
      "metadata": {
        "colab": {
          "base_uri": "https://localhost:8080/"
        },
        "id": "LSA33sXAzbSn",
        "outputId": "e1961f11-9710-48de-d15e-d96646b6594f"
      },
      "execution_count": 22,
      "outputs": [
        {
          "output_type": "execute_result",
          "data": {
            "text/plain": [
              "it       267\n",
              "film     221\n",
              "         148\n",
              "he       141\n",
              "they      66\n",
              "i         64\n",
              "this      55\n",
              "she       41\n",
              "we        27\n",
              "films     25\n",
              "dtype: int64"
            ]
          },
          "metadata": {},
          "execution_count": 22
        }
      ]
    },
    {
      "cell_type": "markdown",
      "source": [
        "* We observe that these words are mostly generic, hence of not much use to us."
      ],
      "metadata": {
        "id": "NuRvF8AezeN8"
      }
    },
    {
      "cell_type": "code",
      "source": [
        "pd.Series(relations).value_counts()[:10]"
      ],
      "metadata": {
        "colab": {
          "base_uri": "https://localhost:8080/"
        },
        "id": "iyQWsWR4zgGw",
        "outputId": "732e9942-5617-4f7e-b23b-2d38b67301f2"
      },
      "execution_count": 23,
      "outputs": [
        {
          "output_type": "execute_result",
          "data": {
            "text/plain": [
              "is          418\n",
              "was         340\n",
              "released    165\n",
              "are          98\n",
              "were         97\n",
              "include      81\n",
              "produced     51\n",
              "'s           50\n",
              "made         46\n",
              "used         43\n",
              "dtype: int64"
            ]
          },
          "metadata": {},
          "execution_count": 23
        }
      ]
    },
    {
      "cell_type": "code",
      "source": [
        "import nltk\n",
        "nltk.download('punkt')"
      ],
      "metadata": {
        "colab": {
          "base_uri": "https://localhost:8080/"
        },
        "id": "8vui5nN55e4k",
        "outputId": "c6011808-4bbf-4448-cc7c-60e299c67f46"
      },
      "execution_count": 34,
      "outputs": [
        {
          "output_type": "stream",
          "name": "stderr",
          "text": [
            "  0%|          | 0/4318 [07:32<?, ?it/s]\n",
            "  0%|          | 0/4318 [04:47<?, ?it/s]\n",
            "  0%|          | 0/4318 [05:25<?, ?it/s]\n",
            "  0%|          | 0/4318 [03:14<?, ?it/s]\n",
            "  0%|          | 0/4318 [02:25<?, ?it/s]\n"
          ]
        },
        {
          "output_type": "stream",
          "name": "stdout",
          "text": [
            "[nltk_data] Downloading package punkt to /root/nltk_data...\n",
            "[nltk_data]   Unzipping tokenizers/punkt.zip.\n"
          ]
        },
        {
          "output_type": "execute_result",
          "data": {
            "text/plain": [
              "True"
            ]
          },
          "metadata": {},
          "execution_count": 34
        }
      ]
    },
    {
      "cell_type": "code",
      "source": [
        "import nltk\n",
        "nltk.download('stopwords')"
      ],
      "metadata": {
        "colab": {
          "base_uri": "https://localhost:8080/"
        },
        "id": "FhtVgTWX6beJ",
        "outputId": "d07e3fda-ff66-4326-a240-58bd11ae1e8f"
      },
      "execution_count": 37,
      "outputs": [
        {
          "output_type": "stream",
          "name": "stdout",
          "text": [
            "[nltk_data] Downloading package stopwords to /root/nltk_data...\n",
            "[nltk_data]   Unzipping corpora/stopwords.zip.\n"
          ]
        },
        {
          "output_type": "execute_result",
          "data": {
            "text/plain": [
              "True"
            ]
          },
          "metadata": {},
          "execution_count": 37
        }
      ]
    },
    {
      "cell_type": "markdown",
      "source": [
        "**Data Pre — Processing**\n",
        "* Let’s see what happens if we pre-process the data. We remove stopwords and punctuation marks"
      ],
      "metadata": {
        "id": "3zsLZn14zm6K"
      }
    },
    {
      "cell_type": "code",
      "source": [
        "import re\n",
        "from nltk.tokenize import word_tokenize\n",
        "from nltk.corpus import stopwords\n",
        "def isNotStopWord(word):\n",
        "    return word not in stopwords.words('english')\n",
        "\n",
        "def preprocess(sent):\n",
        "  sent = re.sub(\"[\\(\\[].*?[\\)\\]]\", \"\", sent)\n",
        "  tokens = []\n",
        "  temp = \"\"\n",
        "  words = word_tokenize(sent)\n",
        "  # Removing punctuations except '<.>/<?>/<!>'\n",
        "  punctuations = '\"#$%&\\'()*+,-/:;<=>@\\\\^_`{|}~'\n",
        "  words = map(lambda x: x.translate(str.maketrans('','',punctuations)), words)\n",
        "  \n",
        "  #Now, we remove the stopwords\n",
        "  words = map(str.lower,words)\n",
        "  words = filter(lambda x: isNotStopWord(x),words)\n",
        "  tokens = tokens + list(words)\n",
        "  temp = ' '.join(word for word in tokens)\n",
        "  return temp\n",
        "preprocessed_sentences = [preprocess(i) for i in tqdm(sentences['sentence'])]\n",
        "tqdm._instances.clear()"
      ],
      "metadata": {
        "colab": {
          "base_uri": "https://localhost:8080/"
        },
        "id": "7HnkMMb-3c_X",
        "outputId": "bf6d86e9-7df5-482e-d629-d0cddf9948f3"
      },
      "execution_count": 38,
      "outputs": [
        {
          "output_type": "stream",
          "name": "stderr",
          "text": [
            "\n",
            "\n",
            "\n",
            "  0%|          | 0/4318 [00:00<?, ?it/s]\u001b[A\u001b[A\u001b[A\n",
            "\n",
            "\n",
            "  1%|          | 50/4318 [00:00<00:08, 499.58it/s]\u001b[A\u001b[A\u001b[A\n",
            "\n",
            "\n",
            "  3%|▎         | 108/4318 [00:00<00:07, 543.38it/s]\u001b[A\u001b[A\u001b[A\n",
            "\n",
            "\n",
            "  4%|▍         | 168/4318 [00:00<00:07, 561.87it/s]\u001b[A\u001b[A\u001b[A\n",
            "\n",
            "\n",
            "  5%|▌         | 225/4318 [00:00<00:07, 534.34it/s]\u001b[A\u001b[A\u001b[A\n",
            "\n",
            "\n",
            "  6%|▋         | 279/4318 [00:00<00:08, 494.87it/s]\u001b[A\u001b[A\u001b[A\n",
            "\n",
            "\n",
            "  8%|▊         | 334/4318 [00:00<00:07, 511.27it/s]\u001b[A\u001b[A\u001b[A\n",
            "\n",
            "\n",
            "  9%|▉         | 386/4318 [00:00<00:07, 511.02it/s]\u001b[A\u001b[A\u001b[A\n",
            "\n",
            "\n",
            " 10%|█         | 444/4318 [00:00<00:07, 531.29it/s]\u001b[A\u001b[A\u001b[A\n",
            "\n",
            "\n",
            " 12%|█▏        | 498/4318 [00:00<00:07, 515.69it/s]\u001b[A\u001b[A\u001b[A\n",
            "\n",
            "\n",
            " 13%|█▎        | 551/4318 [00:01<00:07, 519.15it/s]\u001b[A\u001b[A\u001b[A\n",
            "\n",
            "\n",
            " 14%|█▍        | 604/4318 [00:01<00:07, 506.21it/s]\u001b[A\u001b[A\u001b[A\n",
            "\n",
            "\n",
            " 15%|█▌        | 655/4318 [00:01<00:07, 501.77it/s]\u001b[A\u001b[A\u001b[A\n",
            "\n",
            "\n",
            " 16%|█▋        | 706/4318 [00:01<00:07, 500.81it/s]\u001b[A\u001b[A\u001b[A\n",
            "\n",
            "\n",
            " 18%|█▊        | 757/4318 [00:01<00:07, 498.46it/s]\u001b[A\u001b[A\u001b[A\n",
            "\n",
            "\n",
            " 19%|█▊        | 807/4318 [00:01<00:07, 488.12it/s]\u001b[A\u001b[A\u001b[A\n",
            "\n",
            "\n",
            " 20%|█▉        | 856/4318 [00:01<00:07, 484.88it/s]\u001b[A\u001b[A\u001b[A\n",
            "\n",
            "\n",
            " 21%|██        | 905/4318 [00:01<00:07, 484.54it/s]\u001b[A\u001b[A\u001b[A\n",
            "\n",
            "\n",
            " 22%|██▏       | 954/4318 [00:01<00:07, 478.64it/s]\u001b[A\u001b[A\u001b[A\n",
            "\n",
            "\n",
            " 23%|██▎       | 1002/4318 [00:02<00:07, 469.67it/s]\u001b[A\u001b[A\u001b[A\n",
            "\n",
            "\n",
            " 24%|██▍       | 1056/4318 [00:02<00:06, 489.73it/s]\u001b[A\u001b[A\u001b[A\n",
            "\n",
            "\n",
            " 26%|██▌       | 1107/4318 [00:02<00:06, 495.51it/s]\u001b[A\u001b[A\u001b[A\n",
            "\n",
            "\n",
            " 27%|██▋       | 1169/4318 [00:02<00:05, 529.13it/s]\u001b[A\u001b[A\u001b[A\n",
            "\n",
            "\n",
            " 28%|██▊       | 1222/4318 [00:02<00:05, 519.38it/s]\u001b[A\u001b[A\u001b[A\n",
            "\n",
            "\n",
            " 30%|██▉       | 1282/4318 [00:02<00:05, 541.47it/s]\u001b[A\u001b[A\u001b[A\n",
            "\n",
            "\n",
            " 31%|███       | 1339/4318 [00:02<00:05, 547.46it/s]\u001b[A\u001b[A\u001b[A\n",
            "\n",
            "\n",
            " 32%|███▏      | 1398/4318 [00:02<00:05, 554.77it/s]\u001b[A\u001b[A\u001b[A\n",
            "\n",
            "\n",
            " 34%|███▎      | 1454/4318 [00:02<00:05, 555.51it/s]\u001b[A\u001b[A\u001b[A\n",
            "\n",
            "\n",
            " 35%|███▍      | 1510/4318 [00:02<00:05, 536.00it/s]\u001b[A\u001b[A\u001b[A\n",
            "\n",
            "\n",
            " 36%|███▌      | 1564/4318 [00:03<00:05, 509.77it/s]\u001b[A\u001b[A\u001b[A\n",
            "\n",
            "\n",
            " 37%|███▋      | 1616/4318 [00:03<00:05, 491.44it/s]\u001b[A\u001b[A\u001b[A\n",
            "\n",
            "\n",
            " 39%|███▊      | 1672/4318 [00:03<00:05, 508.76it/s]\u001b[A\u001b[A\u001b[A\n",
            "\n",
            "\n",
            " 40%|███▉      | 1724/4318 [00:03<00:05, 501.23it/s]\u001b[A\u001b[A\u001b[A\n",
            "\n",
            "\n",
            " 41%|████      | 1775/4318 [00:03<00:05, 497.21it/s]\u001b[A\u001b[A\u001b[A\n",
            "\n",
            "\n",
            " 42%|████▏     | 1825/4318 [00:03<00:05, 487.71it/s]\u001b[A\u001b[A\u001b[A\n",
            "\n",
            "\n",
            " 44%|████▎     | 1880/4318 [00:03<00:04, 501.74it/s]\u001b[A\u001b[A\u001b[A\n",
            "\n",
            "\n",
            " 45%|████▍     | 1938/4318 [00:03<00:04, 523.67it/s]\u001b[A\u001b[A\u001b[A\n",
            "\n",
            "\n",
            " 46%|████▌     | 1991/4318 [00:03<00:04, 519.46it/s]\u001b[A\u001b[A\u001b[A\n",
            "\n",
            "\n",
            " 47%|████▋     | 2044/4318 [00:04<00:04, 506.37it/s]\u001b[A\u001b[A\u001b[A\n",
            "\n",
            "\n",
            " 49%|████▊     | 2098/4318 [00:04<00:04, 514.28it/s]\u001b[A\u001b[A\u001b[A\n",
            "\n",
            "\n",
            " 50%|████▉     | 2150/4318 [00:04<00:04, 507.18it/s]\u001b[A\u001b[A\u001b[A\n",
            "\n",
            "\n",
            " 51%|█████     | 2201/4318 [00:04<00:04, 497.13it/s]\u001b[A\u001b[A\u001b[A\n",
            "\n",
            "\n",
            " 52%|█████▏    | 2260/4318 [00:04<00:03, 523.12it/s]\u001b[A\u001b[A\u001b[A\n",
            "\n",
            "\n",
            " 54%|█████▎    | 2315/4318 [00:04<00:03, 530.57it/s]\u001b[A\u001b[A\u001b[A\n",
            "\n",
            "\n",
            " 55%|█████▍    | 2369/4318 [00:04<00:03, 518.85it/s]\u001b[A\u001b[A\u001b[A\n",
            "\n",
            "\n",
            " 56%|█████▌    | 2422/4318 [00:04<00:03, 521.45it/s]\u001b[A\u001b[A\u001b[A\n",
            "\n",
            "\n",
            " 57%|█████▋    | 2479/4318 [00:04<00:03, 532.26it/s]\u001b[A\u001b[A\u001b[A\n",
            "\n",
            "\n",
            " 59%|█████▊    | 2533/4318 [00:04<00:03, 525.46it/s]\u001b[A\u001b[A\u001b[A\n",
            "\n",
            "\n",
            " 60%|█████▉    | 2586/4318 [00:05<00:03, 509.19it/s]\u001b[A\u001b[A\u001b[A\n",
            "\n",
            "\n",
            " 61%|██████▏   | 2650/4318 [00:05<00:03, 544.75it/s]\u001b[A\u001b[A\u001b[A\n",
            "\n",
            "\n",
            " 63%|██████▎   | 2705/4318 [00:05<00:03, 536.31it/s]\u001b[A\u001b[A\u001b[A\n",
            "\n",
            "\n",
            " 64%|██████▍   | 2761/4318 [00:05<00:02, 543.07it/s]\u001b[A\u001b[A\u001b[A\n",
            "\n",
            "\n",
            " 65%|██████▌   | 2822/4318 [00:05<00:02, 562.48it/s]\u001b[A\u001b[A\u001b[A\n",
            "\n",
            "\n",
            " 67%|██████▋   | 2879/4318 [00:05<00:02, 562.80it/s]\u001b[A\u001b[A\u001b[A\n",
            "\n",
            "\n",
            " 68%|██████▊   | 2937/4318 [00:05<00:02, 565.43it/s]\u001b[A\u001b[A\u001b[A\n",
            "\n",
            "\n",
            " 69%|██████▉   | 2998/4318 [00:05<00:02, 576.44it/s]\u001b[A\u001b[A\u001b[A\n",
            "\n",
            "\n",
            " 71%|███████   | 3058/4318 [00:05<00:02, 581.79it/s]\u001b[A\u001b[A\u001b[A\n",
            "\n",
            "\n",
            " 72%|███████▏  | 3117/4318 [00:05<00:02, 580.63it/s]\u001b[A\u001b[A\u001b[A\n",
            "\n",
            "\n",
            " 74%|███████▎  | 3177/4318 [00:06<00:01, 586.09it/s]\u001b[A\u001b[A\u001b[A\n",
            "\n",
            "\n",
            " 75%|███████▍  | 3236/4318 [00:06<00:01, 563.30it/s]\u001b[A\u001b[A\u001b[A\n",
            "\n",
            "\n",
            " 76%|███████▋  | 3293/4318 [00:06<00:01, 544.36it/s]\u001b[A\u001b[A\u001b[A\n",
            "\n",
            "\n",
            " 78%|███████▊  | 3348/4318 [00:06<00:01, 542.46it/s]\u001b[A\u001b[A\u001b[A\n",
            "\n",
            "\n",
            " 79%|███████▉  | 3409/4318 [00:06<00:01, 561.55it/s]\u001b[A\u001b[A\u001b[A\n",
            "\n",
            "\n",
            " 80%|████████  | 3471/4318 [00:06<00:01, 578.24it/s]\u001b[A\u001b[A\u001b[A\n",
            "\n",
            "\n",
            " 82%|████████▏ | 3530/4318 [00:06<00:01, 571.20it/s]\u001b[A\u001b[A\u001b[A\n",
            "\n",
            "\n",
            " 83%|████████▎ | 3588/4318 [00:06<00:01, 573.46it/s]\u001b[A\u001b[A\u001b[A\n",
            "\n",
            "\n",
            " 84%|████████▍ | 3646/4318 [00:06<00:01, 569.28it/s]\u001b[A\u001b[A\u001b[A\n",
            "\n",
            "\n",
            " 86%|████████▌ | 3704/4318 [00:07<00:01, 556.38it/s]\u001b[A\u001b[A\u001b[A\n",
            "\n",
            "\n",
            " 87%|████████▋ | 3763/4318 [00:07<00:00, 565.81it/s]\u001b[A\u001b[A\u001b[A\n",
            "\n",
            "\n",
            " 89%|████████▊ | 3824/4318 [00:07<00:00, 578.70it/s]\u001b[A\u001b[A\u001b[A\n",
            "\n",
            "\n",
            " 90%|████████▉ | 3882/4318 [00:07<00:00, 571.74it/s]\u001b[A\u001b[A\u001b[A\n",
            "\n",
            "\n",
            " 91%|█████████ | 3940/4318 [00:07<00:00, 573.97it/s]\u001b[A\u001b[A\u001b[A\n",
            "\n",
            "\n",
            " 93%|█████████▎| 3998/4318 [00:07<00:00, 559.58it/s]\u001b[A\u001b[A\u001b[A\n",
            "\n",
            "\n",
            " 94%|█████████▍| 4055/4318 [00:07<00:00, 557.31it/s]\u001b[A\u001b[A\u001b[A\n",
            "\n",
            "\n",
            " 95%|█████████▌| 4113/4318 [00:07<00:00, 559.30it/s]\u001b[A\u001b[A\u001b[A\n",
            "\n",
            "\n",
            " 97%|█████████▋| 4169/4318 [00:07<00:00, 536.78it/s]\u001b[A\u001b[A\u001b[A\n",
            "\n",
            "\n",
            " 98%|█████████▊| 4223/4318 [00:07<00:00, 528.24it/s]\u001b[A\u001b[A\u001b[A\n",
            "\n",
            "\n",
            "100%|██████████| 4318/4318 [00:08<00:00, 530.05it/s]\n"
          ]
        }
      ]
    },
    {
      "cell_type": "markdown",
      "source": [
        "* Getting entity pairs from preprocessed sentences"
      ],
      "metadata": {
        "id": "__wKND5I7zEM"
      }
    },
    {
      "cell_type": "code",
      "source": [
        "entity_pairs = []\n",
        "for i in tqdm(preprocessed_sentences):\n",
        "  entity_pairs.append(get_entity(i))\n",
        "tqdm._instances.clear()"
      ],
      "metadata": {
        "colab": {
          "base_uri": "https://localhost:8080/"
        },
        "id": "_k9ed7OH76cL",
        "outputId": "82d5f26c-42d7-4110-f253-f51ec3fe5724"
      },
      "execution_count": 39,
      "outputs": [
        {
          "output_type": "stream",
          "name": "stderr",
          "text": [
            "  0%|          | 0/4318 [10:16<?, ?it/s]\n",
            "100%|██████████| 4318/4318 [00:31<00:00, 137.69it/s]\n"
          ]
        }
      ]
    },
    {
      "cell_type": "code",
      "source": [
        "relations = [get_relation(i) for i in tqdm(preprocessed_sentences)]\n",
        "tqdm._instances.clear()"
      ],
      "metadata": {
        "colab": {
          "base_uri": "https://localhost:8080/"
        },
        "id": "fbSKWFvj8Krt",
        "outputId": "3fdd94e3-e936-4f22-9e76-430c4e1eaa67"
      },
      "execution_count": 40,
      "outputs": [
        {
          "output_type": "stream",
          "name": "stderr",
          "text": [
            "100%|██████████| 4318/4318 [00:31<00:00, 136.92it/s]\n"
          ]
        }
      ]
    },
    {
      "cell_type": "code",
      "source": [
        "pd.Series(relations).value_counts()[:10]"
      ],
      "metadata": {
        "colab": {
          "base_uri": "https://localhost:8080/"
        },
        "id": "thLN41cU8b5H",
        "outputId": "a2a77bb6-bb28-4d49-d3e4-49d31bd00de1"
      },
      "execution_count": 41,
      "outputs": [
        {
          "output_type": "execute_result",
          "data": {
            "text/plain": [
              "released    173\n",
              "include      81\n",
              "produced     62\n",
              "directed     52\n",
              "made         50\n",
              "film         48\n",
              "used         42\n",
              "began        35\n",
              "became       35\n",
              "included     34\n",
              "dtype: int64"
            ]
          },
          "metadata": {},
          "execution_count": 41
        }
      ]
    },
    {
      "cell_type": "markdown",
      "source": [
        "* We see above that only the important relations are present, “released” being the most common. There is no “is”, “was” and trivial words as before.This fulfils our desire if eliminating noise.\n",
        "* What if we only want Named Entities to be present? Entities like Actors, Films, Studios, Composers etc"
      ],
      "metadata": {
        "id": "kAunjIuq8mYT"
      }
    },
    {
      "cell_type": "code",
      "source": [
        "entity_pairs2 = entity_pairs\n",
        "relations2 = relations\n",
        "#We keep relations only for those entities whose both source and target are present\n",
        "entity_pairs3 = []\n",
        "relations3 = []\n",
        "for i in tqdm(range(len(entity_pairs2))):\n",
        "  if entity_pairs2[i][0]!='' and entity_pairs2[i][1]!='':\n",
        "    entity_pairs3.append(entity_pairs2[i])\n",
        "    relations3.append(relations2[i])\n",
        "tqdm._instances.clear()"
      ],
      "metadata": {
        "colab": {
          "base_uri": "https://localhost:8080/"
        },
        "id": "S2k5w1ih80OB",
        "outputId": "b4edf20c-bc27-423c-90c1-bff6c03b5e6b"
      },
      "execution_count": 42,
      "outputs": [
        {
          "output_type": "stream",
          "name": "stderr",
          "text": [
            "100%|██████████| 4318/4318 [00:00<00:00, 384832.87it/s]\n"
          ]
        }
      ]
    },
    {
      "cell_type": "code",
      "source": [
        "source = []\n",
        "target = []\n",
        "edge = []\n",
        "for i in (range(len(entity_pairs))):\n",
        "  doc_source = nlp(entity_pairs[i][0]).ents #Getting the named entities for source\n",
        "  #Converting the named entity tuple to String\n",
        "  str_source = [str(word) for word in doc_source]\n",
        "  doc_source = ' '.join(str_source)\n",
        "  doc_target = nlp(entity_pairs[i][1]).ents #Getting the named entities for target\n",
        "  #Converting the named entity tuple to String\n",
        "  str_target = [str(word) for word in doc_target]\n",
        "  doc_target = ' '.join(str_target)\n",
        "  if doc_source != '' or doc_target != '':\n",
        "    edge.append(relations[i])\n",
        "    source.append(entity_pairs[i][0])\n",
        "    target.append(entity_pairs[i][1])"
      ],
      "metadata": {
        "id": "Mqh2dvN_85r2"
      },
      "execution_count": 45,
      "outputs": []
    },
    {
      "cell_type": "markdown",
      "source": [
        "* We had obtained entity pairs before but they had many irrelevant words. We narrowed them down quite a bit by preprocessing. Now, we obtain the named entity pairs which will form source and target respectively.\n",
        "* It looks like (source, target, edge). We prune this further by removing all the data which have neither source or target entity as a Named Entity. We keep the rest. The Relations that were extracted before form the edge"
      ],
      "metadata": {
        "id": "zsfYtbSA9AJ8"
      }
    },
    {
      "cell_type": "markdown",
      "source": [
        "* Now, we find the most popular Source , Target and Relations"
      ],
      "metadata": {
        "id": "nY3euoJP9GZk"
      }
    },
    {
      "cell_type": "code",
      "source": [
        "print(\"###################  Most popular source entites    ###################### \\n\",pd.Series(source).value_counts()[:5])\n",
        "print(\"###################  Most popular target entites    ###################### \\n\",pd.Series(target).value_counts()[:10])\n",
        "print(\"###################  Most popular relations         ###################### \\n\",pd.Series(relations).value_counts()[:20])\n",
        "###################  Most popular source entites    ###################### "
      ],
      "metadata": {
        "colab": {
          "base_uri": "https://localhost:8080/"
        },
        "id": "dlzC5s-A9OXs",
        "outputId": "e143e154-4191-4016-9243-2097f730a033"
      },
      "execution_count": 48,
      "outputs": [
        {
          "output_type": "stream",
          "name": "stdout",
          "text": [
            "###################  Most popular source entites    ###################### \n",
            "                165\n",
            "film            64\n",
            "khan            10\n",
            "first  film      9\n",
            "movie            6\n",
            "dtype: int64\n",
            "###################  Most popular target entites    ###################### \n",
            "                                242\n",
            "warner bros                      7\n",
            "national film awards             5\n",
            "positive box office success      4\n",
            "surviving studio india           4\n",
            "film                             4\n",
            "october                          3\n",
            "international film festival      3\n",
            "british film institute           3\n",
            "2  may                           3\n",
            "dtype: int64\n",
            "###################  Most popular relations         ###################### \n",
            " released      173\n",
            "include        81\n",
            "produced       62\n",
            "directed       52\n",
            "made           50\n",
            "film           48\n",
            "used           42\n",
            "began          35\n",
            "became         35\n",
            "included       34\n",
            "films          32\n",
            "composed       31\n",
            "become         30\n",
            "written        27\n",
            "shot           27\n",
            "received       26\n",
            "set            26\n",
            "introduced     25\n",
            "called         22\n",
            "considered     22\n",
            "dtype: int64\n"
          ]
        }
      ]
    },
    {
      "cell_type": "markdown",
      "source": [
        "**Constructing the Knowledge Graph**\n",
        "* We first take the knowledge graph in a pandas dataframe. It will be a directional graph."
      ],
      "metadata": {
        "id": "05q18_RXA8tz"
      }
    },
    {
      "cell_type": "code",
      "source": [
        "knowledge_graph_df = pd.DataFrame({'source':source, 'target':target, 'edge':edge})\n",
        "#knowledge_graph_df.head()\n",
        "knowledge_graph_df.head()\n",
        "#MultiDIGRaph because its a directional graph"
      ],
      "metadata": {
        "colab": {
          "base_uri": "https://localhost:8080/",
          "height": 206
        },
        "id": "KTxfm9jqBEa9",
        "outputId": "4b071606-844a-4d3c-c843-4e49ae68df24"
      },
      "execution_count": 51,
      "outputs": [
        {
          "output_type": "execute_result",
          "data": {
            "text/html": [
              "\n",
              "  <div id=\"df-9a1134ae-276d-4f0d-b0b3-7032f72f7e3e\">\n",
              "    <div class=\"colab-df-container\">\n",
              "      <div>\n",
              "<style scoped>\n",
              "    .dataframe tbody tr th:only-of-type {\n",
              "        vertical-align: middle;\n",
              "    }\n",
              "\n",
              "    .dataframe tbody tr th {\n",
              "        vertical-align: top;\n",
              "    }\n",
              "\n",
              "    .dataframe thead th {\n",
              "        text-align: right;\n",
              "    }\n",
              "</style>\n",
              "<table border=\"1\" class=\"dataframe\">\n",
              "  <thead>\n",
              "    <tr style=\"text-align: right;\">\n",
              "      <th></th>\n",
              "      <th>source</th>\n",
              "      <th>target</th>\n",
              "      <th>edge</th>\n",
              "    </tr>\n",
              "  </thead>\n",
              "  <tbody>\n",
              "    <tr>\n",
              "      <th>0</th>\n",
              "      <td>frustrated connie decides</td>\n",
              "      <td></td>\n",
              "      <td>leave</td>\n",
              "    </tr>\n",
              "    <tr>\n",
              "      <th>1</th>\n",
              "      <td>christian</td>\n",
              "      <td></td>\n",
              "      <td>elder</td>\n",
              "    </tr>\n",
              "    <tr>\n",
              "      <th>2</th>\n",
              "      <td>c. mackenzie craig vincent</td>\n",
              "      <td></td>\n",
              "      <td>joined</td>\n",
              "    </tr>\n",
              "    <tr>\n",
              "      <th>3</th>\n",
              "      <td>sebastian maniscalco paul benvictor</td>\n",
              "      <td></td>\n",
              "      <td>revealed</td>\n",
              "    </tr>\n",
              "    <tr>\n",
              "      <th>4</th>\n",
              "      <td>canadian robbie robertson</td>\n",
              "      <td>canadian  soundtrack</td>\n",
              "      <td>supervised</td>\n",
              "    </tr>\n",
              "  </tbody>\n",
              "</table>\n",
              "</div>\n",
              "      <button class=\"colab-df-convert\" onclick=\"convertToInteractive('df-9a1134ae-276d-4f0d-b0b3-7032f72f7e3e')\"\n",
              "              title=\"Convert this dataframe to an interactive table.\"\n",
              "              style=\"display:none;\">\n",
              "        \n",
              "  <svg xmlns=\"http://www.w3.org/2000/svg\" height=\"24px\"viewBox=\"0 0 24 24\"\n",
              "       width=\"24px\">\n",
              "    <path d=\"M0 0h24v24H0V0z\" fill=\"none\"/>\n",
              "    <path d=\"M18.56 5.44l.94 2.06.94-2.06 2.06-.94-2.06-.94-.94-2.06-.94 2.06-2.06.94zm-11 1L8.5 8.5l.94-2.06 2.06-.94-2.06-.94L8.5 2.5l-.94 2.06-2.06.94zm10 10l.94 2.06.94-2.06 2.06-.94-2.06-.94-.94-2.06-.94 2.06-2.06.94z\"/><path d=\"M17.41 7.96l-1.37-1.37c-.4-.4-.92-.59-1.43-.59-.52 0-1.04.2-1.43.59L10.3 9.45l-7.72 7.72c-.78.78-.78 2.05 0 2.83L4 21.41c.39.39.9.59 1.41.59.51 0 1.02-.2 1.41-.59l7.78-7.78 2.81-2.81c.8-.78.8-2.07 0-2.86zM5.41 20L4 18.59l7.72-7.72 1.47 1.35L5.41 20z\"/>\n",
              "  </svg>\n",
              "      </button>\n",
              "      \n",
              "  <style>\n",
              "    .colab-df-container {\n",
              "      display:flex;\n",
              "      flex-wrap:wrap;\n",
              "      gap: 12px;\n",
              "    }\n",
              "\n",
              "    .colab-df-convert {\n",
              "      background-color: #E8F0FE;\n",
              "      border: none;\n",
              "      border-radius: 50%;\n",
              "      cursor: pointer;\n",
              "      display: none;\n",
              "      fill: #1967D2;\n",
              "      height: 32px;\n",
              "      padding: 0 0 0 0;\n",
              "      width: 32px;\n",
              "    }\n",
              "\n",
              "    .colab-df-convert:hover {\n",
              "      background-color: #E2EBFA;\n",
              "      box-shadow: 0px 1px 2px rgba(60, 64, 67, 0.3), 0px 1px 3px 1px rgba(60, 64, 67, 0.15);\n",
              "      fill: #174EA6;\n",
              "    }\n",
              "\n",
              "    [theme=dark] .colab-df-convert {\n",
              "      background-color: #3B4455;\n",
              "      fill: #D2E3FC;\n",
              "    }\n",
              "\n",
              "    [theme=dark] .colab-df-convert:hover {\n",
              "      background-color: #434B5C;\n",
              "      box-shadow: 0px 1px 3px 1px rgba(0, 0, 0, 0.15);\n",
              "      filter: drop-shadow(0px 1px 2px rgba(0, 0, 0, 0.3));\n",
              "      fill: #FFFFFF;\n",
              "    }\n",
              "  </style>\n",
              "\n",
              "      <script>\n",
              "        const buttonEl =\n",
              "          document.querySelector('#df-9a1134ae-276d-4f0d-b0b3-7032f72f7e3e button.colab-df-convert');\n",
              "        buttonEl.style.display =\n",
              "          google.colab.kernel.accessAllowed ? 'block' : 'none';\n",
              "\n",
              "        async function convertToInteractive(key) {\n",
              "          const element = document.querySelector('#df-9a1134ae-276d-4f0d-b0b3-7032f72f7e3e');\n",
              "          const dataTable =\n",
              "            await google.colab.kernel.invokeFunction('convertToInteractive',\n",
              "                                                     [key], {});\n",
              "          if (!dataTable) return;\n",
              "\n",
              "          const docLinkHtml = 'Like what you see? Visit the ' +\n",
              "            '<a target=\"_blank\" href=https://colab.research.google.com/notebooks/data_table.ipynb>data table notebook</a>'\n",
              "            + ' to learn more about interactive tables.';\n",
              "          element.innerHTML = '';\n",
              "          dataTable['output_type'] = 'display_data';\n",
              "          await google.colab.output.renderOutput(dataTable, element);\n",
              "          const docLink = document.createElement('div');\n",
              "          docLink.innerHTML = docLinkHtml;\n",
              "          element.appendChild(docLink);\n",
              "        }\n",
              "      </script>\n",
              "    </div>\n",
              "  </div>\n",
              "  "
            ],
            "text/plain": [
              "                                source                target        edge\n",
              "0            frustrated connie decides                             leave\n",
              "1                            christian                             elder\n",
              "2           c. mackenzie craig vincent                            joined\n",
              "3  sebastian maniscalco paul benvictor                          revealed\n",
              "4            canadian robbie robertson  canadian  soundtrack  supervised"
            ]
          },
          "metadata": {},
          "execution_count": 51
        }
      ]
    },
    {
      "cell_type": "code",
      "source": [
        "knowledge_graph_df[knowledge_graph_df['source']==\"khan\"]"
      ],
      "metadata": {
        "colab": {
          "base_uri": "https://localhost:8080/",
          "height": 363
        },
        "id": "80UiC_9oBEll",
        "outputId": "7413b51c-496e-46b2-caa1-529b5644754b"
      },
      "execution_count": 52,
      "outputs": [
        {
          "output_type": "execute_result",
          "data": {
            "text/html": [
              "\n",
              "  <div id=\"df-78a4f3df-862f-4acc-a5e9-286c266d8da7\">\n",
              "    <div class=\"colab-df-container\">\n",
              "      <div>\n",
              "<style scoped>\n",
              "    .dataframe tbody tr th:only-of-type {\n",
              "        vertical-align: middle;\n",
              "    }\n",
              "\n",
              "    .dataframe tbody tr th {\n",
              "        vertical-align: top;\n",
              "    }\n",
              "\n",
              "    .dataframe thead th {\n",
              "        text-align: right;\n",
              "    }\n",
              "</style>\n",
              "<table border=\"1\" class=\"dataframe\">\n",
              "  <thead>\n",
              "    <tr style=\"text-align: right;\">\n",
              "      <th></th>\n",
              "      <th>source</th>\n",
              "      <th>target</th>\n",
              "      <th>edge</th>\n",
              "    </tr>\n",
              "  </thead>\n",
              "  <tbody>\n",
              "    <tr>\n",
              "      <th>317</th>\n",
              "      <td>khan</td>\n",
              "      <td>2010 sharma film veer</td>\n",
              "      <td>release</td>\n",
              "    </tr>\n",
              "    <tr>\n",
              "      <th>319</th>\n",
              "      <td>khan</td>\n",
              "      <td>first  2011</td>\n",
              "      <td>release</td>\n",
              "    </tr>\n",
              "    <tr>\n",
              "      <th>323</th>\n",
              "      <td>khan</td>\n",
              "      <td>9 bigg boss</td>\n",
              "      <td>hosted</td>\n",
              "    </tr>\n",
              "    <tr>\n",
              "      <th>326</th>\n",
              "      <td>khan</td>\n",
              "      <td>galaxy apartments</td>\n",
              "      <td>resides</td>\n",
              "    </tr>\n",
              "    <tr>\n",
              "      <th>327</th>\n",
              "      <td>khan</td>\n",
              "      <td>actress katrina kaif</td>\n",
              "      <td>started</td>\n",
              "    </tr>\n",
              "    <tr>\n",
              "      <th>333</th>\n",
              "      <td>khan</td>\n",
              "      <td>2010 sharma film veer</td>\n",
              "      <td>release</td>\n",
              "    </tr>\n",
              "    <tr>\n",
              "      <th>335</th>\n",
              "      <td>khan</td>\n",
              "      <td>first  2011</td>\n",
              "      <td>release</td>\n",
              "    </tr>\n",
              "    <tr>\n",
              "      <th>339</th>\n",
              "      <td>khan</td>\n",
              "      <td>9 bigg boss</td>\n",
              "      <td>hosted</td>\n",
              "    </tr>\n",
              "    <tr>\n",
              "      <th>342</th>\n",
              "      <td>khan</td>\n",
              "      <td>galaxy apartments</td>\n",
              "      <td>resides</td>\n",
              "    </tr>\n",
              "    <tr>\n",
              "      <th>343</th>\n",
              "      <td>khan</td>\n",
              "      <td>actress katrina kaif</td>\n",
              "      <td>started</td>\n",
              "    </tr>\n",
              "  </tbody>\n",
              "</table>\n",
              "</div>\n",
              "      <button class=\"colab-df-convert\" onclick=\"convertToInteractive('df-78a4f3df-862f-4acc-a5e9-286c266d8da7')\"\n",
              "              title=\"Convert this dataframe to an interactive table.\"\n",
              "              style=\"display:none;\">\n",
              "        \n",
              "  <svg xmlns=\"http://www.w3.org/2000/svg\" height=\"24px\"viewBox=\"0 0 24 24\"\n",
              "       width=\"24px\">\n",
              "    <path d=\"M0 0h24v24H0V0z\" fill=\"none\"/>\n",
              "    <path d=\"M18.56 5.44l.94 2.06.94-2.06 2.06-.94-2.06-.94-.94-2.06-.94 2.06-2.06.94zm-11 1L8.5 8.5l.94-2.06 2.06-.94-2.06-.94L8.5 2.5l-.94 2.06-2.06.94zm10 10l.94 2.06.94-2.06 2.06-.94-2.06-.94-.94-2.06-.94 2.06-2.06.94z\"/><path d=\"M17.41 7.96l-1.37-1.37c-.4-.4-.92-.59-1.43-.59-.52 0-1.04.2-1.43.59L10.3 9.45l-7.72 7.72c-.78.78-.78 2.05 0 2.83L4 21.41c.39.39.9.59 1.41.59.51 0 1.02-.2 1.41-.59l7.78-7.78 2.81-2.81c.8-.78.8-2.07 0-2.86zM5.41 20L4 18.59l7.72-7.72 1.47 1.35L5.41 20z\"/>\n",
              "  </svg>\n",
              "      </button>\n",
              "      \n",
              "  <style>\n",
              "    .colab-df-container {\n",
              "      display:flex;\n",
              "      flex-wrap:wrap;\n",
              "      gap: 12px;\n",
              "    }\n",
              "\n",
              "    .colab-df-convert {\n",
              "      background-color: #E8F0FE;\n",
              "      border: none;\n",
              "      border-radius: 50%;\n",
              "      cursor: pointer;\n",
              "      display: none;\n",
              "      fill: #1967D2;\n",
              "      height: 32px;\n",
              "      padding: 0 0 0 0;\n",
              "      width: 32px;\n",
              "    }\n",
              "\n",
              "    .colab-df-convert:hover {\n",
              "      background-color: #E2EBFA;\n",
              "      box-shadow: 0px 1px 2px rgba(60, 64, 67, 0.3), 0px 1px 3px 1px rgba(60, 64, 67, 0.15);\n",
              "      fill: #174EA6;\n",
              "    }\n",
              "\n",
              "    [theme=dark] .colab-df-convert {\n",
              "      background-color: #3B4455;\n",
              "      fill: #D2E3FC;\n",
              "    }\n",
              "\n",
              "    [theme=dark] .colab-df-convert:hover {\n",
              "      background-color: #434B5C;\n",
              "      box-shadow: 0px 1px 3px 1px rgba(0, 0, 0, 0.15);\n",
              "      filter: drop-shadow(0px 1px 2px rgba(0, 0, 0, 0.3));\n",
              "      fill: #FFFFFF;\n",
              "    }\n",
              "  </style>\n",
              "\n",
              "      <script>\n",
              "        const buttonEl =\n",
              "          document.querySelector('#df-78a4f3df-862f-4acc-a5e9-286c266d8da7 button.colab-df-convert');\n",
              "        buttonEl.style.display =\n",
              "          google.colab.kernel.accessAllowed ? 'block' : 'none';\n",
              "\n",
              "        async function convertToInteractive(key) {\n",
              "          const element = document.querySelector('#df-78a4f3df-862f-4acc-a5e9-286c266d8da7');\n",
              "          const dataTable =\n",
              "            await google.colab.kernel.invokeFunction('convertToInteractive',\n",
              "                                                     [key], {});\n",
              "          if (!dataTable) return;\n",
              "\n",
              "          const docLinkHtml = 'Like what you see? Visit the ' +\n",
              "            '<a target=\"_blank\" href=https://colab.research.google.com/notebooks/data_table.ipynb>data table notebook</a>'\n",
              "            + ' to learn more about interactive tables.';\n",
              "          element.innerHTML = '';\n",
              "          dataTable['output_type'] = 'display_data';\n",
              "          await google.colab.output.renderOutput(dataTable, element);\n",
              "          const docLink = document.createElement('div');\n",
              "          docLink.innerHTML = docLinkHtml;\n",
              "          element.appendChild(docLink);\n",
              "        }\n",
              "      </script>\n",
              "    </div>\n",
              "  </div>\n",
              "  "
            ],
            "text/plain": [
              "    source                 target     edge\n",
              "317   khan  2010 sharma film veer  release\n",
              "319   khan            first  2011  release\n",
              "323   khan            9 bigg boss   hosted\n",
              "326   khan      galaxy apartments  resides\n",
              "327   khan   actress katrina kaif  started\n",
              "333   khan  2010 sharma film veer  release\n",
              "335   khan            first  2011  release\n",
              "339   khan            9 bigg boss   hosted\n",
              "342   khan      galaxy apartments  resides\n",
              "343   khan   actress katrina kaif  started"
            ]
          },
          "metadata": {},
          "execution_count": 52
        }
      ]
    },
    {
      "cell_type": "code",
      "source": [
        "pip install network\n"
      ],
      "metadata": {
        "colab": {
          "base_uri": "https://localhost:8080/"
        },
        "id": "GFMYYgCECF7A",
        "outputId": "03511f37-cf6c-4387-94e2-e2cc54daf75c"
      },
      "execution_count": 60,
      "outputs": [
        {
          "output_type": "stream",
          "name": "stdout",
          "text": [
            "Requirement already satisfied: network in /usr/local/lib/python3.7/dist-packages (0.1)\n"
          ]
        }
      ]
    },
    {
      "cell_type": "code",
      "source": [
        "import networkx as nx\n",
        "import matplotlib.pyplot as plt\n",
        "G = nx.from_pandas_edgelist(knowledge_graph_df[knowledge_graph_df['source']==\"khan\"],source = 'source', target = 'target', edge_attr = True, create_using= nx.MultiDiGraph())\n",
        "#MultiDIGRaph because its a directional graph\n",
        "plt.figure(figsize = (10,10))\n",
        "pox = nx.spring_layout(G,k = 1.0) #k defines the distnace between nodes\n",
        "nx.draw(G, with_labels= True, node_size = 2500)\n",
        "plt.show()\n"
      ],
      "metadata": {
        "colab": {
          "base_uri": "https://localhost:8080/",
          "height": 751
        },
        "id": "dYxJHV--BeIO",
        "outputId": "6711a4c0-e6f4-4b63-fe40-4c545d88765f"
      },
      "execution_count": 61,
      "outputs": [
        {
          "output_type": "display_data",
          "data": {
            "image/png": "[encoded data removed]",
            "text/plain": [
              "<Figure size 720x720 with 1 Axes>"
            ]
          },
          "metadata": {}
        }
      ]
    }
  ],
  "metadata": {
    "colab": {
      "name": "graph_wikipedia_actors_dataset.ipynb",
      "provenance": [],
      "mount_file_id": "1oh_HS9k7LtTSmSnzy6e4vM2d9WEgOcHE",
      "authorship_tag": "ABX9TyOM1YWY+N4hicehctUEi0l2",
      "include_colab_link": true
    },
    "kernelspec": {
      "display_name": "Python 3",
      "name": "python3"
    },
    "language_info": {
      "name": "python"
    }
  },
  "nbformat": 4,
  "nbformat_minor": 0
}